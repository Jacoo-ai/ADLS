{
 "cells": [
  {
   "cell_type": "markdown",
   "metadata": {},
   "source": [
    "### Task 2"
   ]
  },
  {
   "cell_type": "code",
   "execution_count": 2,
   "metadata": {},
   "outputs": [
    {
     "name": "stdout",
     "output_type": "stream",
     "text": [
      "Naive model: 0.6493 s\n",
      "Fused model: 0.0252 s\n"
     ]
    }
   ],
   "source": [
    "import math\n",
    "import torch\n",
    "import torch.nn.functional as F\n",
    "import torch\n",
    "import time\n",
    "from chop.models import get_model\n",
    "from chop.dataset import get_dataset_info\n",
    "\n",
    "\n",
    "def timed_gpu(fn):\n",
    "    start = torch.cuda.Event(enable_timing=True)\n",
    "    end = torch.cuda.Event(enable_timing=True)\n",
    "    start.record()\n",
    "    result = fn()\n",
    "    end.record()\n",
    "    torch.cuda.synchronize()\n",
    "    return result, start.elapsed_time(end) / 1000\n",
    "\n",
    "\n",
    "def timed_cpu(fn):\n",
    "    start = time.time()\n",
    "    result = fn()\n",
    "    return result, time.time() - start\n",
    "\n",
    "\n",
    "def get_data(device=\"cpu\"):\n",
    "    query = torch.ones(32, 8, 128, 64, dtype=torch.bfloat16, device=device)  # float16改成了bfloat16\n",
    "    key = torch.ones(32, 8, 128, 64, dtype=torch.bfloat16, device=device)\n",
    "    value = torch.ones(32, 8, 128, 64, dtype=torch.bfloat16, device=device)\n",
    "    return [query, key, value]\n",
    "\n",
    "\n",
    "def time_model(fn, n=1000, device=\"cpu\"):\n",
    "    times = []\n",
    "    data = get_data(device=device)\n",
    "    for _ in range(n):\n",
    "        if device == \"cpu\":\n",
    "            _, t = timed_cpu(lambda: fn(data[0].cpu(), data[1].cpu(), data[2].cpu()))\n",
    "        else:\n",
    "            _, t = timed_gpu(lambda: fn(data[0], data[1], data[2]))\n",
    "        times.append(t)\n",
    "    avg_time = sum(times) / len(times)\n",
    "    return avg_time\n",
    "\n",
    "\n",
    "class ScaledDotProductAttention(torch.nn.Module):\n",
    "    def __init__(self):\n",
    "        super(ScaledDotProductAttention, self).__init__()\n",
    "\n",
    "    def forward(self, query, key, value):\n",
    "        scale_factor = 1 / math.sqrt(query.size(-1))\n",
    "        score = query @ key.transpose(-2, -1) * scale_factor\n",
    "        attn = F.softmax(score, -1)\n",
    "        context = attn @ value\n",
    "        return context\n",
    "\n",
    "\n",
    "class ScaledDotProductAttentionFused(torch.nn.Module):\n",
    "    def forward(self, query, key, value):\n",
    "        return F.scaled_dot_product_attention(query, key, value)\n",
    "\n",
    "\n",
    "device = \"cpu\"\n",
    "n = 100\n",
    "\n",
    "model_naive = ScaledDotProductAttention()\n",
    "model_fused = ScaledDotProductAttentionFused()\n",
    "\n",
    "model_naive.to(device)\n",
    "model_fused.to(device)\n",
    "avg_t = time_model(model_naive, n=n, device=device)\n",
    "fused_avg_t = time_model(model_fused, n=n, device=device)\n",
    "print(f\"Naive model: {avg_t:.4f} s\")\n",
    "print(f\"Fused model: {fused_avg_t:.4f} s\")\n",
    "\n",
    "\n",
    "# cpu:\n",
    "# Naive model: 0.6486 s\n",
    "# Fused model: 0.0248 s\n",
    "\n",
    "# gpu:\n",
    "# Naive model: 0.0020 s\n",
    "# Fused model: 0.0003 s"
   ]
  }
 ],
 "metadata": {
  "kernelspec": {
   "display_name": "mase",
   "language": "python",
   "name": "python3"
  },
  "language_info": {
   "codemirror_mode": {
    "name": "ipython",
    "version": 3
   },
   "file_extension": ".py",
   "mimetype": "text/x-python",
   "name": "python",
   "nbconvert_exporter": "python",
   "pygments_lexer": "ipython3",
   "version": "3.11.9"
  }
 },
 "nbformat": 4,
 "nbformat_minor": 2
}
