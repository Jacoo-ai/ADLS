{
 "cells": [
  {
   "cell_type": "markdown",
   "metadata": {},
   "source": [
    "### Task 1"
   ]
  },
  {
   "cell_type": "code",
   "execution_count": 4,
   "metadata": {},
   "outputs": [
    {
     "name": "stderr",
     "output_type": "stream",
     "text": [
      "\u001b[32mINFO    \u001b[0m \u001b[34mTokenizing dataset imdb with AutoTokenizer for bert-base-uncased.\u001b[0m\n",
      "/srcPkgs/miniconda3/envs/mase/lib/python3.11/site-packages/huggingface_hub/file_download.py:795: FutureWarning: `resume_download` is deprecated and will be removed in version 1.0.0. Downloads always resume when possible. If you want to force a new download, use `force_download=True`.\n",
      "  warnings.warn(\n",
      "[I 2025-01-31 01:58:58,658] A new study created in memory with name: bert-tiny-nas-study\n",
      "You're using a BertTokenizerFast tokenizer. Please note that with a fast tokenizer, using the `__call__` method is faster than using a method to encode the text followed by a call to the `pad` method to get a padded encoding.\n"
     ]
    },
    {
     "data": {
      "text/html": [
       "\n",
       "    <div>\n",
       "      \n",
       "      <progress value='3125' max='3125' style='width:300px; height:20px; vertical-align: middle;'></progress>\n",
       "      [3125/3125 01:51, Epoch 1/1]\n",
       "    </div>\n",
       "    <table border=\"1\" class=\"dataframe\">\n",
       "  <thead>\n",
       " <tr style=\"text-align: left;\">\n",
       "      <th>Step</th>\n",
       "      <th>Training Loss</th>\n",
       "    </tr>\n",
       "  </thead>\n",
       "  <tbody>\n",
       "    <tr>\n",
       "      <td>500</td>\n",
       "      <td>0.310700</td>\n",
       "    </tr>\n",
       "    <tr>\n",
       "      <td>1000</td>\n",
       "      <td>0.271500</td>\n",
       "    </tr>\n",
       "    <tr>\n",
       "      <td>1500</td>\n",
       "      <td>0.297200</td>\n",
       "    </tr>\n",
       "    <tr>\n",
       "      <td>2000</td>\n",
       "      <td>0.315000</td>\n",
       "    </tr>\n",
       "    <tr>\n",
       "      <td>2500</td>\n",
       "      <td>0.302700</td>\n",
       "    </tr>\n",
       "    <tr>\n",
       "      <td>3000</td>\n",
       "      <td>0.340600</td>\n",
       "    </tr>\n",
       "  </tbody>\n",
       "</table><p>"
      ],
      "text/plain": [
       "<IPython.core.display.HTML object>"
      ]
     },
     "metadata": {},
     "output_type": "display_data"
    },
    {
     "data": {
      "text/html": [
       "\n",
       "    <div>\n",
       "      \n",
       "      <progress value='3125' max='3125' style='width:300px; height:20px; vertical-align: middle;'></progress>\n",
       "      [3125/3125 00:52]\n",
       "    </div>\n",
       "    "
      ],
      "text/plain": [
       "<IPython.core.display.HTML object>"
      ]
     },
     "metadata": {},
     "output_type": "display_data"
    },
    {
     "name": "stderr",
     "output_type": "stream",
     "text": [
      "[I 2025-01-31 02:01:44,483] Trial 0 finished with value: 0.87376 and parameters: {'bert.encoder.layer.0.attention.self.key_type': 'LinearInteger', 'bert.encoder.layer.0.attention.self.key_data_in_width': 16, 'bert.encoder.layer.0.attention.self.key_data_in_frac_width': 2, 'bert.encoder.layer.0.attention.self.key_weight_width': 16, 'bert.encoder.layer.0.attention.self.key_weight_frac_width': 8, 'bert.encoder.layer.0.attention.self.key_bias_width': 16, 'bert.encoder.layer.0.attention.self.key_bias_frac_width': 2, 'bert.encoder.layer.0.attention.self.value_type': 'torch.nn.Linear', 'bert.encoder.layer.0.attention.output.dense_type': 'torch.nn.Linear', 'bert.encoder.layer.0.intermediate.dense_type': 'torch.nn.Linear', 'bert.encoder.layer.0.output.dense_type': 'torch.nn.Linear', 'bert.encoder.layer.1.attention.self.query_type': 'LinearInteger', 'bert.encoder.layer.1.attention.self.query_data_in_width': 32, 'bert.encoder.layer.1.attention.self.query_data_in_frac_width': 2, 'bert.encoder.layer.1.attention.self.query_weight_width': 8, 'bert.encoder.layer.1.attention.self.query_weight_frac_width': 8, 'bert.encoder.layer.1.attention.self.query_bias_width': 32, 'bert.encoder.layer.1.attention.self.query_bias_frac_width': 8, 'bert.encoder.layer.1.attention.self.value_type': 'torch.nn.Linear', 'bert.encoder.layer.1.attention.output.dense_type': 'torch.nn.Linear', 'bert.encoder.layer.1.intermediate.dense_type': 'LinearInteger', 'bert.encoder.layer.1.intermediate.dense_data_in_width': 32, 'bert.encoder.layer.1.intermediate.dense_data_in_frac_width': 2, 'bert.encoder.layer.1.intermediate.dense_weight_width': 32, 'bert.encoder.layer.1.intermediate.dense_weight_frac_width': 4, 'bert.encoder.layer.1.intermediate.dense_bias_width': 16, 'bert.encoder.layer.1.intermediate.dense_bias_frac_width': 2, 'bert.encoder.layer.1.output.dense_type': 'LinearInteger', 'bert.encoder.layer.1.output.dense_data_in_width': 8, 'bert.encoder.layer.1.output.dense_data_in_frac_width': 8, 'bert.encoder.layer.1.output.dense_weight_width': 16, 'bert.encoder.layer.1.output.dense_weight_frac_width': 2, 'bert.encoder.layer.1.output.dense_bias_width': 8, 'bert.encoder.layer.1.output.dense_bias_frac_width': 8, 'classifier_type': 'torch.nn.Linear'}. Best is trial 0 with value: 0.87376.\n"
     ]
    },
    {
     "data": {
      "text/html": [
       "\n",
       "    <div>\n",
       "      \n",
       "      <progress value='3125' max='3125' style='width:300px; height:20px; vertical-align: middle;'></progress>\n",
       "      [3125/3125 01:55, Epoch 1/1]\n",
       "    </div>\n",
       "    <table border=\"1\" class=\"dataframe\">\n",
       "  <thead>\n",
       " <tr style=\"text-align: left;\">\n",
       "      <th>Step</th>\n",
       "      <th>Training Loss</th>\n",
       "    </tr>\n",
       "  </thead>\n",
       "  <tbody>\n",
       "    <tr>\n",
       "      <td>500</td>\n",
       "      <td>0.343400</td>\n",
       "    </tr>\n",
       "    <tr>\n",
       "      <td>1000</td>\n",
       "      <td>0.289500</td>\n",
       "    </tr>\n",
       "    <tr>\n",
       "      <td>1500</td>\n",
       "      <td>0.312100</td>\n",
       "    </tr>\n",
       "    <tr>\n",
       "      <td>2000</td>\n",
       "      <td>0.331800</td>\n",
       "    </tr>\n",
       "    <tr>\n",
       "      <td>2500</td>\n",
       "      <td>0.310400</td>\n",
       "    </tr>\n",
       "    <tr>\n",
       "      <td>3000</td>\n",
       "      <td>0.344100</td>\n",
       "    </tr>\n",
       "  </tbody>\n",
       "</table><p>"
      ],
      "text/plain": [
       "<IPython.core.display.HTML object>"
      ]
     },
     "metadata": {},
     "output_type": "display_data"
    },
    {
     "data": {
      "text/html": [
       "\n",
       "    <div>\n",
       "      \n",
       "      <progress value='3125' max='3125' style='width:300px; height:20px; vertical-align: middle;'></progress>\n",
       "      [3125/3125 00:54]\n",
       "    </div>\n",
       "    "
      ],
      "text/plain": [
       "<IPython.core.display.HTML object>"
      ]
     },
     "metadata": {},
     "output_type": "display_data"
    },
    {
     "name": "stderr",
     "output_type": "stream",
     "text": [
      "[I 2025-01-31 02:04:36,617] Trial 1 finished with value: 0.87192 and parameters: {'bert.encoder.layer.0.attention.self.key_type': 'torch.nn.Linear', 'bert.encoder.layer.0.attention.self.value_type': 'LinearInteger', 'bert.encoder.layer.0.attention.self.value_data_in_width': 16, 'bert.encoder.layer.0.attention.self.value_data_in_frac_width': 2, 'bert.encoder.layer.0.attention.self.value_weight_width': 16, 'bert.encoder.layer.0.attention.self.value_weight_frac_width': 2, 'bert.encoder.layer.0.attention.self.value_bias_width': 8, 'bert.encoder.layer.0.attention.self.value_bias_frac_width': 4, 'bert.encoder.layer.0.attention.output.dense_type': 'LinearInteger', 'bert.encoder.layer.0.attention.output.dense_data_in_width': 16, 'bert.encoder.layer.0.attention.output.dense_data_in_frac_width': 2, 'bert.encoder.layer.0.attention.output.dense_weight_width': 16, 'bert.encoder.layer.0.attention.output.dense_weight_frac_width': 2, 'bert.encoder.layer.0.attention.output.dense_bias_width': 8, 'bert.encoder.layer.0.attention.output.dense_bias_frac_width': 4, 'bert.encoder.layer.0.intermediate.dense_type': 'LinearInteger', 'bert.encoder.layer.0.intermediate.dense_data_in_width': 16, 'bert.encoder.layer.0.intermediate.dense_data_in_frac_width': 4, 'bert.encoder.layer.0.intermediate.dense_weight_width': 8, 'bert.encoder.layer.0.intermediate.dense_weight_frac_width': 2, 'bert.encoder.layer.0.intermediate.dense_bias_width': 8, 'bert.encoder.layer.0.intermediate.dense_bias_frac_width': 4, 'bert.encoder.layer.0.output.dense_type': 'torch.nn.Linear', 'bert.encoder.layer.1.attention.self.query_type': 'torch.nn.Linear', 'bert.encoder.layer.1.attention.self.value_type': 'LinearInteger', 'bert.encoder.layer.1.attention.self.value_data_in_width': 8, 'bert.encoder.layer.1.attention.self.value_data_in_frac_width': 2, 'bert.encoder.layer.1.attention.self.value_weight_width': 32, 'bert.encoder.layer.1.attention.self.value_weight_frac_width': 8, 'bert.encoder.layer.1.attention.self.value_bias_width': 8, 'bert.encoder.layer.1.attention.self.value_bias_frac_width': 4, 'bert.encoder.layer.1.attention.output.dense_type': 'torch.nn.Linear', 'bert.encoder.layer.1.intermediate.dense_type': 'torch.nn.Linear', 'bert.encoder.layer.1.output.dense_type': 'LinearInteger', 'bert.encoder.layer.1.output.dense_data_in_width': 8, 'bert.encoder.layer.1.output.dense_data_in_frac_width': 2, 'bert.encoder.layer.1.output.dense_weight_width': 16, 'bert.encoder.layer.1.output.dense_weight_frac_width': 4, 'bert.encoder.layer.1.output.dense_bias_width': 16, 'bert.encoder.layer.1.output.dense_bias_frac_width': 4, 'classifier_type': 'LinearInteger', 'classifier_data_in_width': 32, 'classifier_data_in_frac_width': 2, 'classifier_weight_width': 32, 'classifier_weight_frac_width': 8, 'classifier_bias_width': 16, 'classifier_bias_frac_width': 2}. Best is trial 0 with value: 0.87376.\n"
     ]
    },
    {
     "data": {
      "text/html": [
       "\n",
       "    <div>\n",
       "      \n",
       "      <progress value='3125' max='3125' style='width:300px; height:20px; vertical-align: middle;'></progress>\n",
       "      [3125/3125 01:50, Epoch 1/1]\n",
       "    </div>\n",
       "    <table border=\"1\" class=\"dataframe\">\n",
       "  <thead>\n",
       " <tr style=\"text-align: left;\">\n",
       "      <th>Step</th>\n",
       "      <th>Training Loss</th>\n",
       "    </tr>\n",
       "  </thead>\n",
       "  <tbody>\n",
       "    <tr>\n",
       "      <td>500</td>\n",
       "      <td>0.338300</td>\n",
       "    </tr>\n",
       "    <tr>\n",
       "      <td>1000</td>\n",
       "      <td>0.298400</td>\n",
       "    </tr>\n",
       "    <tr>\n",
       "      <td>1500</td>\n",
       "      <td>0.317100</td>\n",
       "    </tr>\n",
       "    <tr>\n",
       "      <td>2000</td>\n",
       "      <td>0.331700</td>\n",
       "    </tr>\n",
       "    <tr>\n",
       "      <td>2500</td>\n",
       "      <td>0.305700</td>\n",
       "    </tr>\n",
       "    <tr>\n",
       "      <td>3000</td>\n",
       "      <td>0.348200</td>\n",
       "    </tr>\n",
       "  </tbody>\n",
       "</table><p>"
      ],
      "text/plain": [
       "<IPython.core.display.HTML object>"
      ]
     },
     "metadata": {},
     "output_type": "display_data"
    },
    {
     "data": {
      "text/html": [
       "\n",
       "    <div>\n",
       "      \n",
       "      <progress value='3125' max='3125' style='width:300px; height:20px; vertical-align: middle;'></progress>\n",
       "      [3125/3125 00:51]\n",
       "    </div>\n",
       "    "
      ],
      "text/plain": [
       "<IPython.core.display.HTML object>"
      ]
     },
     "metadata": {},
     "output_type": "display_data"
    },
    {
     "name": "stderr",
     "output_type": "stream",
     "text": [
      "[I 2025-01-31 02:07:19,804] Trial 2 finished with value: 0.87216 and parameters: {'bert.encoder.layer.0.attention.self.key_type': 'torch.nn.Linear', 'bert.encoder.layer.0.attention.self.value_type': 'torch.nn.Linear', 'bert.encoder.layer.0.attention.output.dense_type': 'torch.nn.Linear', 'bert.encoder.layer.0.intermediate.dense_type': 'torch.nn.Linear', 'bert.encoder.layer.0.output.dense_type': 'LinearInteger', 'bert.encoder.layer.0.output.dense_data_in_width': 16, 'bert.encoder.layer.0.output.dense_data_in_frac_width': 8, 'bert.encoder.layer.0.output.dense_weight_width': 8, 'bert.encoder.layer.0.output.dense_weight_frac_width': 2, 'bert.encoder.layer.0.output.dense_bias_width': 8, 'bert.encoder.layer.0.output.dense_bias_frac_width': 4, 'bert.encoder.layer.1.attention.self.query_type': 'torch.nn.Linear', 'bert.encoder.layer.1.attention.self.value_type': 'LinearInteger', 'bert.encoder.layer.1.attention.self.value_data_in_width': 8, 'bert.encoder.layer.1.attention.self.value_data_in_frac_width': 2, 'bert.encoder.layer.1.attention.self.value_weight_width': 32, 'bert.encoder.layer.1.attention.self.value_weight_frac_width': 8, 'bert.encoder.layer.1.attention.self.value_bias_width': 8, 'bert.encoder.layer.1.attention.self.value_bias_frac_width': 2, 'bert.encoder.layer.1.attention.output.dense_type': 'LinearInteger', 'bert.encoder.layer.1.attention.output.dense_data_in_width': 8, 'bert.encoder.layer.1.attention.output.dense_data_in_frac_width': 2, 'bert.encoder.layer.1.attention.output.dense_weight_width': 16, 'bert.encoder.layer.1.attention.output.dense_weight_frac_width': 4, 'bert.encoder.layer.1.attention.output.dense_bias_width': 8, 'bert.encoder.layer.1.attention.output.dense_bias_frac_width': 2, 'bert.encoder.layer.1.intermediate.dense_type': 'torch.nn.Linear', 'bert.encoder.layer.1.output.dense_type': 'torch.nn.Linear', 'classifier_type': 'LinearInteger', 'classifier_data_in_width': 16, 'classifier_data_in_frac_width': 2, 'classifier_weight_width': 16, 'classifier_weight_frac_width': 4, 'classifier_bias_width': 16, 'classifier_bias_frac_width': 8}. Best is trial 0 with value: 0.87376.\n"
     ]
    },
    {
     "data": {
      "text/html": [
       "\n",
       "    <div>\n",
       "      \n",
       "      <progress value='3125' max='3125' style='width:300px; height:20px; vertical-align: middle;'></progress>\n",
       "      [3125/3125 01:47, Epoch 1/1]\n",
       "    </div>\n",
       "    <table border=\"1\" class=\"dataframe\">\n",
       "  <thead>\n",
       " <tr style=\"text-align: left;\">\n",
       "      <th>Step</th>\n",
       "      <th>Training Loss</th>\n",
       "    </tr>\n",
       "  </thead>\n",
       "  <tbody>\n",
       "    <tr>\n",
       "      <td>500</td>\n",
       "      <td>0.349000</td>\n",
       "    </tr>\n",
       "    <tr>\n",
       "      <td>1000</td>\n",
       "      <td>0.306400</td>\n",
       "    </tr>\n",
       "    <tr>\n",
       "      <td>1500</td>\n",
       "      <td>0.334500</td>\n",
       "    </tr>\n",
       "    <tr>\n",
       "      <td>2000</td>\n",
       "      <td>0.341900</td>\n",
       "    </tr>\n",
       "    <tr>\n",
       "      <td>2500</td>\n",
       "      <td>0.317200</td>\n",
       "    </tr>\n",
       "    <tr>\n",
       "      <td>3000</td>\n",
       "      <td>0.358000</td>\n",
       "    </tr>\n",
       "  </tbody>\n",
       "</table><p>"
      ],
      "text/plain": [
       "<IPython.core.display.HTML object>"
      ]
     },
     "metadata": {},
     "output_type": "display_data"
    },
    {
     "data": {
      "text/html": [
       "\n",
       "    <div>\n",
       "      \n",
       "      <progress value='3125' max='3125' style='width:300px; height:20px; vertical-align: middle;'></progress>\n",
       "      [3125/3125 00:51]\n",
       "    </div>\n",
       "    "
      ],
      "text/plain": [
       "<IPython.core.display.HTML object>"
      ]
     },
     "metadata": {},
     "output_type": "display_data"
    },
    {
     "name": "stderr",
     "output_type": "stream",
     "text": [
      "[I 2025-01-31 02:10:01,045] Trial 3 finished with value: 0.87388 and parameters: {'bert.encoder.layer.0.attention.self.key_type': 'LinearInteger', 'bert.encoder.layer.0.attention.self.key_data_in_width': 16, 'bert.encoder.layer.0.attention.self.key_data_in_frac_width': 8, 'bert.encoder.layer.0.attention.self.key_weight_width': 32, 'bert.encoder.layer.0.attention.self.key_weight_frac_width': 4, 'bert.encoder.layer.0.attention.self.key_bias_width': 16, 'bert.encoder.layer.0.attention.self.key_bias_frac_width': 4, 'bert.encoder.layer.0.attention.self.value_type': 'torch.nn.Linear', 'bert.encoder.layer.0.attention.output.dense_type': 'torch.nn.Linear', 'bert.encoder.layer.0.intermediate.dense_type': 'torch.nn.Linear', 'bert.encoder.layer.0.output.dense_type': 'torch.nn.Linear', 'bert.encoder.layer.1.attention.self.query_type': 'LinearInteger', 'bert.encoder.layer.1.attention.self.query_data_in_width': 8, 'bert.encoder.layer.1.attention.self.query_data_in_frac_width': 4, 'bert.encoder.layer.1.attention.self.query_weight_width': 8, 'bert.encoder.layer.1.attention.self.query_weight_frac_width': 4, 'bert.encoder.layer.1.attention.self.query_bias_width': 32, 'bert.encoder.layer.1.attention.self.query_bias_frac_width': 4, 'bert.encoder.layer.1.attention.self.value_type': 'LinearInteger', 'bert.encoder.layer.1.attention.self.value_data_in_width': 16, 'bert.encoder.layer.1.attention.self.value_data_in_frac_width': 2, 'bert.encoder.layer.1.attention.self.value_weight_width': 16, 'bert.encoder.layer.1.attention.self.value_weight_frac_width': 2, 'bert.encoder.layer.1.attention.self.value_bias_width': 16, 'bert.encoder.layer.1.attention.self.value_bias_frac_width': 4, 'bert.encoder.layer.1.attention.output.dense_type': 'torch.nn.Linear', 'bert.encoder.layer.1.intermediate.dense_type': 'torch.nn.Linear', 'bert.encoder.layer.1.output.dense_type': 'torch.nn.Linear', 'classifier_type': 'torch.nn.Linear'}. Best is trial 3 with value: 0.87388.\n"
     ]
    },
    {
     "data": {
      "text/html": [
       "\n",
       "    <div>\n",
       "      \n",
       "      <progress value='3125' max='3125' style='width:300px; height:20px; vertical-align: middle;'></progress>\n",
       "      [3125/3125 01:57, Epoch 1/1]\n",
       "    </div>\n",
       "    <table border=\"1\" class=\"dataframe\">\n",
       "  <thead>\n",
       " <tr style=\"text-align: left;\">\n",
       "      <th>Step</th>\n",
       "      <th>Training Loss</th>\n",
       "    </tr>\n",
       "  </thead>\n",
       "  <tbody>\n",
       "    <tr>\n",
       "      <td>500</td>\n",
       "      <td>0.374500</td>\n",
       "    </tr>\n",
       "    <tr>\n",
       "      <td>1000</td>\n",
       "      <td>0.298400</td>\n",
       "    </tr>\n",
       "    <tr>\n",
       "      <td>1500</td>\n",
       "      <td>0.323900</td>\n",
       "    </tr>\n",
       "    <tr>\n",
       "      <td>2000</td>\n",
       "      <td>0.339400</td>\n",
       "    </tr>\n",
       "    <tr>\n",
       "      <td>2500</td>\n",
       "      <td>0.318600</td>\n",
       "    </tr>\n",
       "    <tr>\n",
       "      <td>3000</td>\n",
       "      <td>0.347200</td>\n",
       "    </tr>\n",
       "  </tbody>\n",
       "</table><p>"
      ],
      "text/plain": [
       "<IPython.core.display.HTML object>"
      ]
     },
     "metadata": {},
     "output_type": "display_data"
    },
    {
     "data": {
      "text/html": [
       "\n",
       "    <div>\n",
       "      \n",
       "      <progress value='3125' max='3125' style='width:300px; height:20px; vertical-align: middle;'></progress>\n",
       "      [3125/3125 00:55]\n",
       "    </div>\n",
       "    "
      ],
      "text/plain": [
       "<IPython.core.display.HTML object>"
      ]
     },
     "metadata": {},
     "output_type": "display_data"
    },
    {
     "name": "stderr",
     "output_type": "stream",
     "text": [
      "[I 2025-01-31 02:12:55,341] Trial 4 finished with value: 0.87312 and parameters: {'bert.encoder.layer.0.attention.self.key_type': 'LinearInteger', 'bert.encoder.layer.0.attention.self.key_data_in_width': 32, 'bert.encoder.layer.0.attention.self.key_data_in_frac_width': 8, 'bert.encoder.layer.0.attention.self.key_weight_width': 16, 'bert.encoder.layer.0.attention.self.key_weight_frac_width': 8, 'bert.encoder.layer.0.attention.self.key_bias_width': 8, 'bert.encoder.layer.0.attention.self.key_bias_frac_width': 8, 'bert.encoder.layer.0.attention.self.value_type': 'torch.nn.Linear', 'bert.encoder.layer.0.attention.output.dense_type': 'LinearInteger', 'bert.encoder.layer.0.attention.output.dense_data_in_width': 16, 'bert.encoder.layer.0.attention.output.dense_data_in_frac_width': 4, 'bert.encoder.layer.0.attention.output.dense_weight_width': 32, 'bert.encoder.layer.0.attention.output.dense_weight_frac_width': 8, 'bert.encoder.layer.0.attention.output.dense_bias_width': 32, 'bert.encoder.layer.0.attention.output.dense_bias_frac_width': 4, 'bert.encoder.layer.0.intermediate.dense_type': 'LinearInteger', 'bert.encoder.layer.0.intermediate.dense_data_in_width': 32, 'bert.encoder.layer.0.intermediate.dense_data_in_frac_width': 8, 'bert.encoder.layer.0.intermediate.dense_weight_width': 8, 'bert.encoder.layer.0.intermediate.dense_weight_frac_width': 8, 'bert.encoder.layer.0.intermediate.dense_bias_width': 16, 'bert.encoder.layer.0.intermediate.dense_bias_frac_width': 8, 'bert.encoder.layer.0.output.dense_type': 'torch.nn.Linear', 'bert.encoder.layer.1.attention.self.query_type': 'torch.nn.Linear', 'bert.encoder.layer.1.attention.self.value_type': 'LinearInteger', 'bert.encoder.layer.1.attention.self.value_data_in_width': 8, 'bert.encoder.layer.1.attention.self.value_data_in_frac_width': 8, 'bert.encoder.layer.1.attention.self.value_weight_width': 8, 'bert.encoder.layer.1.attention.self.value_weight_frac_width': 8, 'bert.encoder.layer.1.attention.self.value_bias_width': 32, 'bert.encoder.layer.1.attention.self.value_bias_frac_width': 8, 'bert.encoder.layer.1.attention.output.dense_type': 'LinearInteger', 'bert.encoder.layer.1.attention.output.dense_data_in_width': 8, 'bert.encoder.layer.1.attention.output.dense_data_in_frac_width': 4, 'bert.encoder.layer.1.attention.output.dense_weight_width': 32, 'bert.encoder.layer.1.attention.output.dense_weight_frac_width': 2, 'bert.encoder.layer.1.attention.output.dense_bias_width': 8, 'bert.encoder.layer.1.attention.output.dense_bias_frac_width': 4, 'bert.encoder.layer.1.intermediate.dense_type': 'LinearInteger', 'bert.encoder.layer.1.intermediate.dense_data_in_width': 32, 'bert.encoder.layer.1.intermediate.dense_data_in_frac_width': 2, 'bert.encoder.layer.1.intermediate.dense_weight_width': 16, 'bert.encoder.layer.1.intermediate.dense_weight_frac_width': 2, 'bert.encoder.layer.1.intermediate.dense_bias_width': 8, 'bert.encoder.layer.1.intermediate.dense_bias_frac_width': 4, 'bert.encoder.layer.1.output.dense_type': 'LinearInteger', 'bert.encoder.layer.1.output.dense_data_in_width': 8, 'bert.encoder.layer.1.output.dense_data_in_frac_width': 8, 'bert.encoder.layer.1.output.dense_weight_width': 32, 'bert.encoder.layer.1.output.dense_weight_frac_width': 4, 'bert.encoder.layer.1.output.dense_bias_width': 32, 'bert.encoder.layer.1.output.dense_bias_frac_width': 8, 'classifier_type': 'torch.nn.Linear'}. Best is trial 3 with value: 0.87388.\n"
     ]
    },
    {
     "data": {
      "text/html": [
       "\n",
       "    <div>\n",
       "      \n",
       "      <progress value='3125' max='3125' style='width:300px; height:20px; vertical-align: middle;'></progress>\n",
       "      [3125/3125 01:56, Epoch 1/1]\n",
       "    </div>\n",
       "    <table border=\"1\" class=\"dataframe\">\n",
       "  <thead>\n",
       " <tr style=\"text-align: left;\">\n",
       "      <th>Step</th>\n",
       "      <th>Training Loss</th>\n",
       "    </tr>\n",
       "  </thead>\n",
       "  <tbody>\n",
       "    <tr>\n",
       "      <td>500</td>\n",
       "      <td>0.337800</td>\n",
       "    </tr>\n",
       "    <tr>\n",
       "      <td>1000</td>\n",
       "      <td>0.291200</td>\n",
       "    </tr>\n",
       "    <tr>\n",
       "      <td>1500</td>\n",
       "      <td>0.329500</td>\n",
       "    </tr>\n",
       "    <tr>\n",
       "      <td>2000</td>\n",
       "      <td>0.344000</td>\n",
       "    </tr>\n",
       "    <tr>\n",
       "      <td>2500</td>\n",
       "      <td>0.316400</td>\n",
       "    </tr>\n",
       "    <tr>\n",
       "      <td>3000</td>\n",
       "      <td>0.354800</td>\n",
       "    </tr>\n",
       "  </tbody>\n",
       "</table><p>"
      ],
      "text/plain": [
       "<IPython.core.display.HTML object>"
      ]
     },
     "metadata": {},
     "output_type": "display_data"
    },
    {
     "data": {
      "text/html": [
       "\n",
       "    <div>\n",
       "      \n",
       "      <progress value='3125' max='3125' style='width:300px; height:20px; vertical-align: middle;'></progress>\n",
       "      [3125/3125 00:55]\n",
       "    </div>\n",
       "    "
      ],
      "text/plain": [
       "<IPython.core.display.HTML object>"
      ]
     },
     "metadata": {},
     "output_type": "display_data"
    },
    {
     "name": "stderr",
     "output_type": "stream",
     "text": [
      "[I 2025-01-31 02:15:48,717] Trial 5 finished with value: 0.86776 and parameters: {'bert.encoder.layer.0.attention.self.key_type': 'LinearInteger', 'bert.encoder.layer.0.attention.self.key_data_in_width': 32, 'bert.encoder.layer.0.attention.self.key_data_in_frac_width': 4, 'bert.encoder.layer.0.attention.self.key_weight_width': 8, 'bert.encoder.layer.0.attention.self.key_weight_frac_width': 2, 'bert.encoder.layer.0.attention.self.key_bias_width': 8, 'bert.encoder.layer.0.attention.self.key_bias_frac_width': 2, 'bert.encoder.layer.0.attention.self.value_type': 'torch.nn.Linear', 'bert.encoder.layer.0.attention.output.dense_type': 'LinearInteger', 'bert.encoder.layer.0.attention.output.dense_data_in_width': 16, 'bert.encoder.layer.0.attention.output.dense_data_in_frac_width': 8, 'bert.encoder.layer.0.attention.output.dense_weight_width': 32, 'bert.encoder.layer.0.attention.output.dense_weight_frac_width': 2, 'bert.encoder.layer.0.attention.output.dense_bias_width': 8, 'bert.encoder.layer.0.attention.output.dense_bias_frac_width': 2, 'bert.encoder.layer.0.intermediate.dense_type': 'torch.nn.Linear', 'bert.encoder.layer.0.output.dense_type': 'LinearInteger', 'bert.encoder.layer.0.output.dense_data_in_width': 16, 'bert.encoder.layer.0.output.dense_data_in_frac_width': 2, 'bert.encoder.layer.0.output.dense_weight_width': 16, 'bert.encoder.layer.0.output.dense_weight_frac_width': 8, 'bert.encoder.layer.0.output.dense_bias_width': 32, 'bert.encoder.layer.0.output.dense_bias_frac_width': 4, 'bert.encoder.layer.1.attention.self.query_type': 'LinearInteger', 'bert.encoder.layer.1.attention.self.query_data_in_width': 8, 'bert.encoder.layer.1.attention.self.query_data_in_frac_width': 8, 'bert.encoder.layer.1.attention.self.query_weight_width': 32, 'bert.encoder.layer.1.attention.self.query_weight_frac_width': 8, 'bert.encoder.layer.1.attention.self.query_bias_width': 32, 'bert.encoder.layer.1.attention.self.query_bias_frac_width': 8, 'bert.encoder.layer.1.attention.self.value_type': 'LinearInteger', 'bert.encoder.layer.1.attention.self.value_data_in_width': 16, 'bert.encoder.layer.1.attention.self.value_data_in_frac_width': 8, 'bert.encoder.layer.1.attention.self.value_weight_width': 32, 'bert.encoder.layer.1.attention.self.value_weight_frac_width': 8, 'bert.encoder.layer.1.attention.self.value_bias_width': 32, 'bert.encoder.layer.1.attention.self.value_bias_frac_width': 8, 'bert.encoder.layer.1.attention.output.dense_type': 'LinearInteger', 'bert.encoder.layer.1.attention.output.dense_data_in_width': 32, 'bert.encoder.layer.1.attention.output.dense_data_in_frac_width': 8, 'bert.encoder.layer.1.attention.output.dense_weight_width': 8, 'bert.encoder.layer.1.attention.output.dense_weight_frac_width': 4, 'bert.encoder.layer.1.attention.output.dense_bias_width': 16, 'bert.encoder.layer.1.attention.output.dense_bias_frac_width': 4, 'bert.encoder.layer.1.intermediate.dense_type': 'torch.nn.Linear', 'bert.encoder.layer.1.output.dense_type': 'LinearInteger', 'bert.encoder.layer.1.output.dense_data_in_width': 8, 'bert.encoder.layer.1.output.dense_data_in_frac_width': 2, 'bert.encoder.layer.1.output.dense_weight_width': 16, 'bert.encoder.layer.1.output.dense_weight_frac_width': 8, 'bert.encoder.layer.1.output.dense_bias_width': 16, 'bert.encoder.layer.1.output.dense_bias_frac_width': 4, 'classifier_type': 'torch.nn.Linear'}. Best is trial 3 with value: 0.87388.\n"
     ]
    },
    {
     "data": {
      "text/html": [
       "\n",
       "    <div>\n",
       "      \n",
       "      <progress value='3125' max='3125' style='width:300px; height:20px; vertical-align: middle;'></progress>\n",
       "      [3125/3125 01:55, Epoch 1/1]\n",
       "    </div>\n",
       "    <table border=\"1\" class=\"dataframe\">\n",
       "  <thead>\n",
       " <tr style=\"text-align: left;\">\n",
       "      <th>Step</th>\n",
       "      <th>Training Loss</th>\n",
       "    </tr>\n",
       "  </thead>\n",
       "  <tbody>\n",
       "    <tr>\n",
       "      <td>500</td>\n",
       "      <td>0.345200</td>\n",
       "    </tr>\n",
       "    <tr>\n",
       "      <td>1000</td>\n",
       "      <td>0.310100</td>\n",
       "    </tr>\n",
       "    <tr>\n",
       "      <td>1500</td>\n",
       "      <td>0.328800</td>\n",
       "    </tr>\n",
       "    <tr>\n",
       "      <td>2000</td>\n",
       "      <td>0.354300</td>\n",
       "    </tr>\n",
       "    <tr>\n",
       "      <td>2500</td>\n",
       "      <td>0.324200</td>\n",
       "    </tr>\n",
       "    <tr>\n",
       "      <td>3000</td>\n",
       "      <td>0.369000</td>\n",
       "    </tr>\n",
       "  </tbody>\n",
       "</table><p>"
      ],
      "text/plain": [
       "<IPython.core.display.HTML object>"
      ]
     },
     "metadata": {},
     "output_type": "display_data"
    },
    {
     "data": {
      "text/html": [
       "\n",
       "    <div>\n",
       "      \n",
       "      <progress value='3125' max='3125' style='width:300px; height:20px; vertical-align: middle;'></progress>\n",
       "      [3125/3125 00:56]\n",
       "    </div>\n",
       "    "
      ],
      "text/plain": [
       "<IPython.core.display.HTML object>"
      ]
     },
     "metadata": {},
     "output_type": "display_data"
    },
    {
     "name": "stderr",
     "output_type": "stream",
     "text": [
      "[I 2025-01-31 02:18:42,699] Trial 6 finished with value: 0.86336 and parameters: {'bert.encoder.layer.0.attention.self.key_type': 'LinearInteger', 'bert.encoder.layer.0.attention.self.key_data_in_width': 8, 'bert.encoder.layer.0.attention.self.key_data_in_frac_width': 8, 'bert.encoder.layer.0.attention.self.key_weight_width': 8, 'bert.encoder.layer.0.attention.self.key_weight_frac_width': 4, 'bert.encoder.layer.0.attention.self.key_bias_width': 32, 'bert.encoder.layer.0.attention.self.key_bias_frac_width': 2, 'bert.encoder.layer.0.attention.self.value_type': 'LinearInteger', 'bert.encoder.layer.0.attention.self.value_data_in_width': 32, 'bert.encoder.layer.0.attention.self.value_data_in_frac_width': 2, 'bert.encoder.layer.0.attention.self.value_weight_width': 8, 'bert.encoder.layer.0.attention.self.value_weight_frac_width': 8, 'bert.encoder.layer.0.attention.self.value_bias_width': 8, 'bert.encoder.layer.0.attention.self.value_bias_frac_width': 8, 'bert.encoder.layer.0.attention.output.dense_type': 'LinearInteger', 'bert.encoder.layer.0.attention.output.dense_data_in_width': 16, 'bert.encoder.layer.0.attention.output.dense_data_in_frac_width': 2, 'bert.encoder.layer.0.attention.output.dense_weight_width': 32, 'bert.encoder.layer.0.attention.output.dense_weight_frac_width': 8, 'bert.encoder.layer.0.attention.output.dense_bias_width': 16, 'bert.encoder.layer.0.attention.output.dense_bias_frac_width': 2, 'bert.encoder.layer.0.intermediate.dense_type': 'torch.nn.Linear', 'bert.encoder.layer.0.output.dense_type': 'torch.nn.Linear', 'bert.encoder.layer.1.attention.self.query_type': 'LinearInteger', 'bert.encoder.layer.1.attention.self.query_data_in_width': 16, 'bert.encoder.layer.1.attention.self.query_data_in_frac_width': 8, 'bert.encoder.layer.1.attention.self.query_weight_width': 16, 'bert.encoder.layer.1.attention.self.query_weight_frac_width': 4, 'bert.encoder.layer.1.attention.self.query_bias_width': 16, 'bert.encoder.layer.1.attention.self.query_bias_frac_width': 2, 'bert.encoder.layer.1.attention.self.value_type': 'torch.nn.Linear', 'bert.encoder.layer.1.attention.output.dense_type': 'LinearInteger', 'bert.encoder.layer.1.attention.output.dense_data_in_width': 8, 'bert.encoder.layer.1.attention.output.dense_data_in_frac_width': 8, 'bert.encoder.layer.1.attention.output.dense_weight_width': 8, 'bert.encoder.layer.1.attention.output.dense_weight_frac_width': 8, 'bert.encoder.layer.1.attention.output.dense_bias_width': 16, 'bert.encoder.layer.1.attention.output.dense_bias_frac_width': 2, 'bert.encoder.layer.1.intermediate.dense_type': 'torch.nn.Linear', 'bert.encoder.layer.1.output.dense_type': 'LinearInteger', 'bert.encoder.layer.1.output.dense_data_in_width': 8, 'bert.encoder.layer.1.output.dense_data_in_frac_width': 8, 'bert.encoder.layer.1.output.dense_weight_width': 8, 'bert.encoder.layer.1.output.dense_weight_frac_width': 8, 'bert.encoder.layer.1.output.dense_bias_width': 8, 'bert.encoder.layer.1.output.dense_bias_frac_width': 2, 'classifier_type': 'torch.nn.Linear'}. Best is trial 3 with value: 0.87388.\n"
     ]
    },
    {
     "data": {
      "text/html": [
       "\n",
       "    <div>\n",
       "      \n",
       "      <progress value='3125' max='3125' style='width:300px; height:20px; vertical-align: middle;'></progress>\n",
       "      [3125/3125 01:50, Epoch 1/1]\n",
       "    </div>\n",
       "    <table border=\"1\" class=\"dataframe\">\n",
       "  <thead>\n",
       " <tr style=\"text-align: left;\">\n",
       "      <th>Step</th>\n",
       "      <th>Training Loss</th>\n",
       "    </tr>\n",
       "  </thead>\n",
       "  <tbody>\n",
       "    <tr>\n",
       "      <td>500</td>\n",
       "      <td>0.327200</td>\n",
       "    </tr>\n",
       "    <tr>\n",
       "      <td>1000</td>\n",
       "      <td>0.292000</td>\n",
       "    </tr>\n",
       "    <tr>\n",
       "      <td>1500</td>\n",
       "      <td>0.318200</td>\n",
       "    </tr>\n",
       "    <tr>\n",
       "      <td>2000</td>\n",
       "      <td>0.331600</td>\n",
       "    </tr>\n",
       "    <tr>\n",
       "      <td>2500</td>\n",
       "      <td>0.307400</td>\n",
       "    </tr>\n",
       "    <tr>\n",
       "      <td>3000</td>\n",
       "      <td>0.343100</td>\n",
       "    </tr>\n",
       "  </tbody>\n",
       "</table><p>"
      ],
      "text/plain": [
       "<IPython.core.display.HTML object>"
      ]
     },
     "metadata": {},
     "output_type": "display_data"
    },
    {
     "data": {
      "text/html": [
       "\n",
       "    <div>\n",
       "      \n",
       "      <progress value='3125' max='3125' style='width:300px; height:20px; vertical-align: middle;'></progress>\n",
       "      [3125/3125 00:53]\n",
       "    </div>\n",
       "    "
      ],
      "text/plain": [
       "<IPython.core.display.HTML object>"
      ]
     },
     "metadata": {},
     "output_type": "display_data"
    },
    {
     "name": "stderr",
     "output_type": "stream",
     "text": [
      "[I 2025-01-31 02:21:28,147] Trial 7 finished with value: 0.87272 and parameters: {'bert.encoder.layer.0.attention.self.key_type': 'LinearInteger', 'bert.encoder.layer.0.attention.self.key_data_in_width': 16, 'bert.encoder.layer.0.attention.self.key_data_in_frac_width': 8, 'bert.encoder.layer.0.attention.self.key_weight_width': 32, 'bert.encoder.layer.0.attention.self.key_weight_frac_width': 8, 'bert.encoder.layer.0.attention.self.key_bias_width': 32, 'bert.encoder.layer.0.attention.self.key_bias_frac_width': 2, 'bert.encoder.layer.0.attention.self.value_type': 'torch.nn.Linear', 'bert.encoder.layer.0.attention.output.dense_type': 'torch.nn.Linear', 'bert.encoder.layer.0.intermediate.dense_type': 'LinearInteger', 'bert.encoder.layer.0.intermediate.dense_data_in_width': 32, 'bert.encoder.layer.0.intermediate.dense_data_in_frac_width': 8, 'bert.encoder.layer.0.intermediate.dense_weight_width': 16, 'bert.encoder.layer.0.intermediate.dense_weight_frac_width': 2, 'bert.encoder.layer.0.intermediate.dense_bias_width': 32, 'bert.encoder.layer.0.intermediate.dense_bias_frac_width': 2, 'bert.encoder.layer.0.output.dense_type': 'torch.nn.Linear', 'bert.encoder.layer.1.attention.self.query_type': 'torch.nn.Linear', 'bert.encoder.layer.1.attention.self.value_type': 'torch.nn.Linear', 'bert.encoder.layer.1.attention.output.dense_type': 'LinearInteger', 'bert.encoder.layer.1.attention.output.dense_data_in_width': 32, 'bert.encoder.layer.1.attention.output.dense_data_in_frac_width': 4, 'bert.encoder.layer.1.attention.output.dense_weight_width': 8, 'bert.encoder.layer.1.attention.output.dense_weight_frac_width': 8, 'bert.encoder.layer.1.attention.output.dense_bias_width': 16, 'bert.encoder.layer.1.attention.output.dense_bias_frac_width': 8, 'bert.encoder.layer.1.intermediate.dense_type': 'LinearInteger', 'bert.encoder.layer.1.intermediate.dense_data_in_width': 8, 'bert.encoder.layer.1.intermediate.dense_data_in_frac_width': 2, 'bert.encoder.layer.1.intermediate.dense_weight_width': 16, 'bert.encoder.layer.1.intermediate.dense_weight_frac_width': 4, 'bert.encoder.layer.1.intermediate.dense_bias_width': 32, 'bert.encoder.layer.1.intermediate.dense_bias_frac_width': 2, 'bert.encoder.layer.1.output.dense_type': 'torch.nn.Linear', 'classifier_type': 'torch.nn.Linear'}. Best is trial 3 with value: 0.87388.\n"
     ]
    },
    {
     "data": {
      "text/html": [
       "\n",
       "    <div>\n",
       "      \n",
       "      <progress value='3125' max='3125' style='width:300px; height:20px; vertical-align: middle;'></progress>\n",
       "      [3125/3125 01:53, Epoch 1/1]\n",
       "    </div>\n",
       "    <table border=\"1\" class=\"dataframe\">\n",
       "  <thead>\n",
       " <tr style=\"text-align: left;\">\n",
       "      <th>Step</th>\n",
       "      <th>Training Loss</th>\n",
       "    </tr>\n",
       "  </thead>\n",
       "  <tbody>\n",
       "    <tr>\n",
       "      <td>500</td>\n",
       "      <td>0.379800</td>\n",
       "    </tr>\n",
       "    <tr>\n",
       "      <td>1000</td>\n",
       "      <td>0.268300</td>\n",
       "    </tr>\n",
       "    <tr>\n",
       "      <td>1500</td>\n",
       "      <td>0.295400</td>\n",
       "    </tr>\n",
       "    <tr>\n",
       "      <td>2000</td>\n",
       "      <td>0.301000</td>\n",
       "    </tr>\n",
       "    <tr>\n",
       "      <td>2500</td>\n",
       "      <td>0.294200</td>\n",
       "    </tr>\n",
       "    <tr>\n",
       "      <td>3000</td>\n",
       "      <td>0.337400</td>\n",
       "    </tr>\n",
       "  </tbody>\n",
       "</table><p>"
      ],
      "text/plain": [
       "<IPython.core.display.HTML object>"
      ]
     },
     "metadata": {},
     "output_type": "display_data"
    },
    {
     "data": {
      "text/html": [
       "\n",
       "    <div>\n",
       "      \n",
       "      <progress value='3125' max='3125' style='width:300px; height:20px; vertical-align: middle;'></progress>\n",
       "      [3125/3125 00:54]\n",
       "    </div>\n",
       "    "
      ],
      "text/plain": [
       "<IPython.core.display.HTML object>"
      ]
     },
     "metadata": {},
     "output_type": "display_data"
    },
    {
     "name": "stderr",
     "output_type": "stream",
     "text": [
      "[I 2025-01-31 02:24:18,138] Trial 8 finished with value: 0.86648 and parameters: {'bert.encoder.layer.0.attention.self.key_type': 'torch.nn.Linear', 'bert.encoder.layer.0.attention.self.value_type': 'LinearInteger', 'bert.encoder.layer.0.attention.self.value_data_in_width': 16, 'bert.encoder.layer.0.attention.self.value_data_in_frac_width': 2, 'bert.encoder.layer.0.attention.self.value_weight_width': 8, 'bert.encoder.layer.0.attention.self.value_weight_frac_width': 2, 'bert.encoder.layer.0.attention.self.value_bias_width': 8, 'bert.encoder.layer.0.attention.self.value_bias_frac_width': 8, 'bert.encoder.layer.0.attention.output.dense_type': 'torch.nn.Linear', 'bert.encoder.layer.0.intermediate.dense_type': 'LinearInteger', 'bert.encoder.layer.0.intermediate.dense_data_in_width': 8, 'bert.encoder.layer.0.intermediate.dense_data_in_frac_width': 2, 'bert.encoder.layer.0.intermediate.dense_weight_width': 8, 'bert.encoder.layer.0.intermediate.dense_weight_frac_width': 4, 'bert.encoder.layer.0.intermediate.dense_bias_width': 8, 'bert.encoder.layer.0.intermediate.dense_bias_frac_width': 8, 'bert.encoder.layer.0.output.dense_type': 'torch.nn.Linear', 'bert.encoder.layer.1.attention.self.query_type': 'torch.nn.Linear', 'bert.encoder.layer.1.attention.self.value_type': 'LinearInteger', 'bert.encoder.layer.1.attention.self.value_data_in_width': 8, 'bert.encoder.layer.1.attention.self.value_data_in_frac_width': 8, 'bert.encoder.layer.1.attention.self.value_weight_width': 16, 'bert.encoder.layer.1.attention.self.value_weight_frac_width': 8, 'bert.encoder.layer.1.attention.self.value_bias_width': 32, 'bert.encoder.layer.1.attention.self.value_bias_frac_width': 8, 'bert.encoder.layer.1.attention.output.dense_type': 'torch.nn.Linear', 'bert.encoder.layer.1.intermediate.dense_type': 'torch.nn.Linear', 'bert.encoder.layer.1.output.dense_type': 'LinearInteger', 'bert.encoder.layer.1.output.dense_data_in_width': 16, 'bert.encoder.layer.1.output.dense_data_in_frac_width': 2, 'bert.encoder.layer.1.output.dense_weight_width': 32, 'bert.encoder.layer.1.output.dense_weight_frac_width': 2, 'bert.encoder.layer.1.output.dense_bias_width': 16, 'bert.encoder.layer.1.output.dense_bias_frac_width': 4, 'classifier_type': 'LinearInteger', 'classifier_data_in_width': 16, 'classifier_data_in_frac_width': 4, 'classifier_weight_width': 16, 'classifier_weight_frac_width': 8, 'classifier_bias_width': 32, 'classifier_bias_frac_width': 2}. Best is trial 3 with value: 0.87388.\n"
     ]
    },
    {
     "data": {
      "text/html": [
       "\n",
       "    <div>\n",
       "      \n",
       "      <progress value='3125' max='3125' style='width:300px; height:20px; vertical-align: middle;'></progress>\n",
       "      [3125/3125 01:46, Epoch 1/1]\n",
       "    </div>\n",
       "    <table border=\"1\" class=\"dataframe\">\n",
       "  <thead>\n",
       " <tr style=\"text-align: left;\">\n",
       "      <th>Step</th>\n",
       "      <th>Training Loss</th>\n",
       "    </tr>\n",
       "  </thead>\n",
       "  <tbody>\n",
       "    <tr>\n",
       "      <td>500</td>\n",
       "      <td>0.326700</td>\n",
       "    </tr>\n",
       "    <tr>\n",
       "      <td>1000</td>\n",
       "      <td>0.293800</td>\n",
       "    </tr>\n",
       "    <tr>\n",
       "      <td>1500</td>\n",
       "      <td>0.304400</td>\n",
       "    </tr>\n",
       "    <tr>\n",
       "      <td>2000</td>\n",
       "      <td>0.328100</td>\n",
       "    </tr>\n",
       "    <tr>\n",
       "      <td>2500</td>\n",
       "      <td>0.303600</td>\n",
       "    </tr>\n",
       "    <tr>\n",
       "      <td>3000</td>\n",
       "      <td>0.344100</td>\n",
       "    </tr>\n",
       "  </tbody>\n",
       "</table><p>"
      ],
      "text/plain": [
       "<IPython.core.display.HTML object>"
      ]
     },
     "metadata": {},
     "output_type": "display_data"
    },
    {
     "data": {
      "text/html": [
       "\n",
       "    <div>\n",
       "      \n",
       "      <progress value='3125' max='3125' style='width:300px; height:20px; vertical-align: middle;'></progress>\n",
       "      [3125/3125 00:49]\n",
       "    </div>\n",
       "    "
      ],
      "text/plain": [
       "<IPython.core.display.HTML object>"
      ]
     },
     "metadata": {},
     "output_type": "display_data"
    },
    {
     "name": "stderr",
     "output_type": "stream",
     "text": [
      "[I 2025-01-31 02:26:55,208] Trial 9 finished with value: 0.87088 and parameters: {'bert.encoder.layer.0.attention.self.key_type': 'torch.nn.Linear', 'bert.encoder.layer.0.attention.self.value_type': 'torch.nn.Linear', 'bert.encoder.layer.0.attention.output.dense_type': 'LinearInteger', 'bert.encoder.layer.0.attention.output.dense_data_in_width': 16, 'bert.encoder.layer.0.attention.output.dense_data_in_frac_width': 2, 'bert.encoder.layer.0.attention.output.dense_weight_width': 8, 'bert.encoder.layer.0.attention.output.dense_weight_frac_width': 8, 'bert.encoder.layer.0.attention.output.dense_bias_width': 32, 'bert.encoder.layer.0.attention.output.dense_bias_frac_width': 8, 'bert.encoder.layer.0.intermediate.dense_type': 'torch.nn.Linear', 'bert.encoder.layer.0.output.dense_type': 'torch.nn.Linear', 'bert.encoder.layer.1.attention.self.query_type': 'torch.nn.Linear', 'bert.encoder.layer.1.attention.self.value_type': 'torch.nn.Linear', 'bert.encoder.layer.1.attention.output.dense_type': 'torch.nn.Linear', 'bert.encoder.layer.1.intermediate.dense_type': 'LinearInteger', 'bert.encoder.layer.1.intermediate.dense_data_in_width': 32, 'bert.encoder.layer.1.intermediate.dense_data_in_frac_width': 4, 'bert.encoder.layer.1.intermediate.dense_weight_width': 16, 'bert.encoder.layer.1.intermediate.dense_weight_frac_width': 8, 'bert.encoder.layer.1.intermediate.dense_bias_width': 16, 'bert.encoder.layer.1.intermediate.dense_bias_frac_width': 2, 'bert.encoder.layer.1.output.dense_type': 'LinearInteger', 'bert.encoder.layer.1.output.dense_data_in_width': 32, 'bert.encoder.layer.1.output.dense_data_in_frac_width': 4, 'bert.encoder.layer.1.output.dense_weight_width': 32, 'bert.encoder.layer.1.output.dense_weight_frac_width': 4, 'bert.encoder.layer.1.output.dense_bias_width': 8, 'bert.encoder.layer.1.output.dense_bias_frac_width': 2, 'classifier_type': 'torch.nn.Linear'}. Best is trial 3 with value: 0.87388.\n"
     ]
    },
    {
     "data": {
      "text/html": [
       "\n",
       "    <div>\n",
       "      \n",
       "      <progress value='3125' max='3125' style='width:300px; height:20px; vertical-align: middle;'></progress>\n",
       "      [3125/3125 01:52, Epoch 1/1]\n",
       "    </div>\n",
       "    <table border=\"1\" class=\"dataframe\">\n",
       "  <thead>\n",
       " <tr style=\"text-align: left;\">\n",
       "      <th>Step</th>\n",
       "      <th>Training Loss</th>\n",
       "    </tr>\n",
       "  </thead>\n",
       "  <tbody>\n",
       "    <tr>\n",
       "      <td>500</td>\n",
       "      <td>0.693100</td>\n",
       "    </tr>\n",
       "    <tr>\n",
       "      <td>1000</td>\n",
       "      <td>0.693100</td>\n",
       "    </tr>\n",
       "    <tr>\n",
       "      <td>1500</td>\n",
       "      <td>0.693100</td>\n",
       "    </tr>\n",
       "    <tr>\n",
       "      <td>2000</td>\n",
       "      <td>0.675600</td>\n",
       "    </tr>\n",
       "    <tr>\n",
       "      <td>2500</td>\n",
       "      <td>0.655600</td>\n",
       "    </tr>\n",
       "    <tr>\n",
       "      <td>3000</td>\n",
       "      <td>0.656400</td>\n",
       "    </tr>\n",
       "  </tbody>\n",
       "</table><p>"
      ],
      "text/plain": [
       "<IPython.core.display.HTML object>"
      ]
     },
     "metadata": {},
     "output_type": "display_data"
    },
    {
     "data": {
      "text/html": [
       "\n",
       "    <div>\n",
       "      \n",
       "      <progress value='3125' max='3125' style='width:300px; height:20px; vertical-align: middle;'></progress>\n",
       "      [3125/3125 00:54]\n",
       "    </div>\n",
       "    "
      ],
      "text/plain": [
       "<IPython.core.display.HTML object>"
      ]
     },
     "metadata": {},
     "output_type": "display_data"
    },
    {
     "name": "stderr",
     "output_type": "stream",
     "text": [
      "[I 2025-01-31 02:29:43,369] Trial 10 finished with value: 0.85124 and parameters: {'bert.encoder.layer.0.attention.self.key_type': 'LinearInteger', 'bert.encoder.layer.0.attention.self.key_data_in_width': 16, 'bert.encoder.layer.0.attention.self.key_data_in_frac_width': 4, 'bert.encoder.layer.0.attention.self.key_weight_width': 32, 'bert.encoder.layer.0.attention.self.key_weight_frac_width': 4, 'bert.encoder.layer.0.attention.self.key_bias_width': 16, 'bert.encoder.layer.0.attention.self.key_bias_frac_width': 4, 'bert.encoder.layer.0.attention.self.value_type': 'LinearInteger', 'bert.encoder.layer.0.attention.self.value_data_in_width': 8, 'bert.encoder.layer.0.attention.self.value_data_in_frac_width': 4, 'bert.encoder.layer.0.attention.self.value_weight_width': 32, 'bert.encoder.layer.0.attention.self.value_weight_frac_width': 4, 'bert.encoder.layer.0.attention.self.value_bias_width': 32, 'bert.encoder.layer.0.attention.self.value_bias_frac_width': 2, 'bert.encoder.layer.0.attention.output.dense_type': 'torch.nn.Linear', 'bert.encoder.layer.0.intermediate.dense_type': 'torch.nn.Linear', 'bert.encoder.layer.0.output.dense_type': 'LinearInteger', 'bert.encoder.layer.0.output.dense_data_in_width': 8, 'bert.encoder.layer.0.output.dense_data_in_frac_width': 4, 'bert.encoder.layer.0.output.dense_weight_width': 32, 'bert.encoder.layer.0.output.dense_weight_frac_width': 4, 'bert.encoder.layer.0.output.dense_bias_width': 16, 'bert.encoder.layer.0.output.dense_bias_frac_width': 8, 'bert.encoder.layer.1.attention.self.query_type': 'LinearInteger', 'bert.encoder.layer.1.attention.self.query_data_in_width': 8, 'bert.encoder.layer.1.attention.self.query_data_in_frac_width': 4, 'bert.encoder.layer.1.attention.self.query_weight_width': 8, 'bert.encoder.layer.1.attention.self.query_weight_frac_width': 2, 'bert.encoder.layer.1.attention.self.query_bias_width': 8, 'bert.encoder.layer.1.attention.self.query_bias_frac_width': 4, 'bert.encoder.layer.1.attention.self.value_type': 'LinearInteger', 'bert.encoder.layer.1.attention.self.value_data_in_width': 32, 'bert.encoder.layer.1.attention.self.value_data_in_frac_width': 4, 'bert.encoder.layer.1.attention.self.value_weight_width': 16, 'bert.encoder.layer.1.attention.self.value_weight_frac_width': 2, 'bert.encoder.layer.1.attention.self.value_bias_width': 16, 'bert.encoder.layer.1.attention.self.value_bias_frac_width': 4, 'bert.encoder.layer.1.attention.output.dense_type': 'torch.nn.Linear', 'bert.encoder.layer.1.intermediate.dense_type': 'torch.nn.Linear', 'bert.encoder.layer.1.output.dense_type': 'torch.nn.Linear', 'classifier_type': 'LinearInteger', 'classifier_data_in_width': 8, 'classifier_data_in_frac_width': 8, 'classifier_weight_width': 8, 'classifier_weight_frac_width': 2, 'classifier_bias_width': 8, 'classifier_bias_frac_width': 4}. Best is trial 3 with value: 0.87388.\n"
     ]
    },
    {
     "data": {
      "text/html": [
       "\n",
       "    <div>\n",
       "      \n",
       "      <progress value='3125' max='3125' style='width:300px; height:20px; vertical-align: middle;'></progress>\n",
       "      [3125/3125 01:47, Epoch 1/1]\n",
       "    </div>\n",
       "    <table border=\"1\" class=\"dataframe\">\n",
       "  <thead>\n",
       " <tr style=\"text-align: left;\">\n",
       "      <th>Step</th>\n",
       "      <th>Training Loss</th>\n",
       "    </tr>\n",
       "  </thead>\n",
       "  <tbody>\n",
       "    <tr>\n",
       "      <td>500</td>\n",
       "      <td>0.332900</td>\n",
       "    </tr>\n",
       "    <tr>\n",
       "      <td>1000</td>\n",
       "      <td>0.292000</td>\n",
       "    </tr>\n",
       "    <tr>\n",
       "      <td>1500</td>\n",
       "      <td>0.309300</td>\n",
       "    </tr>\n",
       "    <tr>\n",
       "      <td>2000</td>\n",
       "      <td>0.326500</td>\n",
       "    </tr>\n",
       "    <tr>\n",
       "      <td>2500</td>\n",
       "      <td>0.302500</td>\n",
       "    </tr>\n",
       "    <tr>\n",
       "      <td>3000</td>\n",
       "      <td>0.348100</td>\n",
       "    </tr>\n",
       "  </tbody>\n",
       "</table><p>"
      ],
      "text/plain": [
       "<IPython.core.display.HTML object>"
      ]
     },
     "metadata": {},
     "output_type": "display_data"
    },
    {
     "data": {
      "text/html": [
       "\n",
       "    <div>\n",
       "      \n",
       "      <progress value='3125' max='3125' style='width:300px; height:20px; vertical-align: middle;'></progress>\n",
       "      [3125/3125 00:51]\n",
       "    </div>\n",
       "    "
      ],
      "text/plain": [
       "<IPython.core.display.HTML object>"
      ]
     },
     "metadata": {},
     "output_type": "display_data"
    },
    {
     "name": "stderr",
     "output_type": "stream",
     "text": [
      "[I 2025-01-31 02:32:24,458] Trial 11 finished with value: 0.87304 and parameters: {'bert.encoder.layer.0.attention.self.key_type': 'LinearInteger', 'bert.encoder.layer.0.attention.self.key_data_in_width': 16, 'bert.encoder.layer.0.attention.self.key_data_in_frac_width': 2, 'bert.encoder.layer.0.attention.self.key_weight_width': 16, 'bert.encoder.layer.0.attention.self.key_weight_frac_width': 8, 'bert.encoder.layer.0.attention.self.key_bias_width': 16, 'bert.encoder.layer.0.attention.self.key_bias_frac_width': 4, 'bert.encoder.layer.0.attention.self.value_type': 'torch.nn.Linear', 'bert.encoder.layer.0.attention.output.dense_type': 'torch.nn.Linear', 'bert.encoder.layer.0.intermediate.dense_type': 'torch.nn.Linear', 'bert.encoder.layer.0.output.dense_type': 'torch.nn.Linear', 'bert.encoder.layer.1.attention.self.query_type': 'LinearInteger', 'bert.encoder.layer.1.attention.self.query_data_in_width': 32, 'bert.encoder.layer.1.attention.self.query_data_in_frac_width': 2, 'bert.encoder.layer.1.attention.self.query_weight_width': 8, 'bert.encoder.layer.1.attention.self.query_weight_frac_width': 4, 'bert.encoder.layer.1.attention.self.query_bias_width': 32, 'bert.encoder.layer.1.attention.self.query_bias_frac_width': 8, 'bert.encoder.layer.1.attention.self.value_type': 'torch.nn.Linear', 'bert.encoder.layer.1.attention.output.dense_type': 'torch.nn.Linear', 'bert.encoder.layer.1.intermediate.dense_type': 'LinearInteger', 'bert.encoder.layer.1.intermediate.dense_data_in_width': 16, 'bert.encoder.layer.1.intermediate.dense_data_in_frac_width': 8, 'bert.encoder.layer.1.intermediate.dense_weight_width': 32, 'bert.encoder.layer.1.intermediate.dense_weight_frac_width': 4, 'bert.encoder.layer.1.intermediate.dense_bias_width': 16, 'bert.encoder.layer.1.intermediate.dense_bias_frac_width': 8, 'bert.encoder.layer.1.output.dense_type': 'torch.nn.Linear', 'classifier_type': 'torch.nn.Linear'}. Best is trial 3 with value: 0.87388.\n"
     ]
    },
    {
     "data": {
      "text/html": [
       "\n",
       "    <div>\n",
       "      \n",
       "      <progress value='3125' max='3125' style='width:300px; height:20px; vertical-align: middle;'></progress>\n",
       "      [3125/3125 01:46, Epoch 1/1]\n",
       "    </div>\n",
       "    <table border=\"1\" class=\"dataframe\">\n",
       "  <thead>\n",
       " <tr style=\"text-align: left;\">\n",
       "      <th>Step</th>\n",
       "      <th>Training Loss</th>\n",
       "    </tr>\n",
       "  </thead>\n",
       "  <tbody>\n",
       "    <tr>\n",
       "      <td>500</td>\n",
       "      <td>0.332500</td>\n",
       "    </tr>\n",
       "    <tr>\n",
       "      <td>1000</td>\n",
       "      <td>0.294200</td>\n",
       "    </tr>\n",
       "    <tr>\n",
       "      <td>1500</td>\n",
       "      <td>0.316600</td>\n",
       "    </tr>\n",
       "    <tr>\n",
       "      <td>2000</td>\n",
       "      <td>0.332300</td>\n",
       "    </tr>\n",
       "    <tr>\n",
       "      <td>2500</td>\n",
       "      <td>0.313100</td>\n",
       "    </tr>\n",
       "    <tr>\n",
       "      <td>3000</td>\n",
       "      <td>0.355000</td>\n",
       "    </tr>\n",
       "  </tbody>\n",
       "</table><p>"
      ],
      "text/plain": [
       "<IPython.core.display.HTML object>"
      ]
     },
     "metadata": {},
     "output_type": "display_data"
    },
    {
     "data": {
      "text/html": [
       "\n",
       "    <div>\n",
       "      \n",
       "      <progress value='3125' max='3125' style='width:300px; height:20px; vertical-align: middle;'></progress>\n",
       "      [3125/3125 00:51]\n",
       "    </div>\n",
       "    "
      ],
      "text/plain": [
       "<IPython.core.display.HTML object>"
      ]
     },
     "metadata": {},
     "output_type": "display_data"
    },
    {
     "name": "stderr",
     "output_type": "stream",
     "text": [
      "[I 2025-01-31 02:35:03,982] Trial 12 finished with value: 0.873 and parameters: {'bert.encoder.layer.0.attention.self.key_type': 'LinearInteger', 'bert.encoder.layer.0.attention.self.key_data_in_width': 16, 'bert.encoder.layer.0.attention.self.key_data_in_frac_width': 2, 'bert.encoder.layer.0.attention.self.key_weight_width': 32, 'bert.encoder.layer.0.attention.self.key_weight_frac_width': 4, 'bert.encoder.layer.0.attention.self.key_bias_width': 16, 'bert.encoder.layer.0.attention.self.key_bias_frac_width': 4, 'bert.encoder.layer.0.attention.self.value_type': 'torch.nn.Linear', 'bert.encoder.layer.0.attention.output.dense_type': 'torch.nn.Linear', 'bert.encoder.layer.0.intermediate.dense_type': 'torch.nn.Linear', 'bert.encoder.layer.0.output.dense_type': 'torch.nn.Linear', 'bert.encoder.layer.1.attention.self.query_type': 'LinearInteger', 'bert.encoder.layer.1.attention.self.query_data_in_width': 32, 'bert.encoder.layer.1.attention.self.query_data_in_frac_width': 2, 'bert.encoder.layer.1.attention.self.query_weight_width': 8, 'bert.encoder.layer.1.attention.self.query_weight_frac_width': 8, 'bert.encoder.layer.1.attention.self.query_bias_width': 32, 'bert.encoder.layer.1.attention.self.query_bias_frac_width': 4, 'bert.encoder.layer.1.attention.self.value_type': 'torch.nn.Linear', 'bert.encoder.layer.1.attention.output.dense_type': 'torch.nn.Linear', 'bert.encoder.layer.1.intermediate.dense_type': 'LinearInteger', 'bert.encoder.layer.1.intermediate.dense_data_in_width': 32, 'bert.encoder.layer.1.intermediate.dense_data_in_frac_width': 2, 'bert.encoder.layer.1.intermediate.dense_weight_width': 32, 'bert.encoder.layer.1.intermediate.dense_weight_frac_width': 4, 'bert.encoder.layer.1.intermediate.dense_bias_width': 16, 'bert.encoder.layer.1.intermediate.dense_bias_frac_width': 2, 'bert.encoder.layer.1.output.dense_type': 'torch.nn.Linear', 'classifier_type': 'torch.nn.Linear'}. Best is trial 3 with value: 0.87388.\n"
     ]
    },
    {
     "data": {
      "text/html": [
       "\n",
       "    <div>\n",
       "      \n",
       "      <progress value='3125' max='3125' style='width:300px; height:20px; vertical-align: middle;'></progress>\n",
       "      [3125/3125 01:47, Epoch 1/1]\n",
       "    </div>\n",
       "    <table border=\"1\" class=\"dataframe\">\n",
       "  <thead>\n",
       " <tr style=\"text-align: left;\">\n",
       "      <th>Step</th>\n",
       "      <th>Training Loss</th>\n",
       "    </tr>\n",
       "  </thead>\n",
       "  <tbody>\n",
       "    <tr>\n",
       "      <td>500</td>\n",
       "      <td>0.316200</td>\n",
       "    </tr>\n",
       "    <tr>\n",
       "      <td>1000</td>\n",
       "      <td>0.286800</td>\n",
       "    </tr>\n",
       "    <tr>\n",
       "      <td>1500</td>\n",
       "      <td>0.316600</td>\n",
       "    </tr>\n",
       "    <tr>\n",
       "      <td>2000</td>\n",
       "      <td>0.328200</td>\n",
       "    </tr>\n",
       "    <tr>\n",
       "      <td>2500</td>\n",
       "      <td>0.306400</td>\n",
       "    </tr>\n",
       "    <tr>\n",
       "      <td>3000</td>\n",
       "      <td>0.347800</td>\n",
       "    </tr>\n",
       "  </tbody>\n",
       "</table><p>"
      ],
      "text/plain": [
       "<IPython.core.display.HTML object>"
      ]
     },
     "metadata": {},
     "output_type": "display_data"
    },
    {
     "data": {
      "text/html": [
       "\n",
       "    <div>\n",
       "      \n",
       "      <progress value='3125' max='3125' style='width:300px; height:20px; vertical-align: middle;'></progress>\n",
       "      [3125/3125 00:51]\n",
       "    </div>\n",
       "    "
      ],
      "text/plain": [
       "<IPython.core.display.HTML object>"
      ]
     },
     "metadata": {},
     "output_type": "display_data"
    },
    {
     "name": "stderr",
     "output_type": "stream",
     "text": [
      "[I 2025-01-31 02:37:45,073] Trial 13 finished with value: 0.87024 and parameters: {'bert.encoder.layer.0.attention.self.key_type': 'LinearInteger', 'bert.encoder.layer.0.attention.self.key_data_in_width': 16, 'bert.encoder.layer.0.attention.self.key_data_in_frac_width': 2, 'bert.encoder.layer.0.attention.self.key_weight_width': 16, 'bert.encoder.layer.0.attention.self.key_weight_frac_width': 2, 'bert.encoder.layer.0.attention.self.key_bias_width': 16, 'bert.encoder.layer.0.attention.self.key_bias_frac_width': 8, 'bert.encoder.layer.0.attention.self.value_type': 'torch.nn.Linear', 'bert.encoder.layer.0.attention.output.dense_type': 'torch.nn.Linear', 'bert.encoder.layer.0.intermediate.dense_type': 'torch.nn.Linear', 'bert.encoder.layer.0.output.dense_type': 'torch.nn.Linear', 'bert.encoder.layer.1.attention.self.query_type': 'LinearInteger', 'bert.encoder.layer.1.attention.self.query_data_in_width': 8, 'bert.encoder.layer.1.attention.self.query_data_in_frac_width': 4, 'bert.encoder.layer.1.attention.self.query_weight_width': 8, 'bert.encoder.layer.1.attention.self.query_weight_frac_width': 8, 'bert.encoder.layer.1.attention.self.query_bias_width': 32, 'bert.encoder.layer.1.attention.self.query_bias_frac_width': 4, 'bert.encoder.layer.1.attention.self.value_type': 'torch.nn.Linear', 'bert.encoder.layer.1.attention.output.dense_type': 'torch.nn.Linear', 'bert.encoder.layer.1.intermediate.dense_type': 'LinearInteger', 'bert.encoder.layer.1.intermediate.dense_data_in_width': 8, 'bert.encoder.layer.1.intermediate.dense_data_in_frac_width': 4, 'bert.encoder.layer.1.intermediate.dense_weight_width': 8, 'bert.encoder.layer.1.intermediate.dense_weight_frac_width': 2, 'bert.encoder.layer.1.intermediate.dense_bias_width': 32, 'bert.encoder.layer.1.intermediate.dense_bias_frac_width': 4, 'bert.encoder.layer.1.output.dense_type': 'torch.nn.Linear', 'classifier_type': 'torch.nn.Linear'}. Best is trial 3 with value: 0.87388.\n"
     ]
    },
    {
     "data": {
      "text/html": [
       "\n",
       "    <div>\n",
       "      \n",
       "      <progress value='3125' max='3125' style='width:300px; height:20px; vertical-align: middle;'></progress>\n",
       "      [3125/3125 01:52, Epoch 1/1]\n",
       "    </div>\n",
       "    <table border=\"1\" class=\"dataframe\">\n",
       "  <thead>\n",
       " <tr style=\"text-align: left;\">\n",
       "      <th>Step</th>\n",
       "      <th>Training Loss</th>\n",
       "    </tr>\n",
       "  </thead>\n",
       "  <tbody>\n",
       "    <tr>\n",
       "      <td>500</td>\n",
       "      <td>0.313100</td>\n",
       "    </tr>\n",
       "    <tr>\n",
       "      <td>1000</td>\n",
       "      <td>0.280700</td>\n",
       "    </tr>\n",
       "    <tr>\n",
       "      <td>1500</td>\n",
       "      <td>0.314000</td>\n",
       "    </tr>\n",
       "    <tr>\n",
       "      <td>2000</td>\n",
       "      <td>0.331400</td>\n",
       "    </tr>\n",
       "    <tr>\n",
       "      <td>2500</td>\n",
       "      <td>0.308200</td>\n",
       "    </tr>\n",
       "    <tr>\n",
       "      <td>3000</td>\n",
       "      <td>0.348300</td>\n",
       "    </tr>\n",
       "  </tbody>\n",
       "</table><p>"
      ],
      "text/plain": [
       "<IPython.core.display.HTML object>"
      ]
     },
     "metadata": {},
     "output_type": "display_data"
    },
    {
     "data": {
      "text/html": [
       "\n",
       "    <div>\n",
       "      \n",
       "      <progress value='3125' max='3125' style='width:300px; height:20px; vertical-align: middle;'></progress>\n",
       "      [3125/3125 00:52]\n",
       "    </div>\n",
       "    "
      ],
      "text/plain": [
       "<IPython.core.display.HTML object>"
      ]
     },
     "metadata": {},
     "output_type": "display_data"
    },
    {
     "name": "stderr",
     "output_type": "stream",
     "text": [
      "[I 2025-01-31 02:40:31,803] Trial 14 finished with value: 0.86632 and parameters: {'bert.encoder.layer.0.attention.self.key_type': 'LinearInteger', 'bert.encoder.layer.0.attention.self.key_data_in_width': 8, 'bert.encoder.layer.0.attention.self.key_data_in_frac_width': 8, 'bert.encoder.layer.0.attention.self.key_weight_width': 32, 'bert.encoder.layer.0.attention.self.key_weight_frac_width': 8, 'bert.encoder.layer.0.attention.self.key_bias_width': 16, 'bert.encoder.layer.0.attention.self.key_bias_frac_width': 2, 'bert.encoder.layer.0.attention.self.value_type': 'torch.nn.Linear', 'bert.encoder.layer.0.attention.output.dense_type': 'torch.nn.Linear', 'bert.encoder.layer.0.intermediate.dense_type': 'torch.nn.Linear', 'bert.encoder.layer.0.output.dense_type': 'LinearInteger', 'bert.encoder.layer.0.output.dense_data_in_width': 32, 'bert.encoder.layer.0.output.dense_data_in_frac_width': 4, 'bert.encoder.layer.0.output.dense_weight_width': 8, 'bert.encoder.layer.0.output.dense_weight_frac_width': 4, 'bert.encoder.layer.0.output.dense_bias_width': 16, 'bert.encoder.layer.0.output.dense_bias_frac_width': 2, 'bert.encoder.layer.1.attention.self.query_type': 'LinearInteger', 'bert.encoder.layer.1.attention.self.query_data_in_width': 32, 'bert.encoder.layer.1.attention.self.query_data_in_frac_width': 4, 'bert.encoder.layer.1.attention.self.query_weight_width': 8, 'bert.encoder.layer.1.attention.self.query_weight_frac_width': 4, 'bert.encoder.layer.1.attention.self.query_bias_width': 32, 'bert.encoder.layer.1.attention.self.query_bias_frac_width': 8, 'bert.encoder.layer.1.attention.self.value_type': 'LinearInteger', 'bert.encoder.layer.1.attention.self.value_data_in_width': 16, 'bert.encoder.layer.1.attention.self.value_data_in_frac_width': 2, 'bert.encoder.layer.1.attention.self.value_weight_width': 16, 'bert.encoder.layer.1.attention.self.value_weight_frac_width': 4, 'bert.encoder.layer.1.attention.self.value_bias_width': 16, 'bert.encoder.layer.1.attention.self.value_bias_frac_width': 4, 'bert.encoder.layer.1.attention.output.dense_type': 'torch.nn.Linear', 'bert.encoder.layer.1.intermediate.dense_type': 'torch.nn.Linear', 'bert.encoder.layer.1.output.dense_type': 'LinearInteger', 'bert.encoder.layer.1.output.dense_data_in_width': 32, 'bert.encoder.layer.1.output.dense_data_in_frac_width': 8, 'bert.encoder.layer.1.output.dense_weight_width': 16, 'bert.encoder.layer.1.output.dense_weight_frac_width': 2, 'bert.encoder.layer.1.output.dense_bias_width': 8, 'bert.encoder.layer.1.output.dense_bias_frac_width': 8, 'classifier_type': 'torch.nn.Linear'}. Best is trial 3 with value: 0.87388.\n"
     ]
    },
    {
     "data": {
      "text/html": [
       "\n",
       "    <div>\n",
       "      \n",
       "      <progress value='3125' max='3125' style='width:300px; height:20px; vertical-align: middle;'></progress>\n",
       "      [3125/3125 01:48, Epoch 1/1]\n",
       "    </div>\n",
       "    <table border=\"1\" class=\"dataframe\">\n",
       "  <thead>\n",
       " <tr style=\"text-align: left;\">\n",
       "      <th>Step</th>\n",
       "      <th>Training Loss</th>\n",
       "    </tr>\n",
       "  </thead>\n",
       "  <tbody>\n",
       "    <tr>\n",
       "      <td>500</td>\n",
       "      <td>0.338300</td>\n",
       "    </tr>\n",
       "    <tr>\n",
       "      <td>1000</td>\n",
       "      <td>0.308600</td>\n",
       "    </tr>\n",
       "    <tr>\n",
       "      <td>1500</td>\n",
       "      <td>0.327000</td>\n",
       "    </tr>\n",
       "    <tr>\n",
       "      <td>2000</td>\n",
       "      <td>0.332900</td>\n",
       "    </tr>\n",
       "    <tr>\n",
       "      <td>2500</td>\n",
       "      <td>0.319000</td>\n",
       "    </tr>\n",
       "    <tr>\n",
       "      <td>3000</td>\n",
       "      <td>0.363100</td>\n",
       "    </tr>\n",
       "  </tbody>\n",
       "</table><p>"
      ],
      "text/plain": [
       "<IPython.core.display.HTML object>"
      ]
     },
     "metadata": {},
     "output_type": "display_data"
    },
    {
     "data": {
      "text/html": [
       "\n",
       "    <div>\n",
       "      \n",
       "      <progress value='3125' max='3125' style='width:300px; height:20px; vertical-align: middle;'></progress>\n",
       "      [3125/3125 00:52]\n",
       "    </div>\n",
       "    "
      ],
      "text/plain": [
       "<IPython.core.display.HTML object>"
      ]
     },
     "metadata": {},
     "output_type": "display_data"
    },
    {
     "name": "stderr",
     "output_type": "stream",
     "text": [
      "[I 2025-01-31 02:43:14,501] Trial 15 finished with value: 0.87276 and parameters: {'bert.encoder.layer.0.attention.self.key_type': 'LinearInteger', 'bert.encoder.layer.0.attention.self.key_data_in_width': 16, 'bert.encoder.layer.0.attention.self.key_data_in_frac_width': 2, 'bert.encoder.layer.0.attention.self.key_weight_width': 16, 'bert.encoder.layer.0.attention.self.key_weight_frac_width': 4, 'bert.encoder.layer.0.attention.self.key_bias_width': 16, 'bert.encoder.layer.0.attention.self.key_bias_frac_width': 4, 'bert.encoder.layer.0.attention.self.value_type': 'torch.nn.Linear', 'bert.encoder.layer.0.attention.output.dense_type': 'torch.nn.Linear', 'bert.encoder.layer.0.intermediate.dense_type': 'torch.nn.Linear', 'bert.encoder.layer.0.output.dense_type': 'torch.nn.Linear', 'bert.encoder.layer.1.attention.self.query_type': 'LinearInteger', 'bert.encoder.layer.1.attention.self.query_data_in_width': 16, 'bert.encoder.layer.1.attention.self.query_data_in_frac_width': 2, 'bert.encoder.layer.1.attention.self.query_weight_width': 16, 'bert.encoder.layer.1.attention.self.query_weight_frac_width': 2, 'bert.encoder.layer.1.attention.self.query_bias_width': 16, 'bert.encoder.layer.1.attention.self.query_bias_frac_width': 2, 'bert.encoder.layer.1.attention.self.value_type': 'torch.nn.Linear', 'bert.encoder.layer.1.attention.output.dense_type': 'torch.nn.Linear', 'bert.encoder.layer.1.intermediate.dense_type': 'LinearInteger', 'bert.encoder.layer.1.intermediate.dense_data_in_width': 16, 'bert.encoder.layer.1.intermediate.dense_data_in_frac_width': 8, 'bert.encoder.layer.1.intermediate.dense_weight_width': 32, 'bert.encoder.layer.1.intermediate.dense_weight_frac_width': 8, 'bert.encoder.layer.1.intermediate.dense_bias_width': 8, 'bert.encoder.layer.1.intermediate.dense_bias_frac_width': 8, 'bert.encoder.layer.1.output.dense_type': 'torch.nn.Linear', 'classifier_type': 'torch.nn.Linear'}. Best is trial 3 with value: 0.87388.\n"
     ]
    },
    {
     "data": {
      "text/html": [
       "\n",
       "    <div>\n",
       "      \n",
       "      <progress value='3125' max='3125' style='width:300px; height:20px; vertical-align: middle;'></progress>\n",
       "      [3125/3125 01:47, Epoch 1/1]\n",
       "    </div>\n",
       "    <table border=\"1\" class=\"dataframe\">\n",
       "  <thead>\n",
       " <tr style=\"text-align: left;\">\n",
       "      <th>Step</th>\n",
       "      <th>Training Loss</th>\n",
       "    </tr>\n",
       "  </thead>\n",
       "  <tbody>\n",
       "    <tr>\n",
       "      <td>500</td>\n",
       "      <td>0.358600</td>\n",
       "    </tr>\n",
       "    <tr>\n",
       "      <td>1000</td>\n",
       "      <td>0.302500</td>\n",
       "    </tr>\n",
       "    <tr>\n",
       "      <td>1500</td>\n",
       "      <td>0.342500</td>\n",
       "    </tr>\n",
       "    <tr>\n",
       "      <td>2000</td>\n",
       "      <td>0.349700</td>\n",
       "    </tr>\n",
       "    <tr>\n",
       "      <td>2500</td>\n",
       "      <td>0.322300</td>\n",
       "    </tr>\n",
       "    <tr>\n",
       "      <td>3000</td>\n",
       "      <td>0.356700</td>\n",
       "    </tr>\n",
       "  </tbody>\n",
       "</table><p>"
      ],
      "text/plain": [
       "<IPython.core.display.HTML object>"
      ]
     },
     "metadata": {},
     "output_type": "display_data"
    },
    {
     "data": {
      "text/html": [
       "\n",
       "    <div>\n",
       "      \n",
       "      <progress value='3125' max='3125' style='width:300px; height:20px; vertical-align: middle;'></progress>\n",
       "      [3125/3125 00:52]\n",
       "    </div>\n",
       "    "
      ],
      "text/plain": [
       "<IPython.core.display.HTML object>"
      ]
     },
     "metadata": {},
     "output_type": "display_data"
    },
    {
     "name": "stderr",
     "output_type": "stream",
     "text": [
      "[I 2025-01-31 02:45:56,018] Trial 16 finished with value: 0.87404 and parameters: {'bert.encoder.layer.0.attention.self.key_type': 'LinearInteger', 'bert.encoder.layer.0.attention.self.key_data_in_width': 16, 'bert.encoder.layer.0.attention.self.key_data_in_frac_width': 8, 'bert.encoder.layer.0.attention.self.key_weight_width': 32, 'bert.encoder.layer.0.attention.self.key_weight_frac_width': 8, 'bert.encoder.layer.0.attention.self.key_bias_width': 16, 'bert.encoder.layer.0.attention.self.key_bias_frac_width': 2, 'bert.encoder.layer.0.attention.self.value_type': 'torch.nn.Linear', 'bert.encoder.layer.0.attention.output.dense_type': 'torch.nn.Linear', 'bert.encoder.layer.0.intermediate.dense_type': 'torch.nn.Linear', 'bert.encoder.layer.0.output.dense_type': 'torch.nn.Linear', 'bert.encoder.layer.1.attention.self.query_type': 'LinearInteger', 'bert.encoder.layer.1.attention.self.query_data_in_width': 32, 'bert.encoder.layer.1.attention.self.query_data_in_frac_width': 4, 'bert.encoder.layer.1.attention.self.query_weight_width': 32, 'bert.encoder.layer.1.attention.self.query_weight_frac_width': 4, 'bert.encoder.layer.1.attention.self.query_bias_width': 8, 'bert.encoder.layer.1.attention.self.query_bias_frac_width': 4, 'bert.encoder.layer.1.attention.self.value_type': 'LinearInteger', 'bert.encoder.layer.1.attention.self.value_data_in_width': 16, 'bert.encoder.layer.1.attention.self.value_data_in_frac_width': 4, 'bert.encoder.layer.1.attention.self.value_weight_width': 8, 'bert.encoder.layer.1.attention.self.value_weight_frac_width': 2, 'bert.encoder.layer.1.attention.self.value_bias_width': 16, 'bert.encoder.layer.1.attention.self.value_bias_frac_width': 2, 'bert.encoder.layer.1.attention.output.dense_type': 'torch.nn.Linear', 'bert.encoder.layer.1.intermediate.dense_type': 'torch.nn.Linear', 'bert.encoder.layer.1.output.dense_type': 'torch.nn.Linear', 'classifier_type': 'torch.nn.Linear'}. Best is trial 16 with value: 0.87404.\n"
     ]
    },
    {
     "data": {
      "text/html": [
       "\n",
       "    <div>\n",
       "      \n",
       "      <progress value='3125' max='3125' style='width:300px; height:20px; vertical-align: middle;'></progress>\n",
       "      [3125/3125 01:48, Epoch 1/1]\n",
       "    </div>\n",
       "    <table border=\"1\" class=\"dataframe\">\n",
       "  <thead>\n",
       " <tr style=\"text-align: left;\">\n",
       "      <th>Step</th>\n",
       "      <th>Training Loss</th>\n",
       "    </tr>\n",
       "  </thead>\n",
       "  <tbody>\n",
       "    <tr>\n",
       "      <td>500</td>\n",
       "      <td>0.352000</td>\n",
       "    </tr>\n",
       "    <tr>\n",
       "      <td>1000</td>\n",
       "      <td>0.306600</td>\n",
       "    </tr>\n",
       "    <tr>\n",
       "      <td>1500</td>\n",
       "      <td>0.336400</td>\n",
       "    </tr>\n",
       "    <tr>\n",
       "      <td>2000</td>\n",
       "      <td>0.354100</td>\n",
       "    </tr>\n",
       "    <tr>\n",
       "      <td>2500</td>\n",
       "      <td>0.317900</td>\n",
       "    </tr>\n",
       "    <tr>\n",
       "      <td>3000</td>\n",
       "      <td>0.366600</td>\n",
       "    </tr>\n",
       "  </tbody>\n",
       "</table><p>"
      ],
      "text/plain": [
       "<IPython.core.display.HTML object>"
      ]
     },
     "metadata": {},
     "output_type": "display_data"
    },
    {
     "data": {
      "text/html": [
       "\n",
       "    <div>\n",
       "      \n",
       "      <progress value='3125' max='3125' style='width:300px; height:20px; vertical-align: middle;'></progress>\n",
       "      [3125/3125 00:52]\n",
       "    </div>\n",
       "    "
      ],
      "text/plain": [
       "<IPython.core.display.HTML object>"
      ]
     },
     "metadata": {},
     "output_type": "display_data"
    },
    {
     "name": "stderr",
     "output_type": "stream",
     "text": [
      "[I 2025-01-31 02:48:38,967] Trial 17 finished with value: 0.86576 and parameters: {'bert.encoder.layer.0.attention.self.key_type': 'LinearInteger', 'bert.encoder.layer.0.attention.self.key_data_in_width': 8, 'bert.encoder.layer.0.attention.self.key_data_in_frac_width': 8, 'bert.encoder.layer.0.attention.self.key_weight_width': 32, 'bert.encoder.layer.0.attention.self.key_weight_frac_width': 4, 'bert.encoder.layer.0.attention.self.key_bias_width': 16, 'bert.encoder.layer.0.attention.self.key_bias_frac_width': 4, 'bert.encoder.layer.0.attention.self.value_type': 'torch.nn.Linear', 'bert.encoder.layer.0.attention.output.dense_type': 'torch.nn.Linear', 'bert.encoder.layer.0.intermediate.dense_type': 'torch.nn.Linear', 'bert.encoder.layer.0.output.dense_type': 'torch.nn.Linear', 'bert.encoder.layer.1.attention.self.query_type': 'LinearInteger', 'bert.encoder.layer.1.attention.self.query_data_in_width': 8, 'bert.encoder.layer.1.attention.self.query_data_in_frac_width': 4, 'bert.encoder.layer.1.attention.self.query_weight_width': 32, 'bert.encoder.layer.1.attention.self.query_weight_frac_width': 4, 'bert.encoder.layer.1.attention.self.query_bias_width': 8, 'bert.encoder.layer.1.attention.self.query_bias_frac_width': 4, 'bert.encoder.layer.1.attention.self.value_type': 'LinearInteger', 'bert.encoder.layer.1.attention.self.value_data_in_width': 16, 'bert.encoder.layer.1.attention.self.value_data_in_frac_width': 4, 'bert.encoder.layer.1.attention.self.value_weight_width': 8, 'bert.encoder.layer.1.attention.self.value_weight_frac_width': 2, 'bert.encoder.layer.1.attention.self.value_bias_width': 16, 'bert.encoder.layer.1.attention.self.value_bias_frac_width': 2, 'bert.encoder.layer.1.attention.output.dense_type': 'torch.nn.Linear', 'bert.encoder.layer.1.intermediate.dense_type': 'torch.nn.Linear', 'bert.encoder.layer.1.output.dense_type': 'torch.nn.Linear', 'classifier_type': 'torch.nn.Linear'}. Best is trial 16 with value: 0.87404.\n"
     ]
    },
    {
     "data": {
      "text/html": [
       "\n",
       "    <div>\n",
       "      \n",
       "      <progress value='3125' max='3125' style='width:300px; height:20px; vertical-align: middle;'></progress>\n",
       "      [3125/3125 01:54, Epoch 1/1]\n",
       "    </div>\n",
       "    <table border=\"1\" class=\"dataframe\">\n",
       "  <thead>\n",
       " <tr style=\"text-align: left;\">\n",
       "      <th>Step</th>\n",
       "      <th>Training Loss</th>\n",
       "    </tr>\n",
       "  </thead>\n",
       "  <tbody>\n",
       "    <tr>\n",
       "      <td>500</td>\n",
       "      <td>0.693400</td>\n",
       "    </tr>\n",
       "    <tr>\n",
       "      <td>1000</td>\n",
       "      <td>0.693100</td>\n",
       "    </tr>\n",
       "    <tr>\n",
       "      <td>1500</td>\n",
       "      <td>0.693100</td>\n",
       "    </tr>\n",
       "    <tr>\n",
       "      <td>2000</td>\n",
       "      <td>0.693300</td>\n",
       "    </tr>\n",
       "    <tr>\n",
       "      <td>2500</td>\n",
       "      <td>0.625600</td>\n",
       "    </tr>\n",
       "    <tr>\n",
       "      <td>3000</td>\n",
       "      <td>0.621800</td>\n",
       "    </tr>\n",
       "  </tbody>\n",
       "</table><p>"
      ],
      "text/plain": [
       "<IPython.core.display.HTML object>"
      ]
     },
     "metadata": {},
     "output_type": "display_data"
    },
    {
     "data": {
      "text/html": [
       "\n",
       "    <div>\n",
       "      \n",
       "      <progress value='3125' max='3125' style='width:300px; height:20px; vertical-align: middle;'></progress>\n",
       "      [3125/3125 00:54]\n",
       "    </div>\n",
       "    "
      ],
      "text/plain": [
       "<IPython.core.display.HTML object>"
      ]
     },
     "metadata": {},
     "output_type": "display_data"
    },
    {
     "name": "stderr",
     "output_type": "stream",
     "text": [
      "[I 2025-01-31 02:51:29,821] Trial 18 finished with value: 0.83364 and parameters: {'bert.encoder.layer.0.attention.self.key_type': 'torch.nn.Linear', 'bert.encoder.layer.0.attention.self.value_type': 'LinearInteger', 'bert.encoder.layer.0.attention.self.value_data_in_width': 8, 'bert.encoder.layer.0.attention.self.value_data_in_frac_width': 8, 'bert.encoder.layer.0.attention.self.value_weight_width': 16, 'bert.encoder.layer.0.attention.self.value_weight_frac_width': 8, 'bert.encoder.layer.0.attention.self.value_bias_width': 16, 'bert.encoder.layer.0.attention.self.value_bias_frac_width': 2, 'bert.encoder.layer.0.attention.output.dense_type': 'torch.nn.Linear', 'bert.encoder.layer.0.intermediate.dense_type': 'LinearInteger', 'bert.encoder.layer.0.intermediate.dense_data_in_width': 16, 'bert.encoder.layer.0.intermediate.dense_data_in_frac_width': 4, 'bert.encoder.layer.0.intermediate.dense_weight_width': 32, 'bert.encoder.layer.0.intermediate.dense_weight_frac_width': 4, 'bert.encoder.layer.0.intermediate.dense_bias_width': 32, 'bert.encoder.layer.0.intermediate.dense_bias_frac_width': 2, 'bert.encoder.layer.0.output.dense_type': 'LinearInteger', 'bert.encoder.layer.0.output.dense_data_in_width': 8, 'bert.encoder.layer.0.output.dense_data_in_frac_width': 2, 'bert.encoder.layer.0.output.dense_weight_width': 32, 'bert.encoder.layer.0.output.dense_weight_frac_width': 8, 'bert.encoder.layer.0.output.dense_bias_width': 8, 'bert.encoder.layer.0.output.dense_bias_frac_width': 8, 'bert.encoder.layer.1.attention.self.query_type': 'LinearInteger', 'bert.encoder.layer.1.attention.self.query_data_in_width': 32, 'bert.encoder.layer.1.attention.self.query_data_in_frac_width': 4, 'bert.encoder.layer.1.attention.self.query_weight_width': 32, 'bert.encoder.layer.1.attention.self.query_weight_frac_width': 4, 'bert.encoder.layer.1.attention.self.query_bias_width': 8, 'bert.encoder.layer.1.attention.self.query_bias_frac_width': 4, 'bert.encoder.layer.1.attention.self.value_type': 'LinearInteger', 'bert.encoder.layer.1.attention.self.value_data_in_width': 16, 'bert.encoder.layer.1.attention.self.value_data_in_frac_width': 4, 'bert.encoder.layer.1.attention.self.value_weight_width': 8, 'bert.encoder.layer.1.attention.self.value_weight_frac_width': 2, 'bert.encoder.layer.1.attention.self.value_bias_width': 16, 'bert.encoder.layer.1.attention.self.value_bias_frac_width': 2, 'bert.encoder.layer.1.attention.output.dense_type': 'torch.nn.Linear', 'bert.encoder.layer.1.intermediate.dense_type': 'torch.nn.Linear', 'bert.encoder.layer.1.output.dense_type': 'torch.nn.Linear', 'classifier_type': 'LinearInteger', 'classifier_data_in_width': 32, 'classifier_data_in_frac_width': 4, 'classifier_weight_width': 32, 'classifier_weight_frac_width': 2, 'classifier_bias_width': 8, 'classifier_bias_frac_width': 8}. Best is trial 16 with value: 0.87404.\n"
     ]
    },
    {
     "data": {
      "text/html": [
       "\n",
       "    <div>\n",
       "      \n",
       "      <progress value='3125' max='3125' style='width:300px; height:20px; vertical-align: middle;'></progress>\n",
       "      [3125/3125 01:49, Epoch 1/1]\n",
       "    </div>\n",
       "    <table border=\"1\" class=\"dataframe\">\n",
       "  <thead>\n",
       " <tr style=\"text-align: left;\">\n",
       "      <th>Step</th>\n",
       "      <th>Training Loss</th>\n",
       "    </tr>\n",
       "  </thead>\n",
       "  <tbody>\n",
       "    <tr>\n",
       "      <td>500</td>\n",
       "      <td>0.398800</td>\n",
       "    </tr>\n",
       "    <tr>\n",
       "      <td>1000</td>\n",
       "      <td>0.345700</td>\n",
       "    </tr>\n",
       "    <tr>\n",
       "      <td>1500</td>\n",
       "      <td>0.345900</td>\n",
       "    </tr>\n",
       "    <tr>\n",
       "      <td>2000</td>\n",
       "      <td>0.347900</td>\n",
       "    </tr>\n",
       "    <tr>\n",
       "      <td>2500</td>\n",
       "      <td>0.338400</td>\n",
       "    </tr>\n",
       "    <tr>\n",
       "      <td>3000</td>\n",
       "      <td>0.367500</td>\n",
       "    </tr>\n",
       "  </tbody>\n",
       "</table><p>"
      ],
      "text/plain": [
       "<IPython.core.display.HTML object>"
      ]
     },
     "metadata": {},
     "output_type": "display_data"
    },
    {
     "data": {
      "text/html": [
       "\n",
       "    <div>\n",
       "      \n",
       "      <progress value='3125' max='3125' style='width:300px; height:20px; vertical-align: middle;'></progress>\n",
       "      [3125/3125 00:52]\n",
       "    </div>\n",
       "    "
      ],
      "text/plain": [
       "<IPython.core.display.HTML object>"
      ]
     },
     "metadata": {},
     "output_type": "display_data"
    },
    {
     "name": "stderr",
     "output_type": "stream",
     "text": [
      "[I 2025-01-31 02:54:13,249] Trial 19 finished with value: 0.86 and parameters: {'bert.encoder.layer.0.attention.self.key_type': 'LinearInteger', 'bert.encoder.layer.0.attention.self.key_data_in_width': 16, 'bert.encoder.layer.0.attention.self.key_data_in_frac_width': 8, 'bert.encoder.layer.0.attention.self.key_weight_width': 32, 'bert.encoder.layer.0.attention.self.key_weight_frac_width': 2, 'bert.encoder.layer.0.attention.self.key_bias_width': 32, 'bert.encoder.layer.0.attention.self.key_bias_frac_width': 8, 'bert.encoder.layer.0.attention.self.value_type': 'torch.nn.Linear', 'bert.encoder.layer.0.attention.output.dense_type': 'torch.nn.Linear', 'bert.encoder.layer.0.intermediate.dense_type': 'torch.nn.Linear', 'bert.encoder.layer.0.output.dense_type': 'torch.nn.Linear', 'bert.encoder.layer.1.attention.self.query_type': 'LinearInteger', 'bert.encoder.layer.1.attention.self.query_data_in_width': 8, 'bert.encoder.layer.1.attention.self.query_data_in_frac_width': 4, 'bert.encoder.layer.1.attention.self.query_weight_width': 32, 'bert.encoder.layer.1.attention.self.query_weight_frac_width': 4, 'bert.encoder.layer.1.attention.self.query_bias_width': 8, 'bert.encoder.layer.1.attention.self.query_bias_frac_width': 4, 'bert.encoder.layer.1.attention.self.value_type': 'LinearInteger', 'bert.encoder.layer.1.attention.self.value_data_in_width': 16, 'bert.encoder.layer.1.attention.self.value_data_in_frac_width': 4, 'bert.encoder.layer.1.attention.self.value_weight_width': 8, 'bert.encoder.layer.1.attention.self.value_weight_frac_width': 2, 'bert.encoder.layer.1.attention.self.value_bias_width': 16, 'bert.encoder.layer.1.attention.self.value_bias_frac_width': 4, 'bert.encoder.layer.1.attention.output.dense_type': 'torch.nn.Linear', 'bert.encoder.layer.1.intermediate.dense_type': 'torch.nn.Linear', 'bert.encoder.layer.1.output.dense_type': 'torch.nn.Linear', 'classifier_type': 'torch.nn.Linear'}. Best is trial 16 with value: 0.87404.\n"
     ]
    },
    {
     "data": {
      "text/html": [
       "\n",
       "    <div>\n",
       "      \n",
       "      <progress value='3125' max='3125' style='width:300px; height:20px; vertical-align: middle;'></progress>\n",
       "      [3125/3125 01:48, Epoch 1/1]\n",
       "    </div>\n",
       "    <table border=\"1\" class=\"dataframe\">\n",
       "  <thead>\n",
       " <tr style=\"text-align: left;\">\n",
       "      <th>Step</th>\n",
       "      <th>Training Loss</th>\n",
       "    </tr>\n",
       "  </thead>\n",
       "  <tbody>\n",
       "    <tr>\n",
       "      <td>500</td>\n",
       "      <td>0.358600</td>\n",
       "    </tr>\n",
       "    <tr>\n",
       "      <td>1000</td>\n",
       "      <td>0.302600</td>\n",
       "    </tr>\n",
       "    <tr>\n",
       "      <td>1500</td>\n",
       "      <td>0.342400</td>\n",
       "    </tr>\n",
       "    <tr>\n",
       "      <td>2000</td>\n",
       "      <td>0.349900</td>\n",
       "    </tr>\n",
       "    <tr>\n",
       "      <td>2500</td>\n",
       "      <td>0.322600</td>\n",
       "    </tr>\n",
       "    <tr>\n",
       "      <td>3000</td>\n",
       "      <td>0.357100</td>\n",
       "    </tr>\n",
       "  </tbody>\n",
       "</table><p>"
      ],
      "text/plain": [
       "<IPython.core.display.HTML object>"
      ]
     },
     "metadata": {},
     "output_type": "display_data"
    },
    {
     "data": {
      "text/html": [
       "\n",
       "    <div>\n",
       "      \n",
       "      <progress value='3125' max='3125' style='width:300px; height:20px; vertical-align: middle;'></progress>\n",
       "      [3125/3125 00:53]\n",
       "    </div>\n",
       "    "
      ],
      "text/plain": [
       "<IPython.core.display.HTML object>"
      ]
     },
     "metadata": {},
     "output_type": "display_data"
    },
    {
     "name": "stderr",
     "output_type": "stream",
     "text": [
      "[I 2025-01-31 02:56:56,362] Trial 20 finished with value: 0.87408 and parameters: {'bert.encoder.layer.0.attention.self.key_type': 'LinearInteger', 'bert.encoder.layer.0.attention.self.key_data_in_width': 32, 'bert.encoder.layer.0.attention.self.key_data_in_frac_width': 8, 'bert.encoder.layer.0.attention.self.key_weight_width': 32, 'bert.encoder.layer.0.attention.self.key_weight_frac_width': 8, 'bert.encoder.layer.0.attention.self.key_bias_width': 8, 'bert.encoder.layer.0.attention.self.key_bias_frac_width': 2, 'bert.encoder.layer.0.attention.self.value_type': 'torch.nn.Linear', 'bert.encoder.layer.0.attention.output.dense_type': 'torch.nn.Linear', 'bert.encoder.layer.0.intermediate.dense_type': 'torch.nn.Linear', 'bert.encoder.layer.0.output.dense_type': 'torch.nn.Linear', 'bert.encoder.layer.1.attention.self.query_type': 'LinearInteger', 'bert.encoder.layer.1.attention.self.query_data_in_width': 16, 'bert.encoder.layer.1.attention.self.query_data_in_frac_width': 4, 'bert.encoder.layer.1.attention.self.query_weight_width': 32, 'bert.encoder.layer.1.attention.self.query_weight_frac_width': 4, 'bert.encoder.layer.1.attention.self.query_bias_width': 8, 'bert.encoder.layer.1.attention.self.query_bias_frac_width': 4, 'bert.encoder.layer.1.attention.self.value_type': 'LinearInteger', 'bert.encoder.layer.1.attention.self.value_data_in_width': 32, 'bert.encoder.layer.1.attention.self.value_data_in_frac_width': 2, 'bert.encoder.layer.1.attention.self.value_weight_width': 16, 'bert.encoder.layer.1.attention.self.value_weight_frac_width': 2, 'bert.encoder.layer.1.attention.self.value_bias_width': 16, 'bert.encoder.layer.1.attention.self.value_bias_frac_width': 2, 'bert.encoder.layer.1.attention.output.dense_type': 'torch.nn.Linear', 'bert.encoder.layer.1.intermediate.dense_type': 'torch.nn.Linear', 'bert.encoder.layer.1.output.dense_type': 'torch.nn.Linear', 'classifier_type': 'torch.nn.Linear'}. Best is trial 20 with value: 0.87408.\n"
     ]
    },
    {
     "data": {
      "text/html": [
       "\n",
       "    <div>\n",
       "      \n",
       "      <progress value='3125' max='3125' style='width:300px; height:20px; vertical-align: middle;'></progress>\n",
       "      [3125/3125 01:47, Epoch 1/1]\n",
       "    </div>\n",
       "    <table border=\"1\" class=\"dataframe\">\n",
       "  <thead>\n",
       " <tr style=\"text-align: left;\">\n",
       "      <th>Step</th>\n",
       "      <th>Training Loss</th>\n",
       "    </tr>\n",
       "  </thead>\n",
       "  <tbody>\n",
       "    <tr>\n",
       "      <td>500</td>\n",
       "      <td>0.358600</td>\n",
       "    </tr>\n",
       "    <tr>\n",
       "      <td>1000</td>\n",
       "      <td>0.302600</td>\n",
       "    </tr>\n",
       "    <tr>\n",
       "      <td>1500</td>\n",
       "      <td>0.342400</td>\n",
       "    </tr>\n",
       "    <tr>\n",
       "      <td>2000</td>\n",
       "      <td>0.349900</td>\n",
       "    </tr>\n",
       "    <tr>\n",
       "      <td>2500</td>\n",
       "      <td>0.322600</td>\n",
       "    </tr>\n",
       "    <tr>\n",
       "      <td>3000</td>\n",
       "      <td>0.357100</td>\n",
       "    </tr>\n",
       "  </tbody>\n",
       "</table><p>"
      ],
      "text/plain": [
       "<IPython.core.display.HTML object>"
      ]
     },
     "metadata": {},
     "output_type": "display_data"
    },
    {
     "data": {
      "text/html": [
       "\n",
       "    <div>\n",
       "      \n",
       "      <progress value='3125' max='3125' style='width:300px; height:20px; vertical-align: middle;'></progress>\n",
       "      [3125/3125 00:52]\n",
       "    </div>\n",
       "    "
      ],
      "text/plain": [
       "<IPython.core.display.HTML object>"
      ]
     },
     "metadata": {},
     "output_type": "display_data"
    },
    {
     "name": "stderr",
     "output_type": "stream",
     "text": [
      "[I 2025-01-31 02:59:37,866] Trial 21 finished with value: 0.87408 and parameters: {'bert.encoder.layer.0.attention.self.key_type': 'LinearInteger', 'bert.encoder.layer.0.attention.self.key_data_in_width': 32, 'bert.encoder.layer.0.attention.self.key_data_in_frac_width': 8, 'bert.encoder.layer.0.attention.self.key_weight_width': 32, 'bert.encoder.layer.0.attention.self.key_weight_frac_width': 8, 'bert.encoder.layer.0.attention.self.key_bias_width': 8, 'bert.encoder.layer.0.attention.self.key_bias_frac_width': 2, 'bert.encoder.layer.0.attention.self.value_type': 'torch.nn.Linear', 'bert.encoder.layer.0.attention.output.dense_type': 'torch.nn.Linear', 'bert.encoder.layer.0.intermediate.dense_type': 'torch.nn.Linear', 'bert.encoder.layer.0.output.dense_type': 'torch.nn.Linear', 'bert.encoder.layer.1.attention.self.query_type': 'LinearInteger', 'bert.encoder.layer.1.attention.self.query_data_in_width': 16, 'bert.encoder.layer.1.attention.self.query_data_in_frac_width': 4, 'bert.encoder.layer.1.attention.self.query_weight_width': 32, 'bert.encoder.layer.1.attention.self.query_weight_frac_width': 4, 'bert.encoder.layer.1.attention.self.query_bias_width': 8, 'bert.encoder.layer.1.attention.self.query_bias_frac_width': 4, 'bert.encoder.layer.1.attention.self.value_type': 'LinearInteger', 'bert.encoder.layer.1.attention.self.value_data_in_width': 32, 'bert.encoder.layer.1.attention.self.value_data_in_frac_width': 2, 'bert.encoder.layer.1.attention.self.value_weight_width': 16, 'bert.encoder.layer.1.attention.self.value_weight_frac_width': 2, 'bert.encoder.layer.1.attention.self.value_bias_width': 16, 'bert.encoder.layer.1.attention.self.value_bias_frac_width': 2, 'bert.encoder.layer.1.attention.output.dense_type': 'torch.nn.Linear', 'bert.encoder.layer.1.intermediate.dense_type': 'torch.nn.Linear', 'bert.encoder.layer.1.output.dense_type': 'torch.nn.Linear', 'classifier_type': 'torch.nn.Linear'}. Best is trial 20 with value: 0.87408.\n"
     ]
    },
    {
     "data": {
      "text/html": [
       "\n",
       "    <div>\n",
       "      \n",
       "      <progress value='3125' max='3125' style='width:300px; height:20px; vertical-align: middle;'></progress>\n",
       "      [3125/3125 01:48, Epoch 1/1]\n",
       "    </div>\n",
       "    <table border=\"1\" class=\"dataframe\">\n",
       "  <thead>\n",
       " <tr style=\"text-align: left;\">\n",
       "      <th>Step</th>\n",
       "      <th>Training Loss</th>\n",
       "    </tr>\n",
       "  </thead>\n",
       "  <tbody>\n",
       "    <tr>\n",
       "      <td>500</td>\n",
       "      <td>0.358600</td>\n",
       "    </tr>\n",
       "    <tr>\n",
       "      <td>1000</td>\n",
       "      <td>0.302600</td>\n",
       "    </tr>\n",
       "    <tr>\n",
       "      <td>1500</td>\n",
       "      <td>0.342400</td>\n",
       "    </tr>\n",
       "    <tr>\n",
       "      <td>2000</td>\n",
       "      <td>0.349900</td>\n",
       "    </tr>\n",
       "    <tr>\n",
       "      <td>2500</td>\n",
       "      <td>0.322600</td>\n",
       "    </tr>\n",
       "    <tr>\n",
       "      <td>3000</td>\n",
       "      <td>0.357100</td>\n",
       "    </tr>\n",
       "  </tbody>\n",
       "</table><p>"
      ],
      "text/plain": [
       "<IPython.core.display.HTML object>"
      ]
     },
     "metadata": {},
     "output_type": "display_data"
    },
    {
     "data": {
      "text/html": [
       "\n",
       "    <div>\n",
       "      \n",
       "      <progress value='3125' max='3125' style='width:300px; height:20px; vertical-align: middle;'></progress>\n",
       "      [3125/3125 00:52]\n",
       "    </div>\n",
       "    "
      ],
      "text/plain": [
       "<IPython.core.display.HTML object>"
      ]
     },
     "metadata": {},
     "output_type": "display_data"
    },
    {
     "name": "stderr",
     "output_type": "stream",
     "text": [
      "[I 2025-01-31 03:02:20,299] Trial 22 finished with value: 0.87408 and parameters: {'bert.encoder.layer.0.attention.self.key_type': 'LinearInteger', 'bert.encoder.layer.0.attention.self.key_data_in_width': 32, 'bert.encoder.layer.0.attention.self.key_data_in_frac_width': 8, 'bert.encoder.layer.0.attention.self.key_weight_width': 32, 'bert.encoder.layer.0.attention.self.key_weight_frac_width': 8, 'bert.encoder.layer.0.attention.self.key_bias_width': 8, 'bert.encoder.layer.0.attention.self.key_bias_frac_width': 2, 'bert.encoder.layer.0.attention.self.value_type': 'torch.nn.Linear', 'bert.encoder.layer.0.attention.output.dense_type': 'torch.nn.Linear', 'bert.encoder.layer.0.intermediate.dense_type': 'torch.nn.Linear', 'bert.encoder.layer.0.output.dense_type': 'torch.nn.Linear', 'bert.encoder.layer.1.attention.self.query_type': 'LinearInteger', 'bert.encoder.layer.1.attention.self.query_data_in_width': 16, 'bert.encoder.layer.1.attention.self.query_data_in_frac_width': 4, 'bert.encoder.layer.1.attention.self.query_weight_width': 32, 'bert.encoder.layer.1.attention.self.query_weight_frac_width': 4, 'bert.encoder.layer.1.attention.self.query_bias_width': 8, 'bert.encoder.layer.1.attention.self.query_bias_frac_width': 4, 'bert.encoder.layer.1.attention.self.value_type': 'LinearInteger', 'bert.encoder.layer.1.attention.self.value_data_in_width': 32, 'bert.encoder.layer.1.attention.self.value_data_in_frac_width': 2, 'bert.encoder.layer.1.attention.self.value_weight_width': 16, 'bert.encoder.layer.1.attention.self.value_weight_frac_width': 2, 'bert.encoder.layer.1.attention.self.value_bias_width': 16, 'bert.encoder.layer.1.attention.self.value_bias_frac_width': 2, 'bert.encoder.layer.1.attention.output.dense_type': 'torch.nn.Linear', 'bert.encoder.layer.1.intermediate.dense_type': 'torch.nn.Linear', 'bert.encoder.layer.1.output.dense_type': 'torch.nn.Linear', 'classifier_type': 'torch.nn.Linear'}. Best is trial 20 with value: 0.87408.\n"
     ]
    },
    {
     "data": {
      "text/html": [
       "\n",
       "    <div>\n",
       "      \n",
       "      <progress value='3125' max='3125' style='width:300px; height:20px; vertical-align: middle;'></progress>\n",
       "      [3125/3125 01:49, Epoch 1/1]\n",
       "    </div>\n",
       "    <table border=\"1\" class=\"dataframe\">\n",
       "  <thead>\n",
       " <tr style=\"text-align: left;\">\n",
       "      <th>Step</th>\n",
       "      <th>Training Loss</th>\n",
       "    </tr>\n",
       "  </thead>\n",
       "  <tbody>\n",
       "    <tr>\n",
       "      <td>500</td>\n",
       "      <td>0.358600</td>\n",
       "    </tr>\n",
       "    <tr>\n",
       "      <td>1000</td>\n",
       "      <td>0.302600</td>\n",
       "    </tr>\n",
       "    <tr>\n",
       "      <td>1500</td>\n",
       "      <td>0.342400</td>\n",
       "    </tr>\n",
       "    <tr>\n",
       "      <td>2000</td>\n",
       "      <td>0.349900</td>\n",
       "    </tr>\n",
       "    <tr>\n",
       "      <td>2500</td>\n",
       "      <td>0.322600</td>\n",
       "    </tr>\n",
       "    <tr>\n",
       "      <td>3000</td>\n",
       "      <td>0.357100</td>\n",
       "    </tr>\n",
       "  </tbody>\n",
       "</table><p>"
      ],
      "text/plain": [
       "<IPython.core.display.HTML object>"
      ]
     },
     "metadata": {},
     "output_type": "display_data"
    },
    {
     "data": {
      "text/html": [
       "\n",
       "    <div>\n",
       "      \n",
       "      <progress value='3125' max='3125' style='width:300px; height:20px; vertical-align: middle;'></progress>\n",
       "      [3125/3125 00:51]\n",
       "    </div>\n",
       "    "
      ],
      "text/plain": [
       "<IPython.core.display.HTML object>"
      ]
     },
     "metadata": {},
     "output_type": "display_data"
    },
    {
     "name": "stderr",
     "output_type": "stream",
     "text": [
      "[I 2025-01-31 03:05:02,836] Trial 23 finished with value: 0.87408 and parameters: {'bert.encoder.layer.0.attention.self.key_type': 'LinearInteger', 'bert.encoder.layer.0.attention.self.key_data_in_width': 32, 'bert.encoder.layer.0.attention.self.key_data_in_frac_width': 8, 'bert.encoder.layer.0.attention.self.key_weight_width': 32, 'bert.encoder.layer.0.attention.self.key_weight_frac_width': 8, 'bert.encoder.layer.0.attention.self.key_bias_width': 8, 'bert.encoder.layer.0.attention.self.key_bias_frac_width': 2, 'bert.encoder.layer.0.attention.self.value_type': 'torch.nn.Linear', 'bert.encoder.layer.0.attention.output.dense_type': 'torch.nn.Linear', 'bert.encoder.layer.0.intermediate.dense_type': 'torch.nn.Linear', 'bert.encoder.layer.0.output.dense_type': 'torch.nn.Linear', 'bert.encoder.layer.1.attention.self.query_type': 'LinearInteger', 'bert.encoder.layer.1.attention.self.query_data_in_width': 16, 'bert.encoder.layer.1.attention.self.query_data_in_frac_width': 4, 'bert.encoder.layer.1.attention.self.query_weight_width': 32, 'bert.encoder.layer.1.attention.self.query_weight_frac_width': 4, 'bert.encoder.layer.1.attention.self.query_bias_width': 8, 'bert.encoder.layer.1.attention.self.query_bias_frac_width': 4, 'bert.encoder.layer.1.attention.self.value_type': 'LinearInteger', 'bert.encoder.layer.1.attention.self.value_data_in_width': 32, 'bert.encoder.layer.1.attention.self.value_data_in_frac_width': 2, 'bert.encoder.layer.1.attention.self.value_weight_width': 16, 'bert.encoder.layer.1.attention.self.value_weight_frac_width': 2, 'bert.encoder.layer.1.attention.self.value_bias_width': 16, 'bert.encoder.layer.1.attention.self.value_bias_frac_width': 2, 'bert.encoder.layer.1.attention.output.dense_type': 'torch.nn.Linear', 'bert.encoder.layer.1.intermediate.dense_type': 'torch.nn.Linear', 'bert.encoder.layer.1.output.dense_type': 'torch.nn.Linear', 'classifier_type': 'torch.nn.Linear'}. Best is trial 20 with value: 0.87408.\n"
     ]
    },
    {
     "data": {
      "text/html": [
       "\n",
       "    <div>\n",
       "      \n",
       "      <progress value='3125' max='3125' style='width:300px; height:20px; vertical-align: middle;'></progress>\n",
       "      [3125/3125 01:48, Epoch 1/1]\n",
       "    </div>\n",
       "    <table border=\"1\" class=\"dataframe\">\n",
       "  <thead>\n",
       " <tr style=\"text-align: left;\">\n",
       "      <th>Step</th>\n",
       "      <th>Training Loss</th>\n",
       "    </tr>\n",
       "  </thead>\n",
       "  <tbody>\n",
       "    <tr>\n",
       "      <td>500</td>\n",
       "      <td>0.333400</td>\n",
       "    </tr>\n",
       "    <tr>\n",
       "      <td>1000</td>\n",
       "      <td>0.283500</td>\n",
       "    </tr>\n",
       "    <tr>\n",
       "      <td>1500</td>\n",
       "      <td>0.308700</td>\n",
       "    </tr>\n",
       "    <tr>\n",
       "      <td>2000</td>\n",
       "      <td>0.329700</td>\n",
       "    </tr>\n",
       "    <tr>\n",
       "      <td>2500</td>\n",
       "      <td>0.304000</td>\n",
       "    </tr>\n",
       "    <tr>\n",
       "      <td>3000</td>\n",
       "      <td>0.348400</td>\n",
       "    </tr>\n",
       "  </tbody>\n",
       "</table><p>"
      ],
      "text/plain": [
       "<IPython.core.display.HTML object>"
      ]
     },
     "metadata": {},
     "output_type": "display_data"
    },
    {
     "data": {
      "text/html": [
       "\n",
       "    <div>\n",
       "      \n",
       "      <progress value='3125' max='3125' style='width:300px; height:20px; vertical-align: middle;'></progress>\n",
       "      [3125/3125 00:51]\n",
       "    </div>\n",
       "    "
      ],
      "text/plain": [
       "<IPython.core.display.HTML object>"
      ]
     },
     "metadata": {},
     "output_type": "display_data"
    },
    {
     "name": "stderr",
     "output_type": "stream",
     "text": [
      "[I 2025-01-31 03:07:45,009] Trial 24 finished with value: 0.87312 and parameters: {'bert.encoder.layer.0.attention.self.key_type': 'LinearInteger', 'bert.encoder.layer.0.attention.self.key_data_in_width': 32, 'bert.encoder.layer.0.attention.self.key_data_in_frac_width': 8, 'bert.encoder.layer.0.attention.self.key_weight_width': 32, 'bert.encoder.layer.0.attention.self.key_weight_frac_width': 8, 'bert.encoder.layer.0.attention.self.key_bias_width': 8, 'bert.encoder.layer.0.attention.self.key_bias_frac_width': 2, 'bert.encoder.layer.0.attention.self.value_type': 'torch.nn.Linear', 'bert.encoder.layer.0.attention.output.dense_type': 'torch.nn.Linear', 'bert.encoder.layer.0.intermediate.dense_type': 'torch.nn.Linear', 'bert.encoder.layer.0.output.dense_type': 'torch.nn.Linear', 'bert.encoder.layer.1.attention.self.query_type': 'LinearInteger', 'bert.encoder.layer.1.attention.self.query_data_in_width': 16, 'bert.encoder.layer.1.attention.self.query_data_in_frac_width': 4, 'bert.encoder.layer.1.attention.self.query_weight_width': 32, 'bert.encoder.layer.1.attention.self.query_weight_frac_width': 4, 'bert.encoder.layer.1.attention.self.query_bias_width': 8, 'bert.encoder.layer.1.attention.self.query_bias_frac_width': 4, 'bert.encoder.layer.1.attention.self.value_type': 'LinearInteger', 'bert.encoder.layer.1.attention.self.value_data_in_width': 32, 'bert.encoder.layer.1.attention.self.value_data_in_frac_width': 2, 'bert.encoder.layer.1.attention.self.value_weight_width': 16, 'bert.encoder.layer.1.attention.self.value_weight_frac_width': 4, 'bert.encoder.layer.1.attention.self.value_bias_width': 16, 'bert.encoder.layer.1.attention.self.value_bias_frac_width': 2, 'bert.encoder.layer.1.attention.output.dense_type': 'torch.nn.Linear', 'bert.encoder.layer.1.intermediate.dense_type': 'torch.nn.Linear', 'bert.encoder.layer.1.output.dense_type': 'torch.nn.Linear', 'classifier_type': 'torch.nn.Linear'}. Best is trial 20 with value: 0.87408.\n"
     ]
    },
    {
     "data": {
      "text/html": [
       "\n",
       "    <div>\n",
       "      \n",
       "      <progress value='3125' max='3125' style='width:300px; height:20px; vertical-align: middle;'></progress>\n",
       "      [3125/3125 01:48, Epoch 1/1]\n",
       "    </div>\n",
       "    <table border=\"1\" class=\"dataframe\">\n",
       "  <thead>\n",
       " <tr style=\"text-align: left;\">\n",
       "      <th>Step</th>\n",
       "      <th>Training Loss</th>\n",
       "    </tr>\n",
       "  </thead>\n",
       "  <tbody>\n",
       "    <tr>\n",
       "      <td>500</td>\n",
       "      <td>0.358700</td>\n",
       "    </tr>\n",
       "    <tr>\n",
       "      <td>1000</td>\n",
       "      <td>0.299900</td>\n",
       "    </tr>\n",
       "    <tr>\n",
       "      <td>1500</td>\n",
       "      <td>0.342000</td>\n",
       "    </tr>\n",
       "    <tr>\n",
       "      <td>2000</td>\n",
       "      <td>0.351900</td>\n",
       "    </tr>\n",
       "    <tr>\n",
       "      <td>2500</td>\n",
       "      <td>0.325000</td>\n",
       "    </tr>\n",
       "    <tr>\n",
       "      <td>3000</td>\n",
       "      <td>0.359200</td>\n",
       "    </tr>\n",
       "  </tbody>\n",
       "</table><p>"
      ],
      "text/plain": [
       "<IPython.core.display.HTML object>"
      ]
     },
     "metadata": {},
     "output_type": "display_data"
    },
    {
     "data": {
      "text/html": [
       "\n",
       "    <div>\n",
       "      \n",
       "      <progress value='3125' max='3125' style='width:300px; height:20px; vertical-align: middle;'></progress>\n",
       "      [3125/3125 00:51]\n",
       "    </div>\n",
       "    "
      ],
      "text/plain": [
       "<IPython.core.display.HTML object>"
      ]
     },
     "metadata": {},
     "output_type": "display_data"
    },
    {
     "name": "stderr",
     "output_type": "stream",
     "text": [
      "[I 2025-01-31 03:10:27,076] Trial 25 finished with value: 0.87416 and parameters: {'bert.encoder.layer.0.attention.self.key_type': 'LinearInteger', 'bert.encoder.layer.0.attention.self.key_data_in_width': 32, 'bert.encoder.layer.0.attention.self.key_data_in_frac_width': 4, 'bert.encoder.layer.0.attention.self.key_weight_width': 8, 'bert.encoder.layer.0.attention.self.key_weight_frac_width': 8, 'bert.encoder.layer.0.attention.self.key_bias_width': 8, 'bert.encoder.layer.0.attention.self.key_bias_frac_width': 2, 'bert.encoder.layer.0.attention.self.value_type': 'torch.nn.Linear', 'bert.encoder.layer.0.attention.output.dense_type': 'torch.nn.Linear', 'bert.encoder.layer.0.intermediate.dense_type': 'torch.nn.Linear', 'bert.encoder.layer.0.output.dense_type': 'torch.nn.Linear', 'bert.encoder.layer.1.attention.self.query_type': 'LinearInteger', 'bert.encoder.layer.1.attention.self.query_data_in_width': 16, 'bert.encoder.layer.1.attention.self.query_data_in_frac_width': 8, 'bert.encoder.layer.1.attention.self.query_weight_width': 32, 'bert.encoder.layer.1.attention.self.query_weight_frac_width': 2, 'bert.encoder.layer.1.attention.self.query_bias_width': 8, 'bert.encoder.layer.1.attention.self.query_bias_frac_width': 2, 'bert.encoder.layer.1.attention.self.value_type': 'LinearInteger', 'bert.encoder.layer.1.attention.self.value_data_in_width': 32, 'bert.encoder.layer.1.attention.self.value_data_in_frac_width': 2, 'bert.encoder.layer.1.attention.self.value_weight_width': 16, 'bert.encoder.layer.1.attention.self.value_weight_frac_width': 2, 'bert.encoder.layer.1.attention.self.value_bias_width': 16, 'bert.encoder.layer.1.attention.self.value_bias_frac_width': 2, 'bert.encoder.layer.1.attention.output.dense_type': 'torch.nn.Linear', 'bert.encoder.layer.1.intermediate.dense_type': 'torch.nn.Linear', 'bert.encoder.layer.1.output.dense_type': 'torch.nn.Linear', 'classifier_type': 'torch.nn.Linear'}. Best is trial 25 with value: 0.87416.\n"
     ]
    },
    {
     "data": {
      "text/html": [
       "\n",
       "    <div>\n",
       "      \n",
       "      <progress value='3125' max='3125' style='width:300px; height:20px; vertical-align: middle;'></progress>\n",
       "      [3125/3125 01:59, Epoch 1/1]\n",
       "    </div>\n",
       "    <table border=\"1\" class=\"dataframe\">\n",
       "  <thead>\n",
       " <tr style=\"text-align: left;\">\n",
       "      <th>Step</th>\n",
       "      <th>Training Loss</th>\n",
       "    </tr>\n",
       "  </thead>\n",
       "  <tbody>\n",
       "    <tr>\n",
       "      <td>500</td>\n",
       "      <td>0.410500</td>\n",
       "    </tr>\n",
       "    <tr>\n",
       "      <td>1000</td>\n",
       "      <td>0.336000</td>\n",
       "    </tr>\n",
       "    <tr>\n",
       "      <td>1500</td>\n",
       "      <td>0.355200</td>\n",
       "    </tr>\n",
       "    <tr>\n",
       "      <td>2000</td>\n",
       "      <td>0.378200</td>\n",
       "    </tr>\n",
       "    <tr>\n",
       "      <td>2500</td>\n",
       "      <td>0.356100</td>\n",
       "    </tr>\n",
       "    <tr>\n",
       "      <td>3000</td>\n",
       "      <td>0.387600</td>\n",
       "    </tr>\n",
       "  </tbody>\n",
       "</table><p>"
      ],
      "text/plain": [
       "<IPython.core.display.HTML object>"
      ]
     },
     "metadata": {},
     "output_type": "display_data"
    },
    {
     "data": {
      "text/html": [
       "\n",
       "    <div>\n",
       "      \n",
       "      <progress value='3125' max='3125' style='width:300px; height:20px; vertical-align: middle;'></progress>\n",
       "      [3125/3125 00:57]\n",
       "    </div>\n",
       "    "
      ],
      "text/plain": [
       "<IPython.core.display.HTML object>"
      ]
     },
     "metadata": {},
     "output_type": "display_data"
    },
    {
     "name": "stderr",
     "output_type": "stream",
     "text": [
      "[I 2025-01-31 03:13:25,817] Trial 26 finished with value: 0.87 and parameters: {'bert.encoder.layer.0.attention.self.key_type': 'torch.nn.Linear', 'bert.encoder.layer.0.attention.self.value_type': 'LinearInteger', 'bert.encoder.layer.0.attention.self.value_data_in_width': 32, 'bert.encoder.layer.0.attention.self.value_data_in_frac_width': 4, 'bert.encoder.layer.0.attention.self.value_weight_width': 32, 'bert.encoder.layer.0.attention.self.value_weight_frac_width': 4, 'bert.encoder.layer.0.attention.self.value_bias_width': 32, 'bert.encoder.layer.0.attention.self.value_bias_frac_width': 4, 'bert.encoder.layer.0.attention.output.dense_type': 'LinearInteger', 'bert.encoder.layer.0.attention.output.dense_data_in_width': 8, 'bert.encoder.layer.0.attention.output.dense_data_in_frac_width': 8, 'bert.encoder.layer.0.attention.output.dense_weight_width': 16, 'bert.encoder.layer.0.attention.output.dense_weight_frac_width': 4, 'bert.encoder.layer.0.attention.output.dense_bias_width': 16, 'bert.encoder.layer.0.attention.output.dense_bias_frac_width': 8, 'bert.encoder.layer.0.intermediate.dense_type': 'LinearInteger', 'bert.encoder.layer.0.intermediate.dense_data_in_width': 8, 'bert.encoder.layer.0.intermediate.dense_data_in_frac_width': 2, 'bert.encoder.layer.0.intermediate.dense_weight_width': 16, 'bert.encoder.layer.0.intermediate.dense_weight_frac_width': 8, 'bert.encoder.layer.0.intermediate.dense_bias_width': 16, 'bert.encoder.layer.0.intermediate.dense_bias_frac_width': 4, 'bert.encoder.layer.0.output.dense_type': 'LinearInteger', 'bert.encoder.layer.0.output.dense_data_in_width': 32, 'bert.encoder.layer.0.output.dense_data_in_frac_width': 8, 'bert.encoder.layer.0.output.dense_weight_width': 16, 'bert.encoder.layer.0.output.dense_weight_frac_width': 2, 'bert.encoder.layer.0.output.dense_bias_width': 32, 'bert.encoder.layer.0.output.dense_bias_frac_width': 2, 'bert.encoder.layer.1.attention.self.query_type': 'LinearInteger', 'bert.encoder.layer.1.attention.self.query_data_in_width': 16, 'bert.encoder.layer.1.attention.self.query_data_in_frac_width': 8, 'bert.encoder.layer.1.attention.self.query_weight_width': 32, 'bert.encoder.layer.1.attention.self.query_weight_frac_width': 2, 'bert.encoder.layer.1.attention.self.query_bias_width': 8, 'bert.encoder.layer.1.attention.self.query_bias_frac_width': 2, 'bert.encoder.layer.1.attention.self.value_type': 'LinearInteger', 'bert.encoder.layer.1.attention.self.value_data_in_width': 32, 'bert.encoder.layer.1.attention.self.value_data_in_frac_width': 2, 'bert.encoder.layer.1.attention.self.value_weight_width': 16, 'bert.encoder.layer.1.attention.self.value_weight_frac_width': 2, 'bert.encoder.layer.1.attention.self.value_bias_width': 8, 'bert.encoder.layer.1.attention.self.value_bias_frac_width': 2, 'bert.encoder.layer.1.attention.output.dense_type': 'LinearInteger', 'bert.encoder.layer.1.attention.output.dense_data_in_width': 16, 'bert.encoder.layer.1.attention.output.dense_data_in_frac_width': 2, 'bert.encoder.layer.1.attention.output.dense_weight_width': 16, 'bert.encoder.layer.1.attention.output.dense_weight_frac_width': 2, 'bert.encoder.layer.1.attention.output.dense_bias_width': 32, 'bert.encoder.layer.1.attention.output.dense_bias_frac_width': 8, 'bert.encoder.layer.1.intermediate.dense_type': 'torch.nn.Linear', 'bert.encoder.layer.1.output.dense_type': 'torch.nn.Linear', 'classifier_type': 'LinearInteger', 'classifier_data_in_width': 8, 'classifier_data_in_frac_width': 8, 'classifier_weight_width': 8, 'classifier_weight_frac_width': 4, 'classifier_bias_width': 32, 'classifier_bias_frac_width': 4}. Best is trial 25 with value: 0.87416.\n"
     ]
    },
    {
     "data": {
      "text/html": [
       "\n",
       "    <div>\n",
       "      \n",
       "      <progress value='3125' max='3125' style='width:300px; height:20px; vertical-align: middle;'></progress>\n",
       "      [3125/3125 01:47, Epoch 1/1]\n",
       "    </div>\n",
       "    <table border=\"1\" class=\"dataframe\">\n",
       "  <thead>\n",
       " <tr style=\"text-align: left;\">\n",
       "      <th>Step</th>\n",
       "      <th>Training Loss</th>\n",
       "    </tr>\n",
       "  </thead>\n",
       "  <tbody>\n",
       "    <tr>\n",
       "      <td>500</td>\n",
       "      <td>0.358700</td>\n",
       "    </tr>\n",
       "    <tr>\n",
       "      <td>1000</td>\n",
       "      <td>0.299900</td>\n",
       "    </tr>\n",
       "    <tr>\n",
       "      <td>1500</td>\n",
       "      <td>0.342000</td>\n",
       "    </tr>\n",
       "    <tr>\n",
       "      <td>2000</td>\n",
       "      <td>0.351900</td>\n",
       "    </tr>\n",
       "    <tr>\n",
       "      <td>2500</td>\n",
       "      <td>0.325000</td>\n",
       "    </tr>\n",
       "    <tr>\n",
       "      <td>3000</td>\n",
       "      <td>0.359200</td>\n",
       "    </tr>\n",
       "  </tbody>\n",
       "</table><p>"
      ],
      "text/plain": [
       "<IPython.core.display.HTML object>"
      ]
     },
     "metadata": {},
     "output_type": "display_data"
    },
    {
     "data": {
      "text/html": [
       "\n",
       "    <div>\n",
       "      \n",
       "      <progress value='3125' max='3125' style='width:300px; height:20px; vertical-align: middle;'></progress>\n",
       "      [3125/3125 00:52]\n",
       "    </div>\n",
       "    "
      ],
      "text/plain": [
       "<IPython.core.display.HTML object>"
      ]
     },
     "metadata": {},
     "output_type": "display_data"
    },
    {
     "name": "stderr",
     "output_type": "stream",
     "text": [
      "[I 2025-01-31 03:16:07,204] Trial 27 finished with value: 0.87416 and parameters: {'bert.encoder.layer.0.attention.self.key_type': 'LinearInteger', 'bert.encoder.layer.0.attention.self.key_data_in_width': 32, 'bert.encoder.layer.0.attention.self.key_data_in_frac_width': 4, 'bert.encoder.layer.0.attention.self.key_weight_width': 8, 'bert.encoder.layer.0.attention.self.key_weight_frac_width': 8, 'bert.encoder.layer.0.attention.self.key_bias_width': 8, 'bert.encoder.layer.0.attention.self.key_bias_frac_width': 2, 'bert.encoder.layer.0.attention.self.value_type': 'torch.nn.Linear', 'bert.encoder.layer.0.attention.output.dense_type': 'torch.nn.Linear', 'bert.encoder.layer.0.intermediate.dense_type': 'torch.nn.Linear', 'bert.encoder.layer.0.output.dense_type': 'torch.nn.Linear', 'bert.encoder.layer.1.attention.self.query_type': 'LinearInteger', 'bert.encoder.layer.1.attention.self.query_data_in_width': 16, 'bert.encoder.layer.1.attention.self.query_data_in_frac_width': 8, 'bert.encoder.layer.1.attention.self.query_weight_width': 32, 'bert.encoder.layer.1.attention.self.query_weight_frac_width': 2, 'bert.encoder.layer.1.attention.self.query_bias_width': 8, 'bert.encoder.layer.1.attention.self.query_bias_frac_width': 2, 'bert.encoder.layer.1.attention.self.value_type': 'LinearInteger', 'bert.encoder.layer.1.attention.self.value_data_in_width': 32, 'bert.encoder.layer.1.attention.self.value_data_in_frac_width': 2, 'bert.encoder.layer.1.attention.self.value_weight_width': 16, 'bert.encoder.layer.1.attention.self.value_weight_frac_width': 2, 'bert.encoder.layer.1.attention.self.value_bias_width': 16, 'bert.encoder.layer.1.attention.self.value_bias_frac_width': 2, 'bert.encoder.layer.1.attention.output.dense_type': 'torch.nn.Linear', 'bert.encoder.layer.1.intermediate.dense_type': 'torch.nn.Linear', 'bert.encoder.layer.1.output.dense_type': 'torch.nn.Linear', 'classifier_type': 'torch.nn.Linear'}. Best is trial 25 with value: 0.87416.\n"
     ]
    },
    {
     "data": {
      "text/html": [
       "\n",
       "    <div>\n",
       "      \n",
       "      <progress value='3125' max='3125' style='width:300px; height:20px; vertical-align: middle;'></progress>\n",
       "      [3125/3125 01:46, Epoch 1/1]\n",
       "    </div>\n",
       "    <table border=\"1\" class=\"dataframe\">\n",
       "  <thead>\n",
       " <tr style=\"text-align: left;\">\n",
       "      <th>Step</th>\n",
       "      <th>Training Loss</th>\n",
       "    </tr>\n",
       "  </thead>\n",
       "  <tbody>\n",
       "    <tr>\n",
       "      <td>500</td>\n",
       "      <td>0.339300</td>\n",
       "    </tr>\n",
       "    <tr>\n",
       "      <td>1000</td>\n",
       "      <td>0.304500</td>\n",
       "    </tr>\n",
       "    <tr>\n",
       "      <td>1500</td>\n",
       "      <td>0.323000</td>\n",
       "    </tr>\n",
       "    <tr>\n",
       "      <td>2000</td>\n",
       "      <td>0.324400</td>\n",
       "    </tr>\n",
       "    <tr>\n",
       "      <td>2500</td>\n",
       "      <td>0.303700</td>\n",
       "    </tr>\n",
       "    <tr>\n",
       "      <td>3000</td>\n",
       "      <td>0.355900</td>\n",
       "    </tr>\n",
       "  </tbody>\n",
       "</table><p>"
      ],
      "text/plain": [
       "<IPython.core.display.HTML object>"
      ]
     },
     "metadata": {},
     "output_type": "display_data"
    },
    {
     "data": {
      "text/html": [
       "\n",
       "    <div>\n",
       "      \n",
       "      <progress value='3125' max='3125' style='width:300px; height:20px; vertical-align: middle;'></progress>\n",
       "      [3125/3125 00:52]\n",
       "    </div>\n",
       "    "
      ],
      "text/plain": [
       "<IPython.core.display.HTML object>"
      ]
     },
     "metadata": {},
     "output_type": "display_data"
    },
    {
     "name": "stderr",
     "output_type": "stream",
     "text": [
      "[I 2025-01-31 03:18:47,483] Trial 28 finished with value: 0.873 and parameters: {'bert.encoder.layer.0.attention.self.key_type': 'LinearInteger', 'bert.encoder.layer.0.attention.self.key_data_in_width': 32, 'bert.encoder.layer.0.attention.self.key_data_in_frac_width': 4, 'bert.encoder.layer.0.attention.self.key_weight_width': 8, 'bert.encoder.layer.0.attention.self.key_weight_frac_width': 8, 'bert.encoder.layer.0.attention.self.key_bias_width': 8, 'bert.encoder.layer.0.attention.self.key_bias_frac_width': 2, 'bert.encoder.layer.0.attention.self.value_type': 'torch.nn.Linear', 'bert.encoder.layer.0.attention.output.dense_type': 'torch.nn.Linear', 'bert.encoder.layer.0.intermediate.dense_type': 'torch.nn.Linear', 'bert.encoder.layer.0.output.dense_type': 'torch.nn.Linear', 'bert.encoder.layer.1.attention.self.query_type': 'LinearInteger', 'bert.encoder.layer.1.attention.self.query_data_in_width': 16, 'bert.encoder.layer.1.attention.self.query_data_in_frac_width': 8, 'bert.encoder.layer.1.attention.self.query_weight_width': 16, 'bert.encoder.layer.1.attention.self.query_weight_frac_width': 2, 'bert.encoder.layer.1.attention.self.query_bias_width': 16, 'bert.encoder.layer.1.attention.self.query_bias_frac_width': 2, 'bert.encoder.layer.1.attention.self.value_type': 'LinearInteger', 'bert.encoder.layer.1.attention.self.value_data_in_width': 32, 'bert.encoder.layer.1.attention.self.value_data_in_frac_width': 2, 'bert.encoder.layer.1.attention.self.value_weight_width': 16, 'bert.encoder.layer.1.attention.self.value_weight_frac_width': 4, 'bert.encoder.layer.1.attention.self.value_bias_width': 16, 'bert.encoder.layer.1.attention.self.value_bias_frac_width': 2, 'bert.encoder.layer.1.attention.output.dense_type': 'torch.nn.Linear', 'bert.encoder.layer.1.intermediate.dense_type': 'torch.nn.Linear', 'bert.encoder.layer.1.output.dense_type': 'torch.nn.Linear', 'classifier_type': 'torch.nn.Linear'}. Best is trial 25 with value: 0.87416.\n"
     ]
    },
    {
     "data": {
      "text/html": [
       "\n",
       "    <div>\n",
       "      \n",
       "      <progress value='3125' max='3125' style='width:300px; height:20px; vertical-align: middle;'></progress>\n",
       "      [3125/3125 01:47, Epoch 1/1]\n",
       "    </div>\n",
       "    <table border=\"1\" class=\"dataframe\">\n",
       "  <thead>\n",
       " <tr style=\"text-align: left;\">\n",
       "      <th>Step</th>\n",
       "      <th>Training Loss</th>\n",
       "    </tr>\n",
       "  </thead>\n",
       "  <tbody>\n",
       "    <tr>\n",
       "      <td>500</td>\n",
       "      <td>0.358700</td>\n",
       "    </tr>\n",
       "    <tr>\n",
       "      <td>1000</td>\n",
       "      <td>0.299900</td>\n",
       "    </tr>\n",
       "    <tr>\n",
       "      <td>1500</td>\n",
       "      <td>0.342000</td>\n",
       "    </tr>\n",
       "    <tr>\n",
       "      <td>2000</td>\n",
       "      <td>0.351900</td>\n",
       "    </tr>\n",
       "    <tr>\n",
       "      <td>2500</td>\n",
       "      <td>0.325000</td>\n",
       "    </tr>\n",
       "    <tr>\n",
       "      <td>3000</td>\n",
       "      <td>0.359200</td>\n",
       "    </tr>\n",
       "  </tbody>\n",
       "</table><p>"
      ],
      "text/plain": [
       "<IPython.core.display.HTML object>"
      ]
     },
     "metadata": {},
     "output_type": "display_data"
    },
    {
     "data": {
      "text/html": [
       "\n",
       "    <div>\n",
       "      \n",
       "      <progress value='3125' max='3125' style='width:300px; height:20px; vertical-align: middle;'></progress>\n",
       "      [3125/3125 00:52]\n",
       "    </div>\n",
       "    "
      ],
      "text/plain": [
       "<IPython.core.display.HTML object>"
      ]
     },
     "metadata": {},
     "output_type": "display_data"
    },
    {
     "name": "stderr",
     "output_type": "stream",
     "text": [
      "[I 2025-01-31 03:21:28,218] Trial 29 finished with value: 0.87416 and parameters: {'bert.encoder.layer.0.attention.self.key_type': 'LinearInteger', 'bert.encoder.layer.0.attention.self.key_data_in_width': 32, 'bert.encoder.layer.0.attention.self.key_data_in_frac_width': 4, 'bert.encoder.layer.0.attention.self.key_weight_width': 8, 'bert.encoder.layer.0.attention.self.key_weight_frac_width': 8, 'bert.encoder.layer.0.attention.self.key_bias_width': 8, 'bert.encoder.layer.0.attention.self.key_bias_frac_width': 2, 'bert.encoder.layer.0.attention.self.value_type': 'torch.nn.Linear', 'bert.encoder.layer.0.attention.output.dense_type': 'torch.nn.Linear', 'bert.encoder.layer.0.intermediate.dense_type': 'torch.nn.Linear', 'bert.encoder.layer.0.output.dense_type': 'torch.nn.Linear', 'bert.encoder.layer.1.attention.self.query_type': 'LinearInteger', 'bert.encoder.layer.1.attention.self.query_data_in_width': 16, 'bert.encoder.layer.1.attention.self.query_data_in_frac_width': 8, 'bert.encoder.layer.1.attention.self.query_weight_width': 32, 'bert.encoder.layer.1.attention.self.query_weight_frac_width': 2, 'bert.encoder.layer.1.attention.self.query_bias_width': 8, 'bert.encoder.layer.1.attention.self.query_bias_frac_width': 2, 'bert.encoder.layer.1.attention.self.value_type': 'LinearInteger', 'bert.encoder.layer.1.attention.self.value_data_in_width': 32, 'bert.encoder.layer.1.attention.self.value_data_in_frac_width': 2, 'bert.encoder.layer.1.attention.self.value_weight_width': 16, 'bert.encoder.layer.1.attention.self.value_weight_frac_width': 2, 'bert.encoder.layer.1.attention.self.value_bias_width': 16, 'bert.encoder.layer.1.attention.self.value_bias_frac_width': 2, 'bert.encoder.layer.1.attention.output.dense_type': 'torch.nn.Linear', 'bert.encoder.layer.1.intermediate.dense_type': 'torch.nn.Linear', 'bert.encoder.layer.1.output.dense_type': 'torch.nn.Linear', 'classifier_type': 'torch.nn.Linear'}. Best is trial 25 with value: 0.87416.\n"
     ]
    },
    {
     "data": {
      "image/png": "[encoded data removed]",
      "text/plain": [
       "<Figure size 800x600 with 1 Axes>"
      ]
     },
     "metadata": {},
     "output_type": "display_data"
    }
   ],
   "source": [
    "from optuna.samplers import GridSampler, RandomSampler, TPESampler\n",
    "from chop.tools import get_tokenized_dataset, get_trainer\n",
    "from chop.tools.utils import deepsetattr\n",
    "import matplotlib.pyplot as plt\n",
    "from copy import deepcopy\n",
    "import numpy as np\n",
    "import json\n",
    "import optuna\n",
    "import dill\n",
    "import torch\n",
    "import random\n",
    "from chop.nn.quantized.modules.linear import (\n",
    "    LinearInteger,\n",
    "    LinearMinifloatDenorm,\n",
    "    LinearMinifloatIEEE,\n",
    "    LinearLog,\n",
    "    LinearBlockFP,\n",
    "    LinearBlockMinifloat,\n",
    "    LinearBlockLog,\n",
    "    LinearBinary,\n",
    "    LinearBinaryScaling,\n",
    "    LinearBinaryResidualSign,\n",
    ")\n",
    "\n",
    "# Load dataset\n",
    "checkpoint = \"prajjwal1/bert-tiny\"\n",
    "tokenizer_checkpoint = \"bert-base-uncased\"\n",
    "dataset_name = \"imdb\"\n",
    "dataset, tokenizer = get_tokenized_dataset(\n",
    "    dataset=dataset_name,\n",
    "    checkpoint=tokenizer_checkpoint,\n",
    "    return_tokenizer=True,\n",
    ")\n",
    "\n",
    "# Load model\n",
    "with open(\"tutorial_5_best_model.pkl\", \"rb\") as f:\n",
    "    base_model = dill.load(f)\n",
    "\n",
    "# Define search space\n",
    "search_space = {\n",
    "    \"linear_layer_choices\": [\n",
    "        \"torch.nn.Linear\",\n",
    "        \"LinearInteger\",\n",
    "    ]\n",
    "}\n",
    "\n",
    "# 定义字符串到类对象的映射\n",
    "layer_mapping = {\n",
    "    \"torch.nn.Linear\": torch.nn.Linear,\n",
    "    \"LinearInteger\": LinearInteger,\n",
    "}\n",
    "\n",
    "# Construct model\n",
    "def construct_model(trial):\n",
    "\n",
    "    # Fetch the model\n",
    "    trial_model = deepcopy(base_model)\n",
    "\n",
    "    # Quantize layers according to optuna suggestions\n",
    "    for name, layer in trial_model.named_modules():\n",
    "        if isinstance(layer, torch.nn.Linear):\n",
    "             # 选择层类型（返回字符串）\n",
    "            new_layer_cls_name = trial.suggest_categorical(\n",
    "                f\"{name}_type\",\n",
    "                search_space[\"linear_layer_choices\"],\n",
    "            )\n",
    "\n",
    "            # 通过映射获取真正的类对象\n",
    "            new_layer_cls = layer_mapping[new_layer_cls_name]\n",
    "\n",
    "            if new_layer_cls == torch.nn.Linear:\n",
    "                continue\n",
    "\n",
    "            kwargs = {\n",
    "                \"in_features\": layer.in_features,\n",
    "                \"out_features\": layer.out_features,\n",
    "            }\n",
    "\n",
    "            # If the chosen layer is integer, define the low precision config\n",
    "            if new_layer_cls == LinearInteger:\n",
    "                kwargs[\"config\"] = {\n",
    "                    \"data_in_width\": trial.suggest_categorical(f\"{name}_data_in_width\", [8, 16, 32]),\n",
    "                    \"data_in_frac_width\": trial.suggest_categorical(f\"{name}_data_in_frac_width\", [2, 4, 8]),\n",
    "                    \"weight_width\": trial.suggest_categorical(f\"{name}_weight_width\", [8, 16, 32]),\n",
    "                    \"weight_frac_width\": trial.suggest_categorical(f\"{name}_weight_frac_width\", [2, 4, 8]),\n",
    "                    \"bias_width\": trial.suggest_categorical(f\"{name}_bias_width\", [8, 16, 32]),\n",
    "                    \"bias_frac_width\": trial.suggest_categorical(f\"{name}_bias_frac_width\", [2, 4, 8]),\n",
    "                }\n",
    "            # elif... (other precisions)\n",
    "\n",
    "            # Create the new layer (copy the weights)\n",
    "            new_layer = new_layer_cls(**kwargs)\n",
    "            new_layer.weight.data = layer.weight.data\n",
    "\n",
    "            # Replace the layer in the model\n",
    "            deepsetattr(trial_model, name, new_layer)\n",
    "\n",
    "    return trial_model\n",
    "\n",
    "\n",
    "\n",
    "def objective(trial):\n",
    "\n",
    "    # Define the model\n",
    "    model = construct_model(trial)\n",
    "\n",
    "    trainer = get_trainer(\n",
    "        model=model,\n",
    "        tokenized_dataset=dataset,\n",
    "        tokenizer=tokenizer,\n",
    "        evaluate_metric=\"accuracy\",\n",
    "        num_train_epochs=1,\n",
    "    )\n",
    "\n",
    "    trainer.train()\n",
    "\n",
    "    # 获取当前 trial 结果\n",
    "    eval_results = trainer.evaluate()\n",
    "    \n",
    "    accuracy = eval_results[\"eval_accuracy\"]\n",
    "    trial_number = trial.number\n",
    "\n",
    "    # 实时保存到 JSON 文件\n",
    "    log_data = {\n",
    "        \"trial\": trial_number,\n",
    "        \"accuracy\": accuracy,\n",
    "        \"params\": trial.params # 记录所有超参数\n",
    "    }\n",
    "\n",
    "    # 追加写入 JSON 文件\n",
    "    with open(\"lab3_task1.json\", \"a\") as f:\n",
    "        f.write(json.dumps(log_data) + \"\\n\")\n",
    "\n",
    "    trial.set_user_attr(\"model\", model)\n",
    "\n",
    "    return eval_results[\"eval_accuracy\"]\n",
    "\n",
    "\n",
    "\n",
    "\n",
    "sampler = TPESampler()\n",
    "n_trial = 30\n",
    "\n",
    "study = optuna.create_study(\n",
    "    direction=\"maximize\",\n",
    "    study_name=\"bert-tiny-nas-study\",\n",
    "    sampler=sampler,\n",
    ")\n",
    "\n",
    "study.optimize(\n",
    "    objective,\n",
    "    n_trials=n_trial,\n",
    "    timeout=60 * 60 * 24,\n",
    ")\n",
    "\n",
    "# 获取所有 trial 的准确率\n",
    "trial_numbers = [t.number for t in study.trials if t.value is not None]\n",
    "accuracies = [t.value for t in study.trials if t.value is not None]\n",
    "\n",
    "# 计算累积最大准确率\n",
    "best_so_far = np.maximum.accumulate(accuracies)\n",
    "\n",
    "# 绘制 \"n_trials vs. best accuracy\" 曲线\n",
    "plt.figure(figsize=(8, 6))\n",
    "plt.plot(trial_numbers, best_so_far, marker='o', linestyle='-', label=\"TPESampler\")\n",
    "\n",
    "plt.xlabel(\"Number of Trials\")\n",
    "plt.ylabel(\"Best Accuracy Achieved\")\n",
    "plt.title(\" Search Performance on BERT-tiny NAS\")\n",
    "plt.legend()\n",
    "plt.grid(True)\n",
    "plt.show()"
   ]
  },
  {
   "cell_type": "code",
   "execution_count": 6,
   "metadata": {},
   "outputs": [
    {
     "name": "stdout",
     "output_type": "stream",
     "text": [
      "[{'data_in_width': 32, 'data_in_frac_width': 4, 'weight_width': 16, 'weight_frac_width': 8, 'bias_width': 8, 'bias_frac_width': 8, 'accuracy': 0.87312}, {'data_in_width': 8, 'data_in_frac_width': 8, 'weight_width': 16, 'weight_frac_width': 4, 'bias_width': 16, 'bias_frac_width': 8, 'accuracy': 0.87468}, {'data_in_width': 8, 'data_in_frac_width': 2, 'weight_width': 8, 'weight_frac_width': 4, 'bias_width': 32, 'bias_frac_width': 2, 'accuracy': 0.87008}, {'data_in_width': 8, 'data_in_frac_width': 4, 'weight_width': 32, 'weight_frac_width': 2, 'bias_width': 8, 'bias_frac_width': 2, 'accuracy': 0.5}, {'data_in_width': 16, 'data_in_frac_width': 2, 'weight_width': 16, 'weight_frac_width': 4, 'bias_width': 8, 'bias_frac_width': 4, 'accuracy': 0.85992}, {'data_in_width': 16, 'data_in_frac_width': 2, 'weight_width': 16, 'weight_frac_width': 8, 'bias_width': 8, 'bias_frac_width': 2, 'accuracy': 0.8674}, {'data_in_width': 16, 'data_in_frac_width': 2, 'weight_width': 16, 'weight_frac_width': 4, 'bias_width': 16, 'bias_frac_width': 8, 'accuracy': 0.87204}, {'data_in_width': 32, 'data_in_frac_width': 2, 'weight_width': 16, 'weight_frac_width': 4, 'bias_width': 16, 'bias_frac_width': 4, 'accuracy': 0.85256}, {'data_in_width': 8, 'data_in_frac_width': 8, 'weight_width': 16, 'weight_frac_width': 2, 'bias_width': 8, 'bias_frac_width': 8, 'accuracy': 0.87376}, {'data_in_width': 32, 'data_in_frac_width': 2, 'weight_width': 32, 'weight_frac_width': 8, 'bias_width': 16, 'bias_frac_width': 2, 'accuracy': 0.87192}, {'data_in_width': 16, 'data_in_frac_width': 2, 'weight_width': 16, 'weight_frac_width': 4, 'bias_width': 16, 'bias_frac_width': 8, 'accuracy': 0.87216}, {'data_in_width': 16, 'data_in_frac_width': 2, 'weight_width': 16, 'weight_frac_width': 2, 'bias_width': 16, 'bias_frac_width': 4, 'accuracy': 0.87388}, {'data_in_width': 8, 'data_in_frac_width': 8, 'weight_width': 32, 'weight_frac_width': 4, 'bias_width': 32, 'bias_frac_width': 8, 'accuracy': 0.87312}, {'data_in_width': 8, 'data_in_frac_width': 2, 'weight_width': 16, 'weight_frac_width': 8, 'bias_width': 16, 'bias_frac_width': 4, 'accuracy': 0.86776}, {'data_in_width': 8, 'data_in_frac_width': 8, 'weight_width': 8, 'weight_frac_width': 8, 'bias_width': 8, 'bias_frac_width': 2, 'accuracy': 0.86336}, {'data_in_width': 8, 'data_in_frac_width': 2, 'weight_width': 16, 'weight_frac_width': 4, 'bias_width': 32, 'bias_frac_width': 2, 'accuracy': 0.87272}, {'data_in_width': 16, 'data_in_frac_width': 4, 'weight_width': 16, 'weight_frac_width': 8, 'bias_width': 32, 'bias_frac_width': 2, 'accuracy': 0.86648}, {'data_in_width': 32, 'data_in_frac_width': 4, 'weight_width': 32, 'weight_frac_width': 4, 'bias_width': 8, 'bias_frac_width': 2, 'accuracy': 0.87088}, {'data_in_width': 8, 'data_in_frac_width': 8, 'weight_width': 8, 'weight_frac_width': 2, 'bias_width': 8, 'bias_frac_width': 4, 'accuracy': 0.85124}, {'data_in_width': 16, 'data_in_frac_width': 8, 'weight_width': 32, 'weight_frac_width': 4, 'bias_width': 16, 'bias_frac_width': 8, 'accuracy': 0.87304}, {'data_in_width': 32, 'data_in_frac_width': 2, 'weight_width': 32, 'weight_frac_width': 4, 'bias_width': 16, 'bias_frac_width': 2, 'accuracy': 0.873}, {'data_in_width': 8, 'data_in_frac_width': 4, 'weight_width': 8, 'weight_frac_width': 2, 'bias_width': 32, 'bias_frac_width': 4, 'accuracy': 0.87024}, {'data_in_width': 32, 'data_in_frac_width': 8, 'weight_width': 16, 'weight_frac_width': 2, 'bias_width': 8, 'bias_frac_width': 8, 'accuracy': 0.86632}, {'data_in_width': 16, 'data_in_frac_width': 8, 'weight_width': 32, 'weight_frac_width': 8, 'bias_width': 8, 'bias_frac_width': 8, 'accuracy': 0.87276}, {'data_in_width': 16, 'data_in_frac_width': 4, 'weight_width': 8, 'weight_frac_width': 2, 'bias_width': 16, 'bias_frac_width': 2, 'accuracy': 0.87404}, {'data_in_width': 16, 'data_in_frac_width': 4, 'weight_width': 8, 'weight_frac_width': 2, 'bias_width': 16, 'bias_frac_width': 2, 'accuracy': 0.86576}, {'data_in_width': 32, 'data_in_frac_width': 4, 'weight_width': 32, 'weight_frac_width': 2, 'bias_width': 8, 'bias_frac_width': 8, 'accuracy': 0.83364}, {'data_in_width': 16, 'data_in_frac_width': 4, 'weight_width': 8, 'weight_frac_width': 2, 'bias_width': 16, 'bias_frac_width': 4, 'accuracy': 0.86}, {'data_in_width': 32, 'data_in_frac_width': 2, 'weight_width': 16, 'weight_frac_width': 2, 'bias_width': 16, 'bias_frac_width': 2, 'accuracy': 0.87408}, {'data_in_width': 32, 'data_in_frac_width': 2, 'weight_width': 16, 'weight_frac_width': 2, 'bias_width': 16, 'bias_frac_width': 2, 'accuracy': 0.87408}, {'data_in_width': 32, 'data_in_frac_width': 2, 'weight_width': 16, 'weight_frac_width': 2, 'bias_width': 16, 'bias_frac_width': 2, 'accuracy': 0.87408}, {'data_in_width': 32, 'data_in_frac_width': 2, 'weight_width': 16, 'weight_frac_width': 2, 'bias_width': 16, 'bias_frac_width': 2, 'accuracy': 0.87408}, {'data_in_width': 32, 'data_in_frac_width': 2, 'weight_width': 16, 'weight_frac_width': 4, 'bias_width': 16, 'bias_frac_width': 2, 'accuracy': 0.87312}, {'data_in_width': 32, 'data_in_frac_width': 2, 'weight_width': 16, 'weight_frac_width': 2, 'bias_width': 16, 'bias_frac_width': 2, 'accuracy': 0.87416}, {'data_in_width': 8, 'data_in_frac_width': 8, 'weight_width': 8, 'weight_frac_width': 4, 'bias_width': 32, 'bias_frac_width': 4, 'accuracy': 0.87}, {'data_in_width': 32, 'data_in_frac_width': 2, 'weight_width': 16, 'weight_frac_width': 2, 'bias_width': 16, 'bias_frac_width': 2, 'accuracy': 0.87416}, {'data_in_width': 32, 'data_in_frac_width': 2, 'weight_width': 16, 'weight_frac_width': 4, 'bias_width': 16, 'bias_frac_width': 2, 'accuracy': 0.873}, {'data_in_width': 32, 'data_in_frac_width': 2, 'weight_width': 16, 'weight_frac_width': 2, 'bias_width': 16, 'bias_frac_width': 2, 'accuracy': 0.87416}]\n"
     ]
    },
    {
     "data": {
      "image/png": "[encoded data removed]",
      "text/plain": [
       "<Figure size 1800x1000 with 6 Axes>"
      ]
     },
     "metadata": {},
     "output_type": "display_data"
    }
   ],
   "source": [
    "import json\n",
    "import pandas as pd\n",
    "import matplotlib.pyplot as plt\n",
    "import seaborn as sns\n",
    "\n",
    "# 读取 JSON 数据\n",
    "file_path = \"lab3_task1.json\"  # 你的 JSON 文件路径\n",
    "with open(file_path, \"r\") as f:\n",
    "    trials = [json.loads(line) for line in f]\n",
    "\n",
    "# 目标参数后缀\n",
    "target_suffixes = [\n",
    "    \"data_in_width\", \"data_in_frac_width\",\n",
    "    \"weight_width\", \"weight_frac_width\",\n",
    "    \"bias_width\", \"bias_frac_width\"\n",
    "]\n",
    "\n",
    "# 解析数据\n",
    "records = []\n",
    "for trial in trials:\n",
    "    params = trial[\"params\"]\n",
    "    \n",
    "\n",
    "    # 过滤出符合条件的参数，并删除最后字段名的第一个单词\n",
    "    filtered_params = {\n",
    "        k.split(\".\")[-1].split(\"_\", 1)[1]: v  # 先获取最后的字段名，再去掉第一个单词\n",
    "        for k, v in params.items() if any(k.endswith(suffix) for suffix in target_suffixes)\n",
    "    }\n",
    "\n",
    "    # 追加到列表\n",
    "    filtered_params[\"accuracy\"] = trial[\"accuracy\"]\n",
    "    records.append(filtered_params)\n",
    "\n",
    "print(records)\n",
    "# 转换为 DataFrame\n",
    "df = pd.DataFrame(records)\n",
    "\n",
    "# 只保留这 6 个固定参数（重命名后的键）\n",
    "selected_params = target_suffixes  # 只绘制这 6 个参数\n",
    "df = df[[\"accuracy\"] + selected_params]\n",
    "\n",
    "# 设置 Seaborn 样式\n",
    "sns.set(style=\"whitegrid\")\n",
    "\n",
    "# 创建 2 行 3 列的子图\n",
    "fig, axes = plt.subplots(2, 3, figsize=(18, 10))  \n",
    "axes = axes.flatten()\n",
    "\n",
    "# 画箱线图\n",
    "for i, param in enumerate(selected_params):\n",
    "    sns.boxplot(x=df[param], y=df[\"accuracy\"], ax=axes[i], showfliers=False)\n",
    "    axes[i].set_title(f\"Accuracy Distribution for {param}\")\n",
    "\n",
    "plt.tight_layout()\n",
    "plt.show()\n"
   ]
  },
  {
   "cell_type": "markdown",
   "metadata": {},
   "source": [
    "### Task 2"
   ]
  },
  {
   "cell_type": "code",
   "execution_count": 2,
   "metadata": {},
   "outputs": [
    {
     "name": "stderr",
     "output_type": "stream",
     "text": [
      "\u001b[32mINFO    \u001b[0m \u001b[34mTokenizing dataset imdb with AutoTokenizer for bert-base-uncased.\u001b[0m\n",
      "[I 2025-02-07 15:02:33,841] A new study created in memory with name: bert-tiny-nas-study\n",
      "/root/local/mase/src/chop/tools/huggingface.py:157: FutureWarning: `tokenizer` is deprecated and will be removed in version 5.0.0 for `Trainer.__init__`. Use `processing_class` instead.\n",
      "  trainer = Trainer(\n"
     ]
    },
    {
     "data": {
      "text/html": [
       "\n",
       "    <div>\n",
       "      \n",
       "      <progress value='3125' max='3125' style='width:300px; height:20px; vertical-align: middle;'></progress>\n",
       "      [3125/3125 02:40, Epoch 1/1]\n",
       "    </div>\n",
       "    <table border=\"1\" class=\"dataframe\">\n",
       "  <thead>\n",
       " <tr style=\"text-align: left;\">\n",
       "      <th>Step</th>\n",
       "      <th>Training Loss</th>\n",
       "    </tr>\n",
       "  </thead>\n",
       "  <tbody>\n",
       "    <tr>\n",
       "      <td>500</td>\n",
       "      <td>0.338700</td>\n",
       "    </tr>\n",
       "    <tr>\n",
       "      <td>1000</td>\n",
       "      <td>0.316300</td>\n",
       "    </tr>\n",
       "    <tr>\n",
       "      <td>1500</td>\n",
       "      <td>0.327600</td>\n",
       "    </tr>\n",
       "    <tr>\n",
       "      <td>2000</td>\n",
       "      <td>0.328300</td>\n",
       "    </tr>\n",
       "    <tr>\n",
       "      <td>2500</td>\n",
       "      <td>0.310000</td>\n",
       "    </tr>\n",
       "    <tr>\n",
       "      <td>3000</td>\n",
       "      <td>0.359800</td>\n",
       "    </tr>\n",
       "  </tbody>\n",
       "</table><p>"
      ],
      "text/plain": [
       "<IPython.core.display.HTML object>"
      ]
     },
     "metadata": {},
     "output_type": "display_data"
    },
    {
     "data": {
      "text/html": [
       "\n",
       "    <div>\n",
       "      \n",
       "      <progress value='3125' max='3125' style='width:300px; height:20px; vertical-align: middle;'></progress>\n",
       "      [3125/3125 01:10]\n",
       "    </div>\n",
       "    "
      ],
      "text/plain": [
       "<IPython.core.display.HTML object>"
      ]
     },
     "metadata": {},
     "output_type": "display_data"
    },
    {
     "name": "stderr",
     "output_type": "stream",
     "text": [
      "[I 2025-02-07 15:06:27,421] Trial 0 finished with value: 0.87292 and parameters: {'bert.encoder.layer.0.attention.self.query_type': 'LinearLog', 'data_in_width': 8, 'data_in_exponent_bias': 13, 'weight_width': 8, 'weight_exponent_bias': 17, 'bias_width': 4, 'bias_exponent_bias': 15, 'bert.encoder.layer.0.intermediate.dense_type': 'LinearLog', 'bert.encoder.layer.0.output.dense_type': 'LinearLog', 'bert.encoder.layer.1.attention.output.dense_type': 'LinearLog', 'bert.encoder.layer.1.intermediate.dense_type': 'LinearLog', 'bert.encoder.layer.1.output.dense_type': 'LinearLog', 'bert.pooler.dense_type': 'LinearLog', 'classifier_type': 'LinearLog'}. Best is trial 0 with value: 0.87292.\n",
      "/root/local/mase/src/chop/tools/huggingface.py:157: FutureWarning: `tokenizer` is deprecated and will be removed in version 5.0.0 for `Trainer.__init__`. Use `processing_class` instead.\n",
      "  trainer = Trainer(\n"
     ]
    },
    {
     "data": {
      "text/html": [
       "\n",
       "    <div>\n",
       "      \n",
       "      <progress value='3125' max='3125' style='width:300px; height:20px; vertical-align: middle;'></progress>\n",
       "      [3125/3125 02:29, Epoch 1/1]\n",
       "    </div>\n",
       "    <table border=\"1\" class=\"dataframe\">\n",
       "  <thead>\n",
       " <tr style=\"text-align: left;\">\n",
       "      <th>Step</th>\n",
       "      <th>Training Loss</th>\n",
       "    </tr>\n",
       "  </thead>\n",
       "  <tbody>\n",
       "    <tr>\n",
       "      <td>500</td>\n",
       "      <td>0.373800</td>\n",
       "    </tr>\n",
       "    <tr>\n",
       "      <td>1000</td>\n",
       "      <td>0.299800</td>\n",
       "    </tr>\n",
       "    <tr>\n",
       "      <td>1500</td>\n",
       "      <td>0.325900</td>\n",
       "    </tr>\n",
       "    <tr>\n",
       "      <td>2000</td>\n",
       "      <td>0.325800</td>\n",
       "    </tr>\n",
       "    <tr>\n",
       "      <td>2500</td>\n",
       "      <td>0.304700</td>\n",
       "    </tr>\n",
       "    <tr>\n",
       "      <td>3000</td>\n",
       "      <td>0.357500</td>\n",
       "    </tr>\n",
       "  </tbody>\n",
       "</table><p>"
      ],
      "text/plain": [
       "<IPython.core.display.HTML object>"
      ]
     },
     "metadata": {},
     "output_type": "display_data"
    },
    {
     "data": {
      "text/html": [
       "\n",
       "    <div>\n",
       "      \n",
       "      <progress value='3125' max='3125' style='width:300px; height:20px; vertical-align: middle;'></progress>\n",
       "      [3125/3125 01:07]\n",
       "    </div>\n",
       "    "
      ],
      "text/plain": [
       "<IPython.core.display.HTML object>"
      ]
     },
     "metadata": {},
     "output_type": "display_data"
    },
    {
     "name": "stderr",
     "output_type": "stream",
     "text": [
      "[I 2025-02-07 15:10:05,938] Trial 1 finished with value: 0.87332 and parameters: {'bert.encoder.layer.0.attention.self.query_type': 'LinearLog', 'data_in_width': 16, 'data_in_exponent_bias': 13, 'weight_width': 4, 'weight_exponent_bias': 13, 'bias_width': 8, 'bias_exponent_bias': 13, 'bert.encoder.layer.0.intermediate.dense_type': 'LinearLog', 'bert.encoder.layer.0.output.dense_type': 'LinearLog', 'bert.encoder.layer.1.attention.output.dense_type': 'LinearLog', 'bert.encoder.layer.1.intermediate.dense_type': 'LinearLog', 'bert.encoder.layer.1.output.dense_type': 'LinearLog', 'bert.pooler.dense_type': 'LinearLog', 'classifier_type': 'LinearLog'}. Best is trial 1 with value: 0.87332.\n",
      "/root/local/mase/src/chop/tools/huggingface.py:157: FutureWarning: `tokenizer` is deprecated and will be removed in version 5.0.0 for `Trainer.__init__`. Use `processing_class` instead.\n",
      "  trainer = Trainer(\n"
     ]
    },
    {
     "data": {
      "text/html": [
       "\n",
       "    <div>\n",
       "      \n",
       "      <progress value='3125' max='3125' style='width:300px; height:20px; vertical-align: middle;'></progress>\n",
       "      [3125/3125 02:31, Epoch 1/1]\n",
       "    </div>\n",
       "    <table border=\"1\" class=\"dataframe\">\n",
       "  <thead>\n",
       " <tr style=\"text-align: left;\">\n",
       "      <th>Step</th>\n",
       "      <th>Training Loss</th>\n",
       "    </tr>\n",
       "  </thead>\n",
       "  <tbody>\n",
       "    <tr>\n",
       "      <td>500</td>\n",
       "      <td>0.692900</td>\n",
       "    </tr>\n",
       "    <tr>\n",
       "      <td>1000</td>\n",
       "      <td>0.692400</td>\n",
       "    </tr>\n",
       "    <tr>\n",
       "      <td>1500</td>\n",
       "      <td>0.689500</td>\n",
       "    </tr>\n",
       "    <tr>\n",
       "      <td>2000</td>\n",
       "      <td>0.684400</td>\n",
       "    </tr>\n",
       "    <tr>\n",
       "      <td>2500</td>\n",
       "      <td>0.681100</td>\n",
       "    </tr>\n",
       "    <tr>\n",
       "      <td>3000</td>\n",
       "      <td>0.680100</td>\n",
       "    </tr>\n",
       "  </tbody>\n",
       "</table><p>"
      ],
      "text/plain": [
       "<IPython.core.display.HTML object>"
      ]
     },
     "metadata": {},
     "output_type": "display_data"
    },
    {
     "data": {
      "text/html": [
       "\n",
       "    <div>\n",
       "      \n",
       "      <progress value='3125' max='3125' style='width:300px; height:20px; vertical-align: middle;'></progress>\n",
       "      [3125/3125 01:07]\n",
       "    </div>\n",
       "    "
      ],
      "text/plain": [
       "<IPython.core.display.HTML object>"
      ]
     },
     "metadata": {},
     "output_type": "display_data"
    },
    {
     "name": "stderr",
     "output_type": "stream",
     "text": [
      "[I 2025-02-07 15:13:47,429] Trial 2 finished with value: 0.80544 and parameters: {'bert.encoder.layer.0.attention.self.query_type': 'LinearLog', 'data_in_width': 8, 'data_in_exponent_bias': 15, 'weight_width': 4, 'weight_exponent_bias': 17, 'bias_width': 4, 'bias_exponent_bias': 15, 'bert.encoder.layer.0.intermediate.dense_type': 'LinearLog', 'bert.encoder.layer.0.output.dense_type': 'LinearLog', 'bert.encoder.layer.1.attention.output.dense_type': 'LinearLog', 'bert.encoder.layer.1.intermediate.dense_type': 'LinearLog', 'bert.encoder.layer.1.output.dense_type': 'LinearLog', 'bert.pooler.dense_type': 'LinearLog', 'classifier_type': 'LinearLog'}. Best is trial 1 with value: 0.87332.\n",
      "/root/local/mase/src/chop/tools/huggingface.py:157: FutureWarning: `tokenizer` is deprecated and will be removed in version 5.0.0 for `Trainer.__init__`. Use `processing_class` instead.\n",
      "  trainer = Trainer(\n"
     ]
    },
    {
     "data": {
      "text/html": [
       "\n",
       "    <div>\n",
       "      \n",
       "      <progress value='3125' max='3125' style='width:300px; height:20px; vertical-align: middle;'></progress>\n",
       "      [3125/3125 02:30, Epoch 1/1]\n",
       "    </div>\n",
       "    <table border=\"1\" class=\"dataframe\">\n",
       "  <thead>\n",
       " <tr style=\"text-align: left;\">\n",
       "      <th>Step</th>\n",
       "      <th>Training Loss</th>\n",
       "    </tr>\n",
       "  </thead>\n",
       "  <tbody>\n",
       "    <tr>\n",
       "      <td>500</td>\n",
       "      <td>0.692900</td>\n",
       "    </tr>\n",
       "    <tr>\n",
       "      <td>1000</td>\n",
       "      <td>0.693300</td>\n",
       "    </tr>\n",
       "    <tr>\n",
       "      <td>1500</td>\n",
       "      <td>0.693300</td>\n",
       "    </tr>\n",
       "    <tr>\n",
       "      <td>2000</td>\n",
       "      <td>0.693900</td>\n",
       "    </tr>\n",
       "    <tr>\n",
       "      <td>2500</td>\n",
       "      <td>0.694300</td>\n",
       "    </tr>\n",
       "    <tr>\n",
       "      <td>3000</td>\n",
       "      <td>0.693600</td>\n",
       "    </tr>\n",
       "  </tbody>\n",
       "</table><p>"
      ],
      "text/plain": [
       "<IPython.core.display.HTML object>"
      ]
     },
     "metadata": {},
     "output_type": "display_data"
    },
    {
     "data": {
      "text/html": [
       "\n",
       "    <div>\n",
       "      \n",
       "      <progress value='3125' max='3125' style='width:300px; height:20px; vertical-align: middle;'></progress>\n",
       "      [3125/3125 01:07]\n",
       "    </div>\n",
       "    "
      ],
      "text/plain": [
       "<IPython.core.display.HTML object>"
      ]
     },
     "metadata": {},
     "output_type": "display_data"
    },
    {
     "name": "stderr",
     "output_type": "stream",
     "text": [
      "[I 2025-02-07 15:17:26,760] Trial 3 finished with value: 0.5 and parameters: {'bert.encoder.layer.0.attention.self.query_type': 'LinearLog', 'data_in_width': 4, 'data_in_exponent_bias': 17, 'weight_width': 4, 'weight_exponent_bias': 13, 'bias_width': 16, 'bias_exponent_bias': 13, 'bert.encoder.layer.0.intermediate.dense_type': 'LinearLog', 'bert.encoder.layer.0.output.dense_type': 'LinearLog', 'bert.encoder.layer.1.attention.output.dense_type': 'LinearLog', 'bert.encoder.layer.1.intermediate.dense_type': 'LinearLog', 'bert.encoder.layer.1.output.dense_type': 'LinearLog', 'bert.pooler.dense_type': 'LinearLog', 'classifier_type': 'LinearLog'}. Best is trial 1 with value: 0.87332.\n",
      "/root/local/mase/src/chop/tools/huggingface.py:157: FutureWarning: `tokenizer` is deprecated and will be removed in version 5.0.0 for `Trainer.__init__`. Use `processing_class` instead.\n",
      "  trainer = Trainer(\n"
     ]
    },
    {
     "data": {
      "text/html": [
       "\n",
       "    <div>\n",
       "      \n",
       "      <progress value='3125' max='3125' style='width:300px; height:20px; vertical-align: middle;'></progress>\n",
       "      [3125/3125 02:34, Epoch 1/1]\n",
       "    </div>\n",
       "    <table border=\"1\" class=\"dataframe\">\n",
       "  <thead>\n",
       " <tr style=\"text-align: left;\">\n",
       "      <th>Step</th>\n",
       "      <th>Training Loss</th>\n",
       "    </tr>\n",
       "  </thead>\n",
       "  <tbody>\n",
       "    <tr>\n",
       "      <td>500</td>\n",
       "      <td>0.337400</td>\n",
       "    </tr>\n",
       "    <tr>\n",
       "      <td>1000</td>\n",
       "      <td>0.314900</td>\n",
       "    </tr>\n",
       "    <tr>\n",
       "      <td>1500</td>\n",
       "      <td>0.325600</td>\n",
       "    </tr>\n",
       "    <tr>\n",
       "      <td>2000</td>\n",
       "      <td>0.331900</td>\n",
       "    </tr>\n",
       "    <tr>\n",
       "      <td>2500</td>\n",
       "      <td>0.312100</td>\n",
       "    </tr>\n",
       "    <tr>\n",
       "      <td>3000</td>\n",
       "      <td>0.357200</td>\n",
       "    </tr>\n",
       "  </tbody>\n",
       "</table><p>"
      ],
      "text/plain": [
       "<IPython.core.display.HTML object>"
      ]
     },
     "metadata": {},
     "output_type": "display_data"
    },
    {
     "data": {
      "text/html": [
       "\n",
       "    <div>\n",
       "      \n",
       "      <progress value='3125' max='3125' style='width:300px; height:20px; vertical-align: middle;'></progress>\n",
       "      [3125/3125 01:08]\n",
       "    </div>\n",
       "    "
      ],
      "text/plain": [
       "<IPython.core.display.HTML object>"
      ]
     },
     "metadata": {},
     "output_type": "display_data"
    },
    {
     "name": "stderr",
     "output_type": "stream",
     "text": [
      "[I 2025-02-07 15:21:11,098] Trial 4 finished with value: 0.87252 and parameters: {'bert.encoder.layer.0.attention.self.query_type': 'LinearLog', 'data_in_width': 16, 'data_in_exponent_bias': 13, 'weight_width': 8, 'weight_exponent_bias': 15, 'bias_width': 4, 'bias_exponent_bias': 17, 'bert.encoder.layer.0.intermediate.dense_type': 'LinearLog', 'bert.encoder.layer.0.output.dense_type': 'LinearLog', 'bert.encoder.layer.1.attention.output.dense_type': 'LinearLog', 'bert.encoder.layer.1.intermediate.dense_type': 'LinearLog', 'bert.encoder.layer.1.output.dense_type': 'LinearLog', 'bert.pooler.dense_type': 'LinearLog', 'classifier_type': 'LinearLog'}. Best is trial 1 with value: 0.87332.\n",
      "/root/local/mase/src/chop/tools/huggingface.py:157: FutureWarning: `tokenizer` is deprecated and will be removed in version 5.0.0 for `Trainer.__init__`. Use `processing_class` instead.\n",
      "  trainer = Trainer(\n"
     ]
    },
    {
     "data": {
      "text/html": [
       "\n",
       "    <div>\n",
       "      \n",
       "      <progress value='3125' max='3125' style='width:300px; height:20px; vertical-align: middle;'></progress>\n",
       "      [3125/3125 02:37, Epoch 1/1]\n",
       "    </div>\n",
       "    <table border=\"1\" class=\"dataframe\">\n",
       "  <thead>\n",
       " <tr style=\"text-align: left;\">\n",
       "      <th>Step</th>\n",
       "      <th>Training Loss</th>\n",
       "    </tr>\n",
       "  </thead>\n",
       "  <tbody>\n",
       "    <tr>\n",
       "      <td>500</td>\n",
       "      <td>0.670700</td>\n",
       "    </tr>\n",
       "    <tr>\n",
       "      <td>1000</td>\n",
       "      <td>0.526900</td>\n",
       "    </tr>\n",
       "    <tr>\n",
       "      <td>1500</td>\n",
       "      <td>0.481100</td>\n",
       "    </tr>\n",
       "    <tr>\n",
       "      <td>2000</td>\n",
       "      <td>0.458700</td>\n",
       "    </tr>\n",
       "    <tr>\n",
       "      <td>2500</td>\n",
       "      <td>0.429600</td>\n",
       "    </tr>\n",
       "    <tr>\n",
       "      <td>3000</td>\n",
       "      <td>0.430800</td>\n",
       "    </tr>\n",
       "  </tbody>\n",
       "</table><p>"
      ],
      "text/plain": [
       "<IPython.core.display.HTML object>"
      ]
     },
     "metadata": {},
     "output_type": "display_data"
    },
    {
     "data": {
      "text/html": [
       "\n",
       "    <div>\n",
       "      \n",
       "      <progress value='3125' max='3125' style='width:300px; height:20px; vertical-align: middle;'></progress>\n",
       "      [3125/3125 01:09]\n",
       "    </div>\n",
       "    "
      ],
      "text/plain": [
       "<IPython.core.display.HTML object>"
      ]
     },
     "metadata": {},
     "output_type": "display_data"
    },
    {
     "name": "stderr",
     "output_type": "stream",
     "text": [
      "[I 2025-02-07 15:24:59,944] Trial 5 finished with value: 0.8504 and parameters: {'bert.encoder.layer.0.attention.self.query_type': 'LinearLog', 'data_in_width': 8, 'data_in_exponent_bias': 13, 'weight_width': 4, 'weight_exponent_bias': 15, 'bias_width': 16, 'bias_exponent_bias': 15, 'bert.encoder.layer.0.intermediate.dense_type': 'LinearLog', 'bert.encoder.layer.0.output.dense_type': 'LinearLog', 'bert.encoder.layer.1.attention.output.dense_type': 'LinearLog', 'bert.encoder.layer.1.intermediate.dense_type': 'LinearLog', 'bert.encoder.layer.1.output.dense_type': 'LinearLog', 'bert.pooler.dense_type': 'LinearLog', 'classifier_type': 'LinearLog'}. Best is trial 1 with value: 0.87332.\n",
      "/root/local/mase/src/chop/tools/huggingface.py:157: FutureWarning: `tokenizer` is deprecated and will be removed in version 5.0.0 for `Trainer.__init__`. Use `processing_class` instead.\n",
      "  trainer = Trainer(\n"
     ]
    },
    {
     "data": {
      "text/html": [
       "\n",
       "    <div>\n",
       "      \n",
       "      <progress value='3125' max='3125' style='width:300px; height:20px; vertical-align: middle;'></progress>\n",
       "      [3125/3125 02:36, Epoch 1/1]\n",
       "    </div>\n",
       "    <table border=\"1\" class=\"dataframe\">\n",
       "  <thead>\n",
       " <tr style=\"text-align: left;\">\n",
       "      <th>Step</th>\n",
       "      <th>Training Loss</th>\n",
       "    </tr>\n",
       "  </thead>\n",
       "  <tbody>\n",
       "    <tr>\n",
       "      <td>500</td>\n",
       "      <td>0.373500</td>\n",
       "    </tr>\n",
       "    <tr>\n",
       "      <td>1000</td>\n",
       "      <td>0.298300</td>\n",
       "    </tr>\n",
       "    <tr>\n",
       "      <td>1500</td>\n",
       "      <td>0.322700</td>\n",
       "    </tr>\n",
       "    <tr>\n",
       "      <td>2000</td>\n",
       "      <td>0.325800</td>\n",
       "    </tr>\n",
       "    <tr>\n",
       "      <td>2500</td>\n",
       "      <td>0.306200</td>\n",
       "    </tr>\n",
       "    <tr>\n",
       "      <td>3000</td>\n",
       "      <td>0.360400</td>\n",
       "    </tr>\n",
       "  </tbody>\n",
       "</table><p>"
      ],
      "text/plain": [
       "<IPython.core.display.HTML object>"
      ]
     },
     "metadata": {},
     "output_type": "display_data"
    },
    {
     "data": {
      "text/html": [
       "\n",
       "    <div>\n",
       "      \n",
       "      <progress value='3125' max='3125' style='width:300px; height:20px; vertical-align: middle;'></progress>\n",
       "      [3125/3125 01:09]\n",
       "    </div>\n",
       "    "
      ],
      "text/plain": [
       "<IPython.core.display.HTML object>"
      ]
     },
     "metadata": {},
     "output_type": "display_data"
    },
    {
     "name": "stderr",
     "output_type": "stream",
     "text": [
      "[I 2025-02-07 15:28:47,472] Trial 6 finished with value: 0.87304 and parameters: {'bert.encoder.layer.0.attention.self.query_type': 'LinearLog', 'data_in_width': 16, 'data_in_exponent_bias': 17, 'weight_width': 4, 'weight_exponent_bias': 13, 'bias_width': 8, 'bias_exponent_bias': 15, 'bert.encoder.layer.0.intermediate.dense_type': 'LinearLog', 'bert.encoder.layer.0.output.dense_type': 'LinearLog', 'bert.encoder.layer.1.attention.output.dense_type': 'LinearLog', 'bert.encoder.layer.1.intermediate.dense_type': 'LinearLog', 'bert.encoder.layer.1.output.dense_type': 'LinearLog', 'bert.pooler.dense_type': 'LinearLog', 'classifier_type': 'LinearLog'}. Best is trial 1 with value: 0.87332.\n",
      "/root/local/mase/src/chop/tools/huggingface.py:157: FutureWarning: `tokenizer` is deprecated and will be removed in version 5.0.0 for `Trainer.__init__`. Use `processing_class` instead.\n",
      "  trainer = Trainer(\n"
     ]
    },
    {
     "data": {
      "text/html": [
       "\n",
       "    <div>\n",
       "      \n",
       "      <progress value='3125' max='3125' style='width:300px; height:20px; vertical-align: middle;'></progress>\n",
       "      [3125/3125 02:37, Epoch 1/1]\n",
       "    </div>\n",
       "    <table border=\"1\" class=\"dataframe\">\n",
       "  <thead>\n",
       " <tr style=\"text-align: left;\">\n",
       "      <th>Step</th>\n",
       "      <th>Training Loss</th>\n",
       "    </tr>\n",
       "  </thead>\n",
       "  <tbody>\n",
       "    <tr>\n",
       "      <td>500</td>\n",
       "      <td>0.335900</td>\n",
       "    </tr>\n",
       "    <tr>\n",
       "      <td>1000</td>\n",
       "      <td>0.311800</td>\n",
       "    </tr>\n",
       "    <tr>\n",
       "      <td>1500</td>\n",
       "      <td>0.333600</td>\n",
       "    </tr>\n",
       "    <tr>\n",
       "      <td>2000</td>\n",
       "      <td>0.333600</td>\n",
       "    </tr>\n",
       "    <tr>\n",
       "      <td>2500</td>\n",
       "      <td>0.303900</td>\n",
       "    </tr>\n",
       "    <tr>\n",
       "      <td>3000</td>\n",
       "      <td>0.359300</td>\n",
       "    </tr>\n",
       "  </tbody>\n",
       "</table><p>"
      ],
      "text/plain": [
       "<IPython.core.display.HTML object>"
      ]
     },
     "metadata": {},
     "output_type": "display_data"
    },
    {
     "data": {
      "text/html": [
       "\n",
       "    <div>\n",
       "      \n",
       "      <progress value='3125' max='3125' style='width:300px; height:20px; vertical-align: middle;'></progress>\n",
       "      [3125/3125 01:06]\n",
       "    </div>\n",
       "    "
      ],
      "text/plain": [
       "<IPython.core.display.HTML object>"
      ]
     },
     "metadata": {},
     "output_type": "display_data"
    },
    {
     "name": "stderr",
     "output_type": "stream",
     "text": [
      "[I 2025-02-07 15:32:33,743] Trial 7 finished with value: 0.87448 and parameters: {'bert.encoder.layer.0.attention.self.query_type': 'LinearLog', 'data_in_width': 16, 'data_in_exponent_bias': 17, 'weight_width': 16, 'weight_exponent_bias': 13, 'bias_width': 16, 'bias_exponent_bias': 15, 'bert.encoder.layer.0.intermediate.dense_type': 'LinearLog', 'bert.encoder.layer.0.output.dense_type': 'LinearLog', 'bert.encoder.layer.1.attention.output.dense_type': 'LinearLog', 'bert.encoder.layer.1.intermediate.dense_type': 'LinearLog', 'bert.encoder.layer.1.output.dense_type': 'LinearLog', 'bert.pooler.dense_type': 'LinearLog', 'classifier_type': 'LinearLog'}. Best is trial 7 with value: 0.87448.\n",
      "/root/local/mase/src/chop/tools/huggingface.py:157: FutureWarning: `tokenizer` is deprecated and will be removed in version 5.0.0 for `Trainer.__init__`. Use `processing_class` instead.\n",
      "  trainer = Trainer(\n"
     ]
    },
    {
     "data": {
      "text/html": [
       "\n",
       "    <div>\n",
       "      \n",
       "      <progress value='3125' max='3125' style='width:300px; height:20px; vertical-align: middle;'></progress>\n",
       "      [3125/3125 02:32, Epoch 1/1]\n",
       "    </div>\n",
       "    <table border=\"1\" class=\"dataframe\">\n",
       "  <thead>\n",
       " <tr style=\"text-align: left;\">\n",
       "      <th>Step</th>\n",
       "      <th>Training Loss</th>\n",
       "    </tr>\n",
       "  </thead>\n",
       "  <tbody>\n",
       "    <tr>\n",
       "      <td>500</td>\n",
       "      <td>0.373300</td>\n",
       "    </tr>\n",
       "    <tr>\n",
       "      <td>1000</td>\n",
       "      <td>0.297300</td>\n",
       "    </tr>\n",
       "    <tr>\n",
       "      <td>1500</td>\n",
       "      <td>0.323800</td>\n",
       "    </tr>\n",
       "    <tr>\n",
       "      <td>2000</td>\n",
       "      <td>0.326900</td>\n",
       "    </tr>\n",
       "    <tr>\n",
       "      <td>2500</td>\n",
       "      <td>0.301500</td>\n",
       "    </tr>\n",
       "    <tr>\n",
       "      <td>3000</td>\n",
       "      <td>0.352300</td>\n",
       "    </tr>\n",
       "  </tbody>\n",
       "</table><p>"
      ],
      "text/plain": [
       "<IPython.core.display.HTML object>"
      ]
     },
     "metadata": {},
     "output_type": "display_data"
    },
    {
     "data": {
      "text/html": [
       "\n",
       "    <div>\n",
       "      \n",
       "      <progress value='3125' max='3125' style='width:300px; height:20px; vertical-align: middle;'></progress>\n",
       "      [3125/3125 01:06]\n",
       "    </div>\n",
       "    "
      ],
      "text/plain": [
       "<IPython.core.display.HTML object>"
      ]
     },
     "metadata": {},
     "output_type": "display_data"
    },
    {
     "name": "stderr",
     "output_type": "stream",
     "text": [
      "[I 2025-02-07 15:36:15,333] Trial 8 finished with value: 0.87412 and parameters: {'bert.encoder.layer.0.attention.self.query_type': 'LinearLog', 'data_in_width': 16, 'data_in_exponent_bias': 13, 'weight_width': 4, 'weight_exponent_bias': 13, 'bias_width': 4, 'bias_exponent_bias': 17, 'bert.encoder.layer.0.intermediate.dense_type': 'LinearLog', 'bert.encoder.layer.0.output.dense_type': 'LinearLog', 'bert.encoder.layer.1.attention.output.dense_type': 'LinearLog', 'bert.encoder.layer.1.intermediate.dense_type': 'LinearLog', 'bert.encoder.layer.1.output.dense_type': 'LinearLog', 'bert.pooler.dense_type': 'LinearLog', 'classifier_type': 'LinearLog'}. Best is trial 7 with value: 0.87448.\n",
      "/root/local/mase/src/chop/tools/huggingface.py:157: FutureWarning: `tokenizer` is deprecated and will be removed in version 5.0.0 for `Trainer.__init__`. Use `processing_class` instead.\n",
      "  trainer = Trainer(\n"
     ]
    },
    {
     "data": {
      "text/html": [
       "\n",
       "    <div>\n",
       "      \n",
       "      <progress value='3125' max='3125' style='width:300px; height:20px; vertical-align: middle;'></progress>\n",
       "      [3125/3125 02:35, Epoch 1/1]\n",
       "    </div>\n",
       "    <table border=\"1\" class=\"dataframe\">\n",
       "  <thead>\n",
       " <tr style=\"text-align: left;\">\n",
       "      <th>Step</th>\n",
       "      <th>Training Loss</th>\n",
       "    </tr>\n",
       "  </thead>\n",
       "  <tbody>\n",
       "    <tr>\n",
       "      <td>500</td>\n",
       "      <td>0.692900</td>\n",
       "    </tr>\n",
       "    <tr>\n",
       "      <td>1000</td>\n",
       "      <td>0.693300</td>\n",
       "    </tr>\n",
       "    <tr>\n",
       "      <td>1500</td>\n",
       "      <td>0.693300</td>\n",
       "    </tr>\n",
       "    <tr>\n",
       "      <td>2000</td>\n",
       "      <td>0.693900</td>\n",
       "    </tr>\n",
       "    <tr>\n",
       "      <td>2500</td>\n",
       "      <td>0.694300</td>\n",
       "    </tr>\n",
       "    <tr>\n",
       "      <td>3000</td>\n",
       "      <td>0.693500</td>\n",
       "    </tr>\n",
       "  </tbody>\n",
       "</table><p>"
      ],
      "text/plain": [
       "<IPython.core.display.HTML object>"
      ]
     },
     "metadata": {},
     "output_type": "display_data"
    },
    {
     "data": {
      "text/html": [
       "\n",
       "    <div>\n",
       "      \n",
       "      <progress value='3125' max='3125' style='width:300px; height:20px; vertical-align: middle;'></progress>\n",
       "      [3125/3125 01:08]\n",
       "    </div>\n",
       "    "
      ],
      "text/plain": [
       "<IPython.core.display.HTML object>"
      ]
     },
     "metadata": {},
     "output_type": "display_data"
    },
    {
     "name": "stderr",
     "output_type": "stream",
     "text": [
      "[I 2025-02-07 15:40:00,520] Trial 9 finished with value: 0.5 and parameters: {'bert.encoder.layer.0.attention.self.query_type': 'LinearLog', 'data_in_width': 4, 'data_in_exponent_bias': 13, 'weight_width': 4, 'weight_exponent_bias': 15, 'bias_width': 8, 'bias_exponent_bias': 13, 'bert.encoder.layer.0.intermediate.dense_type': 'LinearLog', 'bert.encoder.layer.0.output.dense_type': 'LinearLog', 'bert.encoder.layer.1.attention.output.dense_type': 'LinearLog', 'bert.encoder.layer.1.intermediate.dense_type': 'LinearLog', 'bert.encoder.layer.1.output.dense_type': 'LinearLog', 'bert.pooler.dense_type': 'LinearLog', 'classifier_type': 'LinearLog'}. Best is trial 7 with value: 0.87448.\n"
     ]
    }
   ],
   "source": [
    "from optuna.samplers import GridSampler, RandomSampler, TPESampler\n",
    "from chop.tools import get_tokenized_dataset, get_trainer\n",
    "from transformers import AutoModelForSequenceClassification\n",
    "from chop.tools.utils import deepsetattr\n",
    "from transformers import AutoModel\n",
    "import matplotlib.pyplot as plt\n",
    "from copy import deepcopy\n",
    "import numpy as np\n",
    "import json\n",
    "import optuna\n",
    "import dill\n",
    "import torch\n",
    "import random\n",
    "from chop.nn.quantized.modules.linear import (\n",
    "    LinearInteger,\n",
    "    LinearMinifloatDenorm,\n",
    "    LinearMinifloatIEEE,\n",
    "    LinearLog,\n",
    "    LinearBlockFP,\n",
    "    LinearBlockMinifloat,\n",
    "    LinearBlockLog,\n",
    "    LinearBinary,\n",
    "    LinearBinaryScaling,\n",
    "    LinearBinaryResidualSign,\n",
    ")\n",
    "\n",
    "\n",
    "\n",
    "# Load dataset\n",
    "checkpoint = \"prajjwal1/bert-tiny\"\n",
    "tokenizer_checkpoint = \"bert-base-uncased\"\n",
    "dataset_name = \"imdb\"\n",
    "dataset, tokenizer = get_tokenized_dataset(\n",
    "    dataset=dataset_name,\n",
    "    checkpoint=tokenizer_checkpoint,\n",
    "    return_tokenizer=True,\n",
    ")\n",
    "\n",
    "# Load model\n",
    "with open(\"tutorial_5_best_model copy 2.pkl\", \"rb\") as f:\n",
    "    base_model = dill.load(f)\n",
    "# base_model = AutoModel.from_pretrained(checkpoint)\n",
    "\n",
    "\n",
    "# base_model = AutoModelForSequenceClassification.from_pretrained(\"bert-base-uncased\")  # Adjust num_labels as needed\n",
    "\n",
    "\n",
    "# Define search space\n",
    "search_space = {\n",
    "    \"linear_layer_choices\": [\n",
    "        # \"torch.nn.Linear\",\n",
    "        # \"LinearInteger\",\n",
    "        # \"LinearMinifloatDenorm\",\n",
    "        # \"LinearMinifloatIEEE\",\n",
    "        # \"LinearBlockFP\",\n",
    "        # \"LinearBlockMinifloat\",\n",
    "        # \"LinearBlockLog\",\n",
    "        # \"LinearBinary\",  # 有问题 已解决，utils.py\n",
    "        # \"LinearBinaryScaling\",  # 有问题\n",
    "        # \"LinearBinaryResidualSign\",\n",
    "        \"LinearLog\"\n",
    "    ]\n",
    "}\n",
    "\n",
    "# 定义字符串到类对象的映射\n",
    "layer_mapping = {\n",
    "    \"torch.nn.Linear\": torch.nn.Linear,\n",
    "    \"LinearInteger\": LinearInteger,\n",
    "    \"LinearMinifloatDenorm\": LinearMinifloatDenorm,\n",
    "    \"LinearMinifloatIEEE\": LinearMinifloatIEEE,\n",
    "    \"LinearBlockFP\": LinearBlockFP,\n",
    "    \"LinearBlockMinifloat\": LinearBlockMinifloat,\n",
    "    \"LinearBlockLog\": LinearBlockLog,\n",
    "    \"LinearBinary\": LinearBinary,\n",
    "    \"LinearBinaryScaling\": LinearBinaryScaling,\n",
    "    \"LinearBinaryResidualSign\": LinearBinaryResidualSign,\n",
    "    \"LinearLog\": LinearLog\n",
    "}\n",
    "\n",
    "# Construct model\n",
    "def construct_model(trial):\n",
    "\n",
    "    # Fetch the model\n",
    "    trial_model = deepcopy(base_model)\n",
    "\n",
    "    # Quantize layers according to optuna suggestions\n",
    "    for name, layer in trial_model.named_modules():\n",
    "        if isinstance(layer, torch.nn.Linear):\n",
    "             # 选择层类型（返回字符串）\n",
    "            new_layer_cls_name = trial.suggest_categorical(\n",
    "                f\"{name}_type\",\n",
    "                search_space[\"linear_layer_choices\"],\n",
    "            )\n",
    "\n",
    "            # 通过映射获取真正的类对象\n",
    "            new_layer_cls = layer_mapping[new_layer_cls_name]\n",
    "\n",
    "            if new_layer_cls == torch.nn.Linear:\n",
    "                continue\n",
    "\n",
    "            kwargs = {\n",
    "                \"in_features\": layer.in_features,\n",
    "                \"out_features\": layer.out_features,\n",
    "            }\n",
    "\n",
    "            # If the chosen layer is integer, define the low precision config\n",
    "            if new_layer_cls == LinearInteger:\n",
    "                kwargs[\"config\"] = {\n",
    "                    \"data_in_width\": trial.suggest_categorical(f\"{name}_data_in_width\", [8, 16, 32]),\n",
    "                    \"data_in_frac_width\": trial.suggest_categorical(f\"{name}_data_in_frac_width\", [2, 4, 8]),\n",
    "                    \"weight_width\": trial.suggest_categorical(f\"{name}_weight_width\", [8, 16, 32]),\n",
    "                    \"weight_frac_width\": trial.suggest_categorical(f\"{name}_weight_frac_width\", [2, 4, 8]),\n",
    "                    \"bias_width\": trial.suggest_categorical(f\"{name}_bias_width\", [8, 16, 32]),\n",
    "                    \"bias_frac_width\": trial.suggest_categorical(f\"{name}_bias_frac_width\", [2, 4, 8]),\n",
    "                }\n",
    "\n",
    "            elif new_layer_cls == LinearMinifloatDenorm or new_layer_cls == LinearMinifloatIEEE:\n",
    "                kwargs[\"config\"] = {\n",
    "                    \"data_in_width\": trial.suggest_categorical(\"data_in_width\", [4, 8, 16]),\n",
    "                    \"data_in_exponent_width\": trial.suggest_categorical(\"data_in_exponent_width\", [4, 5, 6]),\n",
    "                    \"data_in_exponent_bias\": trial.suggest_categorical(\"data_in_exponent_bias\", [13, 15, 17]),\n",
    "                    \"weight_width\": trial.suggest_categorical(\"weight_width\", [4, 8, 16]),\n",
    "                    \"weight_exponent_width\": trial.suggest_categorical(\"weight_exponent_width\", [4, 5, 6]),\n",
    "                    \"weight_exponent_bias\": trial.suggest_categorical(\"weight_exponent_bias\", [13, 15, 17]),\n",
    "                    \"bias_width\": trial.suggest_categorical(\"bias_width\", [4, 8, 16]),\n",
    "                    \"bias_exponent_width\": trial.suggest_categorical(\"bias_exponent_width\", [4, 5, 6]),\n",
    "                    \"bias_exponent_bias\": trial.suggest_categorical(\"bias_exponent_bias\", [13, 15, 17]),\n",
    "                }\n",
    "\n",
    "            elif new_layer_cls == LinearBlockFP:\n",
    "                kwargs[\"config\"] = {\n",
    "                    \"data_in_width\": trial.suggest_categorical(\"data_in_width\", [4, 8, 16]),\n",
    "                    \"data_in_exponent_width\": trial.suggest_categorical(\"data_in_exponent_width\", [4, 5, 6]),\n",
    "                    \"data_in_exponent_bias\": trial.suggest_categorical(\"data_in_exponent_bias\", [13, 15, 17]),\n",
    "                    \"data_in_block_size\": [trial.suggest_categorical(\"data_in_block_size\", [16, 8])],\n",
    "                    \"weight_width\": trial.suggest_categorical(\"weight_width\", [4, 8, 16]),\n",
    "                    \"weight_exponent_width\": trial.suggest_categorical(\"weight_exponent_width\", [4, 5, 6]),\n",
    "                    \"weight_exponent_bias\": trial.suggest_categorical(\"weight_exponent_bias\", [13, 15, 17]),\n",
    "                    \"weight_block_size\": [trial.suggest_categorical(\"weight_block_size\", [16, 8])],\n",
    "                    \"bias_width\": trial.suggest_categorical(\"bias_width\", [4, 8, 16]),\n",
    "                    \"bias_exponent_width\": trial.suggest_categorical(\"bias_exponent_width\", [4, 5, 6]),\n",
    "                    \"bias_exponent_bias\": trial.suggest_categorical(\"bias_exponent_bias\", [13, 15, 17]),\n",
    "                    \"bias_block_size\": [trial.suggest_categorical(\"bias_block_size\", [16, 8])],\n",
    "                }\n",
    "\n",
    "            elif new_layer_cls == LinearBlockMinifloat:\n",
    "                kwargs[\"config\"] = {\n",
    "                    \"data_in_width\": trial.suggest_categorical(\"data_in_width\", [4, 8, 16]),\n",
    "                    \"data_in_exponent_width\": trial.suggest_categorical(\"data_in_exponent_width\", [4, 5, 6]),\n",
    "                    \"data_in_exponent_bias_width\": trial.suggest_categorical(\"data_in_exponent_bias_width\", [3, 4, 5]),\n",
    "                    \"data_in_block_size\": [trial.suggest_categorical(\"data_in_block_size\", [16, 8])],\n",
    "                    \"weight_width\": trial.suggest_categorical(\"weight_width\", [4, 8, 16]),\n",
    "                    \"weight_exponent_width\": trial.suggest_categorical(\"weight_exponent_width\", [4, 5, 6]),\n",
    "                    \"weight_exponent_bias_width\": trial.suggest_categorical(\"weight_exponent_bias_width\", [3, 4, 5]),\n",
    "                    \"weight_block_size\": [trial.suggest_categorical(\"weight_block_size\", [16, 8])],\n",
    "                    \"bias_width\": trial.suggest_categorical(\"bias_width\", [4, 8, 16]),\n",
    "                    \"bias_exponent_width\": trial.suggest_categorical(\"bias_exponent_width\", [4, 5, 6]),\n",
    "                    \"bias_exponent_bias_width\": trial.suggest_categorical(\"bias_exponent_bias_width\", [3, 4, 5]),\n",
    "                    \"bias_block_size\": [trial.suggest_categorical(\"bias_block_size\", [16, 8])],\n",
    "                }\n",
    "\n",
    "            elif new_layer_cls == LinearBlockLog:\n",
    "                kwargs[\"config\"] = {\n",
    "                    \"data_in_width\": trial.suggest_categorical(\"data_in_width\", [4, 8, 16]),\n",
    "                    \"data_in_exponent_bias_width\": trial.suggest_categorical(\"data_in_exponent_bias_width\", [4, 5, 6]),\n",
    "                    \"data_in_block_size\": [trial.suggest_categorical(\"data_in_block_size\", [16, 8])],\n",
    "                    \"weight_width\": trial.suggest_categorical(\"weight_width\", [4, 8, 16]),\n",
    "                    \"weight_exponent_bias_width\": trial.suggest_categorical(\"weight_exponent_bias_width\", [4, 5, 6]),\n",
    "                    \"weight_block_size\": [trial.suggest_categorical(\"weight_block_size\", [16, 8])],\n",
    "                    \"bias_width\": trial.suggest_categorical(\"bias_width\", [4, 8, 16]),\n",
    "                    \"bias_exponent_bias_width\": trial.suggest_categorical(\"bias_exponent_bias_width\", [4, 5, 6]),\n",
    "                    \"bias_block_size\": [trial.suggest_categorical(\"bias_block_size\", [16, 8])],\n",
    "                }\n",
    "\n",
    "            elif new_layer_cls == LinearBinary:\n",
    "                kwargs[\"config\"] = {\n",
    "                    \"weight_stochastic\": trial.suggest_categorical(\"weight_stochastic\", [True, False]),\n",
    "                    \"weight_bipolar\": trial.suggest_categorical(\"weight_bipolar\", [True, False]),\n",
    "                }\n",
    "\n",
    "            elif new_layer_cls == LinearBinaryScaling or new_layer_cls == LinearBinaryResidualSign:\n",
    "                kwargs[\"config\"] = {\n",
    "                    \"data_in_stochastic\": trial.suggest_categorical(\"data_in_stochastic\", [False]),\n",
    "                    \"data_in_bipolar\": trial.suggest_categorical(\"data_in_bipolar\", [False]),\n",
    "                    \"weight_stochastic\": trial.suggest_categorical(\"weight_stochastic\", [True]),\n",
    "                    \"weight_bipolar\": trial.suggest_categorical(\"weight_bipolar\", [True]),\n",
    "                    \"bias_stochastic\": trial.suggest_categorical(\"bias_stochastic\", [True]),\n",
    "                    \"bias_bipolar\": trial.suggest_categorical(\"bias_bipolar\", [False]),\n",
    "                    \"binary_training\": trial.suggest_categorical(\"binary_training\", [True]),\n",
    "                }\n",
    "\n",
    "            elif new_layer_cls == LinearLog:\n",
    "                kwargs[\"config\"] = {\n",
    "                    \"data_in_width\": trial.suggest_categorical(\"data_in_width\", [4, 8, 16]),\n",
    "                    \"data_in_exponent_bias\": trial.suggest_categorical(\"data_in_exponent_bias\", [13, 15, 17]),\n",
    "                    \"weight_width\": trial.suggest_categorical(\"weight_width\", [4, 8, 16]),\n",
    "                    \"weight_exponent_bias\": trial.suggest_categorical(\"weight_exponent_bias\", [13, 15, 17]),\n",
    "                    \"bias_width\": trial.suggest_categorical(\"bias_width\", [4, 8, 16]),\n",
    "                    \"bias_exponent_bias\": trial.suggest_categorical(\"bias_exponent_bias\", [13, 15, 17]),\n",
    "                }\n",
    "\n",
    "\n",
    "\n",
    "            # Create the new layer (copy the weights)\n",
    "            new_layer = new_layer_cls(**kwargs)\n",
    "            new_layer.weight.data = layer.weight.data\n",
    "\n",
    "            # Replace the layer in the model\n",
    "            deepsetattr(trial_model, name, new_layer)\n",
    "\n",
    "    return trial_model\n",
    "\n",
    "\n",
    "\n",
    "def objective(trial):\n",
    "\n",
    "    # Define the model\n",
    "    model = construct_model(trial)\n",
    "\n",
    "    trainer = get_trainer(\n",
    "        model=model,\n",
    "        tokenized_dataset=dataset,\n",
    "        tokenizer=tokenizer,\n",
    "        evaluate_metric=\"accuracy\",\n",
    "        num_train_epochs=1,\n",
    "    )\n",
    "\n",
    "    trainer.train()\n",
    "\n",
    "    # 获取当前 trial 结果\n",
    "    eval_results = trainer.evaluate()\n",
    "    \n",
    "    accuracy = eval_results[\"eval_accuracy\"]\n",
    "    trial_number = trial.number\n",
    "\n",
    "    # 实时保存到 JSON 文件\n",
    "    log_data = {\n",
    "        \"trial\": trial_number,\n",
    "        \"accuracy\": accuracy,\n",
    "        \"params\": trial.params # 记录所有超参数\n",
    "    }\n",
    "\n",
    "    # 追加写入 JSON 文件\n",
    "    with open(\"lab3_task2_LinearLog.json\", \"a\") as f:\n",
    "        f.write(json.dumps(log_data) + \"\\n\")\n",
    "\n",
    "    trial.set_user_attr(\"model\", model)\n",
    "\n",
    "    return eval_results[\"eval_accuracy\"]\n",
    "\n",
    "\n",
    "\n",
    "\n",
    "sampler = TPESampler()\n",
    "n_trial = 10\n",
    "\n",
    "study = optuna.create_study(\n",
    "    direction=\"maximize\",\n",
    "    study_name=\"bert-tiny-nas-study\",\n",
    "    sampler=sampler,\n",
    ")\n",
    "\n",
    "study.optimize(\n",
    "    objective,\n",
    "    n_trials=n_trial,\n",
    "    timeout=60 * 60 * 24,\n",
    ")\n",
    "\n",
    "# # 获取所有 trial 的准确率\n",
    "# trial_numbers = [t.number for t in study.trials if t.value is not None]\n",
    "# accuracies = [t.value for t in study.trials if t.value is not None]\n",
    "\n",
    "# # 计算累积最大准确率\n",
    "# best_so_far = np.maximum.accumulate(accuracies)\n",
    "\n",
    "# # 绘制 \"n_trials vs. best accuracy\" 曲线\n",
    "# plt.figure(figsize=(8, 6))\n",
    "# plt.plot(trial_numbers, best_so_far, marker='o', linestyle='-', label=\"TPESampler\")\n",
    "\n",
    "# plt.xlabel(\"Number of Trials\")\n",
    "# plt.ylabel(\"Best Accuracy Achieved\")\n",
    "# plt.title(\" Search Performance on BERT-tiny NAS\")\n",
    "# plt.legend()\n",
    "# plt.grid(True)\n",
    "# plt.show()"
   ]
  },
  {
   "cell_type": "code",
   "execution_count": 25,
   "metadata": {},
   "outputs": [
    {
     "data": {
      "image/png": "[encoded data removed]",
      "text/plain": [
       "<Figure size 1000x600 with 1 Axes>"
      ]
     },
     "metadata": {},
     "output_type": "display_data"
    }
   ],
   "source": [
    "import json\n",
    "import pandas as pd\n",
    "import matplotlib.pyplot as plt\n",
    "import seaborn as sns\n",
    "import numpy as np\n",
    "\n",
    "# 读取 JSON 数据\n",
    "file_path = \"lab3_task2_LinearBinary.json\"  # 你的 JSON 文件路径\n",
    "with open(file_path, \"r\") as f:\n",
    "    trials = [json.loads(line) for line in f]\n",
    "\n",
    "# 解析数据\n",
    "records = []\n",
    "for trial in trials:\n",
    "    params = trial[\"params\"]\n",
    "    records.append({\n",
    "        \"trial\": trial[\"trial\"],\n",
    "        \"accuracy\": trial[\"accuracy\"],\n",
    "        \"classifier_type\": params.get(\"classifier_type\", \"Unknown\")  # 获取 classifier_type\n",
    "    })\n",
    "\n",
    "# 转换为 DataFrame\n",
    "df = pd.DataFrame(records)\n",
    "df[\"max_accuracy\"] = df.groupby(\"classifier_type\")[\"accuracy\"].cummax()\n",
    "\n",
    "# 设置 Seaborn 样式\n",
    "sns.set(style=\"whitegrid\")\n",
    "\n",
    "# 画折线图\n",
    "plt.figure(figsize=(10, 6))\n",
    "sns.lineplot(data=df, x=\"trial\", y=\"max_accuracy\", hue=\"classifier_type\", marker=\"o\")\n",
    "\n",
    "# **自定义纵坐标比例：0.5-0.8 更紧凑，0.8+ 变宽**\n",
    "def custom_scale(y):\n",
    "    return np.where(y < 0.865, y * 0.2 + 0.64, (y - 0.865) * 2 + 0.865)  \n",
    "    # 0.5-0.8 压缩到 20% 间距，0.8+ 放大 2 倍\n",
    "\n",
    "def custom_inverse(y):\n",
    "    return np.where(y < 0.865, (y - 0.64) / 0.2, (y - 0.865) / 2 + 0.865)  \n",
    "    # 逆变换，确保数据映射正确\n",
    "\n",
    "plt.gca().set_yscale('function', functions=(custom_scale, custom_inverse))\n",
    "\n",
    "# 设置标题和标签\n",
    "plt.title(\"Accuracy vs. Trial for Different Classifier Types\")\n",
    "plt.xlabel(\"Trial\")\n",
    "plt.ylabel(\"Accuracy\")\n",
    "plt.legend(title=\"Classifier Type\")\n",
    "\n",
    "# 显示图像\n",
    "plt.show()\n"
   ]
  }
 ],
 "metadata": {
  "kernelspec": {
   "display_name": "mase",
   "language": "python",
   "name": "python3"
  },
  "language_info": {
   "codemirror_mode": {
    "name": "ipython",
    "version": 3
   },
   "file_extension": ".py",
   "mimetype": "text/x-python",
   "name": "python",
   "nbconvert_exporter": "python",
   "pygments_lexer": "ipython3",
   "version": "3.11.9"
  }
 },
 "nbformat": 4,
 "nbformat_minor": 2
}
